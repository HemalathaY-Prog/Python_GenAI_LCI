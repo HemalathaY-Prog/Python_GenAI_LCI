{
  "nbformat": 4,
  "nbformat_minor": 0,
  "metadata": {
    "colab": {
      "provenance": [],
      "authorship_tag": "ABX9TyPhrYyFkEuN1PQOVGS9/Xhs",
      "include_colab_link": true
    },
    "kernelspec": {
      "name": "python3",
      "display_name": "Python 3"
    },
    "language_info": {
      "name": "python"
    }
  },
  "cells": [
    {
      "cell_type": "markdown",
      "metadata": {
        "id": "view-in-github",
        "colab_type": "text"
      },
      "source": [
        "<a href=\"https://colab.research.google.com/github/HemalathaY-Prog/Python_GenAI_LCI/blob/main/strings.ipynb\" target=\"_parent\"><img src=\"https://colab.research.google.com/assets/colab-badge.svg\" alt=\"Open In Colab\"/></a>"
      ]
    },
    {
      "cell_type": "code",
      "execution_count": 1,
      "metadata": {
        "id": "I2s7VxJ3iB74",
        "outputId": "6941460a-8970-4364-c5b7-b579523b74a5",
        "colab": {
          "base_uri": "https://localhost:8080/"
        }
      },
      "outputs": [
        {
          "output_type": "stream",
          "name": "stdout",
          "text": [
            "Python\n",
            "python\n",
            "python\n",
            " This\n",
            "is a\n",
            "multiline\n",
            "string\n",
            " This\n",
            "is a\n",
            "multiline\n",
            "string \n"
          ]
        }
      ],
      "source": [
        "# create strings\n",
        "\n",
        "my_string = \"Python\"\n",
        "print(my_string)\n",
        "\n",
        "# triple quotes\n",
        "my_string = \"\"\"python\"\"\"\n",
        "print(my_string)\n",
        "\n",
        "my_string = '''python'''\n",
        "print(my_string)\n",
        "\n",
        "my_string = \"\"\" This\n",
        "is a\n",
        "multiline\n",
        "string\"\"\"\n",
        "\n",
        "print(my_string)\n",
        "\n",
        "my_string = ''' This\n",
        "is a\n",
        "multiline\n",
        "string '''\n",
        "print(my_string)"
      ]
    },
    {
      "cell_type": "code",
      "source": [
        "# unicode characters\n",
        "my_string = u\"\\u00e5ccenture\"\n",
        "print(my_string)\n",
        "\n",
        "# hex representation of unicode\n",
        "my_string = '\\xe5'\n",
        "print(my_string)\n",
        "\n",
        "# octal reprentation of unicode\n",
        "my_string = '\\345'\n",
        "print(my_string)\n",
        "\n",
        "# raw strings\n",
        "raw_string = r\"This is raw \\n string \"\n",
        "print(raw_string)"
      ],
      "metadata": {
        "id": "ElYYjEpLiEo2",
        "outputId": "33c99c06-ab53-4ad0-a334-97fa383697b5",
        "colab": {
          "base_uri": "https://localhost:8080/"
        }
      },
      "execution_count": 7,
      "outputs": [
        {
          "output_type": "stream",
          "name": "stdout",
          "text": [
            "åccenture\n",
            "å\n",
            "å\n",
            "This is raw \\n string \n"
          ]
        }
      ]
    },
    {
      "cell_type": "code",
      "source": [
        "# int to string\n",
        "\n",
        "s1 = str(10)\n",
        "print(s1, type(s1))\n",
        "\n",
        "# Similarly, to convert a float into a string, you can also use the str() function.\n",
        "s1 = str(3.14)\n",
        "print(s1 , type(s1))"
      ],
      "metadata": {
        "id": "y3B28HALjSkB",
        "outputId": "b6c7f5bf-04c2-44aa-ae98-eded907a427b",
        "colab": {
          "base_uri": "https://localhost:8080/"
        }
      },
      "execution_count": 8,
      "outputs": [
        {
          "output_type": "stream",
          "name": "stdout",
          "text": [
            "10 <class 'str'>\n",
            "3.14 <class 'str'>\n"
          ]
        }
      ]
    },
    {
      "cell_type": "code",
      "source": [
        "my_string = \"python\"\n",
        "for chr in my_string:\n",
        "    print(chr)"
      ],
      "metadata": {
        "id": "D1T8fEuPjlvK",
        "outputId": "2f8d7752-85a4-4d41-c739-1897c319a63e",
        "colab": {
          "base_uri": "https://localhost:8080/"
        }
      },
      "execution_count": 9,
      "outputs": [
        {
          "output_type": "stream",
          "name": "stdout",
          "text": [
            "p\n",
            "y\n",
            "t\n",
            "h\n",
            "o\n",
            "n\n"
          ]
        }
      ]
    },
    {
      "cell_type": "code",
      "source": [
        "my_string = 'python'\n",
        "for chr in my_string:\n",
        "    print(chr, end=' ')"
      ],
      "metadata": {
        "id": "_L_t9td4jrVH",
        "outputId": "d5856e4d-8859-463e-a60a-133479db9b0f",
        "colab": {
          "base_uri": "https://localhost:8080/"
        }
      },
      "execution_count": 10,
      "outputs": [
        {
          "output_type": "stream",
          "name": "stdout",
          "text": [
            "p y t h o n "
          ]
        }
      ]
    },
    {
      "cell_type": "code",
      "source": [
        "my_string = 'python'\n",
        "for chr in my_string:\n",
        "    print(chr, end=',')"
      ],
      "metadata": {
        "id": "FjtpF5Z-jtyz",
        "outputId": "b5c12fcd-1e99-4e88-c592-48f0051e550e",
        "colab": {
          "base_uri": "https://localhost:8080/"
        }
      },
      "execution_count": 11,
      "outputs": [
        {
          "output_type": "stream",
          "name": "stdout",
          "text": [
            "p,y,t,h,o,n,"
          ]
        }
      ]
    },
    {
      "cell_type": "code",
      "source": [
        "my_string = 'python'\n",
        "for chr in my_string:\n",
        "    print(chr, end='@')"
      ],
      "metadata": {
        "id": "LUMMxa_Fjwzg",
        "outputId": "c967e3f7-7d2f-4afa-f8e1-72bb517f2205",
        "colab": {
          "base_uri": "https://localhost:8080/"
        }
      },
      "execution_count": 12,
      "outputs": [
        {
          "output_type": "stream",
          "name": "stdout",
          "text": [
            "p@y@t@h@o@n@"
          ]
        }
      ]
    },
    {
      "cell_type": "code",
      "source": [
        "my_string = 'python'\n",
        "for i in range(len(my_string)):\n",
        "    print(i, \" = \", my_string[i])"
      ],
      "metadata": {
        "id": "sO8W-qZAjzhm",
        "outputId": "37754b6d-a3d1-40a8-9d65-c2df0efa59cd",
        "colab": {
          "base_uri": "https://localhost:8080/"
        }
      },
      "execution_count": 13,
      "outputs": [
        {
          "output_type": "stream",
          "name": "stdout",
          "text": [
            "0  =  p\n",
            "1  =  y\n",
            "2  =  t\n",
            "3  =  h\n",
            "4  =  o\n",
            "5  =  n\n"
          ]
        }
      ]
    },
    {
      "cell_type": "code",
      "source": [
        "# Access the characters in a string\n",
        "\n",
        "# The character index starts from 0 in Python.\n",
        "my_string = 'python'\n",
        "print(my_string[0])"
      ],
      "metadata": {
        "id": "6Q6pWDDIj3iR",
        "outputId": "be2dfb0c-a142-48ac-8df8-68d7c25644ab",
        "colab": {
          "base_uri": "https://localhost:8080/"
        }
      },
      "execution_count": 14,
      "outputs": [
        {
          "output_type": "stream",
          "name": "stdout",
          "text": [
            "p\n"
          ]
        }
      ]
    },
    {
      "cell_type": "code",
      "source": [
        "print(my_string[-1])\n",
        "print(my_string[len(my_string) - 1])"
      ],
      "metadata": {
        "id": "76H-rRrAkC-h",
        "outputId": "9d49ba22-874b-4711-d0df-1072585df40e",
        "colab": {
          "base_uri": "https://localhost:8080/"
        }
      },
      "execution_count": 15,
      "outputs": [
        {
          "output_type": "stream",
          "name": "stdout",
          "text": [
            "n\n",
            "n\n"
          ]
        }
      ]
    },
    {
      "cell_type": "code",
      "source": [
        "# slicing start index - inclusive, end index - exclusive\n",
        "my_string = \"Hello, World!\"\n",
        "print(my_string [7:12])  # Outputs: World"
      ],
      "metadata": {
        "id": "hBoMF3R0kEuk",
        "outputId": "2e5e80fa-f0fd-4673-fd25-55da817d55cf",
        "colab": {
          "base_uri": "https://localhost:8080/"
        }
      },
      "execution_count": 16,
      "outputs": [
        {
          "output_type": "stream",
          "name": "stdout",
          "text": [
            "World\n"
          ]
        }
      ]
    },
    {
      "cell_type": "code",
      "source": [
        "my_string = \"Hello, World!\"\n",
        "print(my_string[-6:-1])  # Outputs: World"
      ],
      "metadata": {
        "id": "RxlJ_rbtkZ5c",
        "outputId": "52a8e02a-08ca-45f7-fcc3-8f239d66476d",
        "colab": {
          "base_uri": "https://localhost:8080/"
        }
      },
      "execution_count": 17,
      "outputs": [
        {
          "output_type": "stream",
          "name": "stdout",
          "text": [
            "World\n"
          ]
        }
      ]
    },
    {
      "cell_type": "code",
      "source": [
        "my_string = \"Hello, World!\"\n",
        "print(my_string[12])  # Outputs: World"
      ],
      "metadata": {
        "id": "zEdvSJEJkeaB",
        "outputId": "23fb9f8b-7e5a-428c-e345-d84bfe6d9b1d",
        "colab": {
          "base_uri": "https://localhost:8080/"
        }
      },
      "execution_count": 19,
      "outputs": [
        {
          "output_type": "stream",
          "name": "stdout",
          "text": [
            "!\n"
          ]
        }
      ]
    },
    {
      "cell_type": "code",
      "source": [
        "my_string = \"Hello, World!\"\n",
        "print(my_string[:])  # Outputs: World"
      ],
      "metadata": {
        "id": "A68RE_jTkjmx",
        "outputId": "abe77465-e7bc-4fe6-c37b-8ab35ff8fb72",
        "colab": {
          "base_uri": "https://localhost:8080/"
        }
      },
      "execution_count": 25,
      "outputs": [
        {
          "output_type": "stream",
          "name": "stdout",
          "text": [
            "Hello, World!\n"
          ]
        }
      ]
    },
    {
      "cell_type": "code",
      "source": [
        "my_string = \"Hello, World!\"\n",
        "print(my_string[:-1])  # Outputs: World"
      ],
      "metadata": {
        "id": "Rf0e0W0ykvdJ",
        "outputId": "904c70b9-ca3a-4c0d-b33a-38fc9e0c4d4f",
        "colab": {
          "base_uri": "https://localhost:8080/"
        }
      },
      "execution_count": 21,
      "outputs": [
        {
          "output_type": "stream",
          "name": "stdout",
          "text": [
            "Hello, World\n"
          ]
        }
      ]
    },
    {
      "cell_type": "code",
      "source": [
        "my_string = \"Hello, World!\"\n",
        "print(my_string[7:])  # Outputs: World!\n",
        "print(my_string[:5])  # Outputs: Hello"
      ],
      "metadata": {
        "id": "TE_42uWMk0DQ",
        "outputId": "1205224a-2c08-4a5f-f806-12cb3191ec20",
        "colab": {
          "base_uri": "https://localhost:8080/"
        }
      },
      "execution_count": 26,
      "outputs": [
        {
          "output_type": "stream",
          "name": "stdout",
          "text": [
            "World!\n",
            "Hello\n"
          ]
        }
      ]
    },
    {
      "cell_type": "code",
      "source": [
        "my_string = \"Hello, World!\"\n",
        "print(my_string[::2])  # Outputs: Hlo ol!"
      ],
      "metadata": {
        "id": "X-vcQ2CslKby",
        "outputId": "b9f7436f-f438-4b94-eb56-7bd9f89f7c9e",
        "colab": {
          "base_uri": "https://localhost:8080/"
        }
      },
      "execution_count": 27,
      "outputs": [
        {
          "output_type": "stream",
          "name": "stdout",
          "text": [
            "Hlo ol!\n"
          ]
        }
      ]
    },
    {
      "cell_type": "code",
      "source": [
        "my_string = \"Hello, World!\"\n",
        "print(my_string[::-1])  # Outputs: Hlo ol!"
      ],
      "metadata": {
        "id": "VHp9rTqulTNN",
        "outputId": "e84f8983-9c2a-46a9-f75b-6a992b3d425f",
        "colab": {
          "base_uri": "https://localhost:8080/"
        }
      },
      "execution_count": 28,
      "outputs": [
        {
          "output_type": "stream",
          "name": "stdout",
          "text": [
            "!dlroW ,olleH\n"
          ]
        }
      ]
    },
    {
      "cell_type": "code",
      "source": [
        "# Index must be integer values\n",
        "print(my_string[2.0])   # error\n",
        "\n",
        "#Index must be in range\n",
        "print(my_string[7]) # IndexError: string index out of range"
      ],
      "metadata": {
        "id": "ZGDhCtRolWlU",
        "outputId": "a843f7c0-985e-4f25-e4d4-8f3c30d73c49",
        "colab": {
          "base_uri": "https://localhost:8080/",
          "height": 211
        }
      },
      "execution_count": 29,
      "outputs": [
        {
          "output_type": "error",
          "ename": "TypeError",
          "evalue": "string indices must be integers",
          "traceback": [
            "\u001b[0;31m---------------------------------------------------------------------------\u001b[0m",
            "\u001b[0;31mTypeError\u001b[0m                                 Traceback (most recent call last)",
            "\u001b[0;32m<ipython-input-29-34cf8c3d9754>\u001b[0m in \u001b[0;36m<cell line: 2>\u001b[0;34m()\u001b[0m\n\u001b[1;32m      1\u001b[0m \u001b[0;31m# Index must be integer values\u001b[0m\u001b[0;34m\u001b[0m\u001b[0;34m\u001b[0m\u001b[0m\n\u001b[0;32m----> 2\u001b[0;31m \u001b[0mprint\u001b[0m\u001b[0;34m(\u001b[0m\u001b[0mmy_string\u001b[0m\u001b[0;34m[\u001b[0m\u001b[0;36m2.0\u001b[0m\u001b[0;34m]\u001b[0m\u001b[0;34m)\u001b[0m   \u001b[0;31m# error\u001b[0m\u001b[0;34m\u001b[0m\u001b[0;34m\u001b[0m\u001b[0m\n\u001b[0m\u001b[1;32m      3\u001b[0m \u001b[0;34m\u001b[0m\u001b[0m\n\u001b[1;32m      4\u001b[0m \u001b[0;31m#Index must be in range\u001b[0m\u001b[0;34m\u001b[0m\u001b[0;34m\u001b[0m\u001b[0m\n\u001b[1;32m      5\u001b[0m \u001b[0mprint\u001b[0m\u001b[0;34m(\u001b[0m\u001b[0mmy_string\u001b[0m\u001b[0;34m[\u001b[0m\u001b[0;36m7\u001b[0m\u001b[0;34m]\u001b[0m\u001b[0;34m)\u001b[0m \u001b[0;31m# IndexError: string index out of range\u001b[0m\u001b[0;34m\u001b[0m\u001b[0;34m\u001b[0m\u001b[0m\n",
            "\u001b[0;31mTypeError\u001b[0m: string indices must be integers"
          ]
        }
      ]
    },
    {
      "cell_type": "code",
      "source": [
        "#Index must be in range\n",
        "print(my_string[7:]) # IndexError: string index out of range"
      ],
      "metadata": {
        "id": "YfBLSkLnldB-",
        "outputId": "97ad95d2-5687-4c92-ce3e-09759f2ceebb",
        "colab": {
          "base_uri": "https://localhost:8080/"
        }
      },
      "execution_count": 30,
      "outputs": [
        {
          "output_type": "stream",
          "name": "stdout",
          "text": [
            "World!\n"
          ]
        }
      ]
    },
    {
      "cell_type": "code",
      "source": [
        "my_string= \"Hello\"\n",
        "print(my_string)  # Output: Hello\n",
        "\n",
        "# Reassigning a new value to str1\n",
        "my_string= \"World\"\n",
        "print(my_string)  # Output: World"
      ],
      "metadata": {
        "id": "ytuntk1Dllt9",
        "outputId": "92d57684-aad1-4624-dcef-d617e84fe0af",
        "colab": {
          "base_uri": "https://localhost:8080/"
        }
      },
      "execution_count": 31,
      "outputs": [
        {
          "output_type": "stream",
          "name": "stdout",
          "text": [
            "Hello\n",
            "World\n"
          ]
        }
      ]
    },
    {
      "cell_type": "code",
      "source": [
        "my_string= \"Hello\"\n",
        "my_string[0] = \"M\"  # This will give TypeError: 'str' object does not support item assignment"
      ],
      "metadata": {
        "id": "7T6ISjDLltTR",
        "outputId": "92d64cf5-5f6d-48d2-f845-6d73df2a5960",
        "colab": {
          "base_uri": "https://localhost:8080/",
          "height": 159
        }
      },
      "execution_count": 32,
      "outputs": [
        {
          "output_type": "error",
          "ename": "TypeError",
          "evalue": "'str' object does not support item assignment",
          "traceback": [
            "\u001b[0;31m---------------------------------------------------------------------------\u001b[0m",
            "\u001b[0;31mTypeError\u001b[0m                                 Traceback (most recent call last)",
            "\u001b[0;32m<ipython-input-32-8d2b5647d747>\u001b[0m in \u001b[0;36m<cell line: 2>\u001b[0;34m()\u001b[0m\n\u001b[1;32m      1\u001b[0m \u001b[0mmy_string\u001b[0m\u001b[0;34m=\u001b[0m \u001b[0;34m\"Hello\"\u001b[0m\u001b[0;34m\u001b[0m\u001b[0;34m\u001b[0m\u001b[0m\n\u001b[0;32m----> 2\u001b[0;31m \u001b[0mmy_string\u001b[0m\u001b[0;34m[\u001b[0m\u001b[0;36m0\u001b[0m\u001b[0;34m]\u001b[0m \u001b[0;34m=\u001b[0m \u001b[0;34m\"M\"\u001b[0m  \u001b[0;31m# This will give TypeError: 'str' object does not support item assignment\u001b[0m\u001b[0;34m\u001b[0m\u001b[0;34m\u001b[0m\u001b[0m\n\u001b[0m",
            "\u001b[0;31mTypeError\u001b[0m: 'str' object does not support item assignment"
          ]
        }
      ]
    },
    {
      "cell_type": "code",
      "source": [
        "my_string = \"Hello\"\n",
        "new_string = \"M\" + my_string[1:]  # Create a new string with the desired modification\n",
        "print(new_string)  # Output: Mello"
      ],
      "metadata": {
        "id": "6j1fqhyklu9s",
        "outputId": "bbda107e-3af2-4f16-9a6e-c529688e97f7",
        "colab": {
          "base_uri": "https://localhost:8080/"
        }
      },
      "execution_count": 33,
      "outputs": [
        {
          "output_type": "stream",
          "name": "stdout",
          "text": [
            "Mello\n"
          ]
        }
      ]
    },
    {
      "cell_type": "code",
      "source": [
        "# Delete a string\n",
        "\n",
        "del my_string[0]\n",
        "print(my_string) # TypeError: 'str' object doesn't support item deletion"
      ],
      "metadata": {
        "id": "ok7U9l1fl6eI",
        "outputId": "b453cc7a-a5a6-4c77-dbbb-565c7e5cfe50",
        "colab": {
          "base_uri": "https://localhost:8080/",
          "height": 193
        }
      },
      "execution_count": 34,
      "outputs": [
        {
          "output_type": "error",
          "ename": "TypeError",
          "evalue": "'str' object doesn't support item deletion",
          "traceback": [
            "\u001b[0;31m---------------------------------------------------------------------------\u001b[0m",
            "\u001b[0;31mTypeError\u001b[0m                                 Traceback (most recent call last)",
            "\u001b[0;32m<ipython-input-34-fcd7425bcc71>\u001b[0m in \u001b[0;36m<cell line: 3>\u001b[0;34m()\u001b[0m\n\u001b[1;32m      1\u001b[0m \u001b[0;31m# Delete a string\u001b[0m\u001b[0;34m\u001b[0m\u001b[0;34m\u001b[0m\u001b[0m\n\u001b[1;32m      2\u001b[0m \u001b[0;34m\u001b[0m\u001b[0m\n\u001b[0;32m----> 3\u001b[0;31m \u001b[0;32mdel\u001b[0m \u001b[0mmy_string\u001b[0m\u001b[0;34m[\u001b[0m\u001b[0;36m0\u001b[0m\u001b[0;34m]\u001b[0m\u001b[0;34m\u001b[0m\u001b[0;34m\u001b[0m\u001b[0m\n\u001b[0m\u001b[1;32m      4\u001b[0m \u001b[0mprint\u001b[0m\u001b[0;34m(\u001b[0m\u001b[0mmy_string\u001b[0m\u001b[0;34m)\u001b[0m \u001b[0;31m# TypeError: 'str' object doesn't support item deletion\u001b[0m\u001b[0;34m\u001b[0m\u001b[0;34m\u001b[0m\u001b[0m\n",
            "\u001b[0;31mTypeError\u001b[0m: 'str' object doesn't support item deletion"
          ]
        }
      ]
    },
    {
      "cell_type": "code",
      "source": [
        "my_string = \"Hello, World!\"\n",
        "new_str = my_string.replace(\"World\", \"\") # Call replace on the string instance 'my_string'\n",
        "print(new_str) # Output: Hello, !"
      ],
      "metadata": {
        "id": "fivX3WY2mDza",
        "outputId": "91748ef7-128b-4e62-b002-a27ab043a682",
        "colab": {
          "base_uri": "https://localhost:8080/"
        }
      },
      "execution_count": 39,
      "outputs": [
        {
          "output_type": "stream",
          "name": "stdout",
          "text": [
            "Hello, !\n"
          ]
        }
      ]
    },
    {
      "cell_type": "code",
      "source": [
        "my_string = \"Hello, World!\"\n",
        "del my_string\n",
        "\n",
        "# NameError: name 'my_string' is not defined\n",
        "print(my_string)"
      ],
      "metadata": {
        "id": "gHCmT5mFmHUD",
        "outputId": "af9c9f6a-55b6-44fd-a43f-f61839fb87d6",
        "colab": {
          "base_uri": "https://localhost:8080/",
          "height": 176
        }
      },
      "execution_count": 40,
      "outputs": [
        {
          "output_type": "error",
          "ename": "NameError",
          "evalue": "name 'my_string' is not defined",
          "traceback": [
            "\u001b[0;31m---------------------------------------------------------------------------\u001b[0m",
            "\u001b[0;31mNameError\u001b[0m                                 Traceback (most recent call last)",
            "\u001b[0;32m<ipython-input-40-fe385b5dfddd>\u001b[0m in \u001b[0;36m<cell line: 5>\u001b[0;34m()\u001b[0m\n\u001b[1;32m      3\u001b[0m \u001b[0;34m\u001b[0m\u001b[0m\n\u001b[1;32m      4\u001b[0m \u001b[0;31m# NameError: name 'my_string' is not defined\u001b[0m\u001b[0;34m\u001b[0m\u001b[0;34m\u001b[0m\u001b[0m\n\u001b[0;32m----> 5\u001b[0;31m \u001b[0mprint\u001b[0m\u001b[0;34m(\u001b[0m\u001b[0mmy_string\u001b[0m\u001b[0;34m)\u001b[0m\u001b[0;34m\u001b[0m\u001b[0;34m\u001b[0m\u001b[0m\n\u001b[0m",
            "\u001b[0;31mNameError\u001b[0m: name 'my_string' is not defined"
          ]
        }
      ]
    },
    {
      "cell_type": "markdown",
      "source": [
        "# Concatenation and repetition"
      ],
      "metadata": {
        "id": "GMNYU_jWmkxN"
      }
    },
    {
      "cell_type": "code",
      "source": [
        "string1 = \"Hello\"\n",
        "string2 = \"World\"\n",
        "result = string1 + \" \" + string2  # Adds a space between the strings\n",
        "print(result)  # Outputs: Hello World"
      ],
      "metadata": {
        "id": "2gwL_t5kmogk",
        "outputId": "8bab5f0e-741f-420f-dfcd-33a73520ee1d",
        "colab": {
          "base_uri": "https://localhost:8080/"
        }
      },
      "execution_count": 41,
      "outputs": [
        {
          "output_type": "stream",
          "name": "stdout",
          "text": [
            "Hello World\n"
          ]
        }
      ]
    },
    {
      "cell_type": "code",
      "source": [
        "string = \"Hello \"\n",
        "result = string * 3  # Repeats the string 3 times\n",
        "print(result)  # Outputs: HelloHelloHello"
      ],
      "metadata": {
        "id": "NdduTH3dmqb8",
        "outputId": "c2f8447b-c7f5-483b-c159-856fb3a94c9e",
        "colab": {
          "base_uri": "https://localhost:8080/"
        }
      },
      "execution_count": 43,
      "outputs": [
        {
          "output_type": "stream",
          "name": "stdout",
          "text": [
            "Hello Hello Hello \n"
          ]
        }
      ]
    },
    {
      "cell_type": "code",
      "source": [
        "# concatenation and repeatitions\n",
        "\n",
        "s1 = \"Hello \"\n",
        "s2 = \"World\"\n",
        "\n",
        "# '+' to concatenate two strings\n",
        "print(s1 + s2)\n",
        "\n",
        "# repeating using *\n",
        "\n",
        "print(s1 * 3)"
      ],
      "metadata": {
        "id": "8oIZYDCumsMH",
        "outputId": "b85f1f0f-426e-42f0-d68d-4f77f10c0039",
        "colab": {
          "base_uri": "https://localhost:8080/"
        }
      },
      "execution_count": 44,
      "outputs": [
        {
          "output_type": "stream",
          "name": "stdout",
          "text": [
            "Hello World\n",
            "Hello Hello Hello \n"
          ]
        }
      ]
    },
    {
      "cell_type": "code",
      "source": [
        "#writing two string togethers\n",
        "\n",
        "s1 = \"Hello\"  \" World\"\n",
        "print(s1)\n",
        "\n",
        "# ()\n",
        "\n",
        "s1 = (\"Hello \"\n",
        "    \"world\")\n",
        "print(s1)"
      ],
      "metadata": {
        "id": "SEQEW_oTmyQA",
        "outputId": "cf9ca9fd-15cc-4ea1-d3a1-623670e143ec",
        "colab": {
          "base_uri": "https://localhost:8080/"
        }
      },
      "execution_count": 46,
      "outputs": [
        {
          "output_type": "stream",
          "name": "stdout",
          "text": [
            "Hello World\n",
            "Hello world\n"
          ]
        }
      ]
    },
    {
      "cell_type": "markdown",
      "source": [
        "**Memeber ship operatoros**\n",
        "In and notin"
      ],
      "metadata": {
        "id": "E0WIl8aLnKEg"
      }
    },
    {
      "cell_type": "code",
      "source": [
        "my_string = \"python\"\n",
        "\n",
        "print(\"p\" in my_string )  # Outputs: True\n",
        "print(\"P\" not in my_string )  # Outputs: True (case sensitive)"
      ],
      "metadata": {
        "id": "ZdSQwDKonSvt",
        "outputId": "72175108-655b-41c1-9d8c-92606ce81add",
        "colab": {
          "base_uri": "https://localhost:8080/"
        }
      },
      "execution_count": 47,
      "outputs": [
        {
          "output_type": "stream",
          "name": "stdout",
          "text": [
            "True\n",
            "True\n"
          ]
        }
      ]
    },
    {
      "cell_type": "code",
      "source": [
        "# String methods\n",
        "my_string =\"python Programming\"\n",
        "\n",
        "# lower case\n",
        "print(my_string.lower())\n",
        "\n",
        "# upper\n",
        "print(my_string.upper())\n",
        "\n",
        "#capitalize\n",
        "print(my_string.capitalize())\n",
        "\n",
        "#title\n",
        "print(my_string.title())\n",
        "\n",
        "# split()\n",
        "my_string = \"Python;is;awesome\"\n",
        "print(my_string.split(';'))"
      ],
      "metadata": {
        "id": "M4PybhrznTo8",
        "outputId": "f7698d1a-2d04-4812-e0be-c23505f486eb",
        "colab": {
          "base_uri": "https://localhost:8080/"
        }
      },
      "execution_count": 48,
      "outputs": [
        {
          "output_type": "stream",
          "name": "stdout",
          "text": [
            "python programming\n",
            "PYTHON PROGRAMMING\n",
            "Python programming\n",
            "Python Programming\n",
            "['Python', 'is', 'awesome']\n"
          ]
        }
      ]
    },
    {
      "cell_type": "code",
      "source": [
        "# String methods\n",
        "my_string =\"python Programming\"\n",
        "\n",
        "# strip case\n",
        "print(my_string.strip())\n",
        "\n",
        "# upper\n",
        "print(my_string.replace('Programming','Language'))\n",
        "\n",
        "#join\n",
        "print(my_string.join(','))\n",
        "\n",
        "#find\n",
        "print(my_string.find('Programming'))\n",
        "\n",
        "#count\n",
        "print(my_string.count('p'))\n",
        "\n",
        "# startswith()\n",
        "my_string = \"Python is awesome\"\n",
        "print(my_string.startswith('p'))  # Outputs: True\n",
        "print(my_string.endswith('e'))  # Outputs: True"
      ],
      "metadata": {
        "id": "8u4eH7XkngJS",
        "outputId": "b2d52623-7e2d-45d7-d1ab-bebf40ba0afe",
        "colab": {
          "base_uri": "https://localhost:8080/"
        }
      },
      "execution_count": 51,
      "outputs": [
        {
          "output_type": "stream",
          "name": "stdout",
          "text": [
            "python Programming\n",
            "python Language\n",
            ",\n",
            "7\n",
            "1\n",
            "False\n",
            "True\n"
          ]
        }
      ]
    },
    {
      "cell_type": "code",
      "source": [
        "# prompt: join method in strings\n",
        "\n",
        "# Example 1: Joining a list of strings\n",
        "words = [\"Hello\", \"world\", \"!\"]\n",
        "joined_string = \" \".join(words)\n",
        "print(joined_string)  # Output: Hello world !\n",
        "\n",
        "# Example 2: Joining a tuple of strings\n",
        "colors = (\"red\", \"green\", \"blue\")\n",
        "joined_colors = \", \".join(colors)\n",
        "print(joined_colors)  # Output: red, green, blue\n",
        "\n",
        "# Example 3: Joining strings with a custom separator\n",
        "numbers = [\"1\", \"2\", \"3\", \"4\"]\n",
        "separator = \"-\"\n",
        "joined_numbers = separator.join(numbers)\n",
        "print(joined_numbers)  # Output: 1-2-3-4\n",
        "\n",
        "# Example 4: Joining elements of a set\n",
        "unique_letters = {'a', 'b', 'c'}\n",
        "joined_letters = ''.join(unique_letters)\n",
        "print(joined_letters)  # Output: (Order may vary since sets are unordered)\n",
        "\n",
        "# Example 5: Joining characters of a string\n",
        "message = \"Python\"\n",
        "joined_chars = \"_\".join(message)\n",
        "print(joined_chars)  # Output: P_y_t_h_o_n\n"
      ],
      "metadata": {
        "id": "zf5s48SYoYJE",
        "outputId": "c65d2c13-f645-4e1b-be5e-ee6c598eac66",
        "colab": {
          "base_uri": "https://localhost:8080/"
        }
      },
      "execution_count": 52,
      "outputs": [
        {
          "output_type": "stream",
          "name": "stdout",
          "text": [
            "Hello world !\n",
            "red, green, blue\n",
            "1-2-3-4\n",
            "acb\n",
            "P_y_t_h_o_n\n"
          ]
        }
      ]
    },
    {
      "cell_type": "markdown",
      "source": [
        "**Formating**"
      ],
      "metadata": {
        "id": "JWPIVkFmpCr_"
      }
    },
    {
      "cell_type": "code",
      "source": [
        "age = 10\n",
        "name =\"Uttam\"\n",
        "\n",
        "print(\"Age = %d\"%age)\n",
        "print(\"Name = %s\"%name)\n",
        "\n",
        "print(\"%s is %d years old.\" % (name, age))\n",
        "print(\"{} is {} years old.\".format(name,age))\n",
        "print(f\"{name} is {age} years old.\")"
      ],
      "metadata": {
        "id": "JwGgMfDNo1JZ",
        "outputId": "c35b37f8-68be-4ce8-a3f2-945624532a59",
        "colab": {
          "base_uri": "https://localhost:8080/"
        }
      },
      "execution_count": 56,
      "outputs": [
        {
          "output_type": "stream",
          "name": "stdout",
          "text": [
            "Age = 10\n",
            "Name = Uttam\n",
            "Uttam is 10 years old.\n",
            "Uttam is 10 years old.\n",
            "Uttam is 10 years old.\n"
          ]
        }
      ]
    },
    {
      "cell_type": "code",
      "source": [
        "# default\n",
        "print(\"Today you will get {}, {}, and {}\".format('bread','butter','jam'))\n",
        "\n",
        "#positional\n",
        "\n",
        "print(\"Today you will get {2}, {1}, and {0}\".format('bread','butter','jam'))\n",
        "\n",
        "# keyword\n",
        "print(\"Today you will get {b}, {a}, and {c}\".format(a='bread',b='butter',c='jam'))"
      ],
      "metadata": {
        "id": "4x7nLPGcpGSv",
        "outputId": "a68b0ad6-a1e5-4441-bb95-45ed13fc154b",
        "colab": {
          "base_uri": "https://localhost:8080/"
        }
      },
      "execution_count": 54,
      "outputs": [
        {
          "output_type": "stream",
          "name": "stdout",
          "text": [
            "Today you will get bread, butter, and jam\n",
            "Today you will get jam, butter, and bread\n",
            "Today you will get butter, bread, and jam\n"
          ]
        }
      ]
    },
    {
      "cell_type": "code",
      "source": [
        "name = \"John\"\n",
        "print(f\"Hello, {name}!\")"
      ],
      "metadata": {
        "id": "YpGCP4HOpPTG",
        "outputId": "cb128daf-4584-42a2-9c53-d8fc7daa5259",
        "colab": {
          "base_uri": "https://localhost:8080/"
        }
      },
      "execution_count": 57,
      "outputs": [
        {
          "output_type": "stream",
          "name": "stdout",
          "text": [
            "Hello, John!\n"
          ]
        }
      ]
    },
    {
      "cell_type": "code",
      "source": [],
      "metadata": {
        "id": "MX7_UoCkpdW_"
      },
      "execution_count": null,
      "outputs": []
    }
  ]
}