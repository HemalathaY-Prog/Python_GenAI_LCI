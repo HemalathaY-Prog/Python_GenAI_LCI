{
  "nbformat": 4,
  "nbformat_minor": 0,
  "metadata": {
    "colab": {
      "provenance": [],
      "authorship_tag": "ABX9TyNbZW1CKcCkkEy1T48TYndR",
      "include_colab_link": true
    },
    "kernelspec": {
      "name": "python3",
      "display_name": "Python 3"
    },
    "language_info": {
      "name": "python"
    }
  },
  "cells": [
    {
      "cell_type": "markdown",
      "metadata": {
        "id": "view-in-github",
        "colab_type": "text"
      },
      "source": [
        "<a href=\"https://colab.research.google.com/github/HemalathaY-Prog/Python_GenAI_LCI/blob/main/tuple.ipynb\" target=\"_parent\"><img src=\"https://colab.research.google.com/assets/colab-badge.svg\" alt=\"Open In Colab\"/></a>"
      ]
    },
    {
      "cell_type": "code",
      "execution_count": 5,
      "metadata": {
        "colab": {
          "base_uri": "https://localhost:8080/"
        },
        "id": "E-R1IcwtW8YA",
        "outputId": "8f3279d4-1561-48b9-de54-c43c33a25a15"
      },
      "outputs": [
        {
          "output_type": "stream",
          "name": "stdout",
          "text": [
            "(1, 2, 3, 'Python')\n"
          ]
        }
      ],
      "source": [
        "my_tuple = (1, 2, 3, 'Python')\n",
        "print(my_tuple)  # output: (1, 2, 3, 'Python')"
      ]
    },
    {
      "cell_type": "code",
      "source": [
        "my_list=tuple()\n",
        "print(my_list)"
      ],
      "metadata": {
        "colab": {
          "base_uri": "https://localhost:8080/"
        },
        "id": "_zpdx9Kxczts",
        "outputId": "b82348a1-30c7-44d4-92a1-c1c214ed7f67"
      },
      "execution_count": 3,
      "outputs": [
        {
          "output_type": "stream",
          "name": "stdout",
          "text": [
            "()\n"
          ]
        }
      ]
    },
    {
      "cell_type": "code",
      "source": [
        "print(my_tuple[0])  # Output: 1\n",
        "print(my_tuple[2])  # Output: 3"
      ],
      "metadata": {
        "colab": {
          "base_uri": "https://localhost:8080/"
        },
        "id": "76dN7jRrdGa_",
        "outputId": "1c489378-7f00-410a-9033-95e623d6e26d"
      },
      "execution_count": 6,
      "outputs": [
        {
          "output_type": "stream",
          "name": "stdout",
          "text": [
            "1\n",
            "3\n"
          ]
        }
      ]
    },
    {
      "cell_type": "code",
      "source": [
        "my_tuple[1] = 'A'   # This will raise a TypeError"
      ],
      "metadata": {
        "colab": {
          "base_uri": "https://localhost:8080/",
          "height": 141
        },
        "id": "-h41asdVc_NK",
        "outputId": "44015924-33ed-48b8-e798-4bd7c7034309"
      },
      "execution_count": 7,
      "outputs": [
        {
          "output_type": "error",
          "ename": "TypeError",
          "evalue": "'tuple' object does not support item assignment",
          "traceback": [
            "\u001b[0;31m---------------------------------------------------------------------------\u001b[0m",
            "\u001b[0;31mTypeError\u001b[0m                                 Traceback (most recent call last)",
            "\u001b[0;32m<ipython-input-7-14fbfcc7f415>\u001b[0m in \u001b[0;36m<cell line: 1>\u001b[0;34m()\u001b[0m\n\u001b[0;32m----> 1\u001b[0;31m \u001b[0mmy_tuple\u001b[0m\u001b[0;34m[\u001b[0m\u001b[0;36m1\u001b[0m\u001b[0;34m]\u001b[0m \u001b[0;34m=\u001b[0m \u001b[0;34m'A'\u001b[0m   \u001b[0;31m# This will raise a TypeError\u001b[0m\u001b[0;34m\u001b[0m\u001b[0;34m\u001b[0m\u001b[0m\n\u001b[0m",
            "\u001b[0;31mTypeError\u001b[0m: 'tuple' object does not support item assignment"
          ]
        }
      ]
    },
    {
      "cell_type": "code",
      "source": [
        "# Create an empty tuple\n",
        "my_tuple = ()\n",
        "print(my_tuple, type(my_tuple))\n",
        "\n",
        "my_tuple1 = tuple()\n",
        "print(my_tuple1, type(my_tuple1))"
      ],
      "metadata": {
        "colab": {
          "base_uri": "https://localhost:8080/"
        },
        "id": "6oZCwZgKdJFh",
        "outputId": "d6a55815-7c47-4c05-b048-0857a5c5794e"
      },
      "execution_count": 8,
      "outputs": [
        {
          "output_type": "stream",
          "name": "stdout",
          "text": [
            "() <class 'tuple'>\n",
            "() <class 'tuple'>\n"
          ]
        }
      ]
    },
    {
      "cell_type": "code",
      "source": [
        "# Create Tuple having integer\n",
        "my_tuple = (1,2,3,4)\n",
        "print(my_tuple)\n",
        "\n",
        "# Create Tuple with mixed data types\n",
        "my_tuple1 = (\"Sara\",21,34.5)\n",
        "print(my_tuple1)\n",
        "\n",
        "# Create Nested tuple\n",
        "my_tuple2 = ('Sara',21,3.14, [1,2,3],(4,5,6),{7,8},{\"eid\":1001,\"name\":\"Uttam\"})\n",
        "print(my_tuple2)"
      ],
      "metadata": {
        "colab": {
          "base_uri": "https://localhost:8080/"
        },
        "id": "yV1oa8aRdMw-",
        "outputId": "aa3b00d6-d50c-4ad9-a8b0-99e4881ec9e0"
      },
      "execution_count": 9,
      "outputs": [
        {
          "output_type": "stream",
          "name": "stdout",
          "text": [
            "(1, 2, 3, 4)\n",
            "('Sara', 21, 34.5)\n",
            "('Sara', 21, 3.14, [1, 2, 3], (4, 5, 6), {8, 7}, {'eid': 1001, 'name': 'Uttam'})\n"
          ]
        }
      ]
    },
    {
      "cell_type": "code",
      "source": [
        "# tuple can be created without parenthesis()\n",
        "# # parenthesis is optional\n",
        "\n",
        "my_tuple = 1, 'sara', 34.5\n",
        "print(my_tuple, type(my_tuple))"
      ],
      "metadata": {
        "colab": {
          "base_uri": "https://localhost:8080/"
        },
        "id": "d0-I52GFdRHj",
        "outputId": "8250620d-5115-4c9b-a163-51a29707da34"
      },
      "execution_count": 10,
      "outputs": [
        {
          "output_type": "stream",
          "name": "stdout",
          "text": [
            "(1, 'sara', 34.5) <class 'tuple'>\n"
          ]
        }
      ]
    },
    {
      "cell_type": "code",
      "source": [
        "#list to tuple\n",
        "my_list = [1, 2, 3, 4]\n",
        "print(tuple(my_list)) #output (1, 2, 3, 4)"
      ],
      "metadata": {
        "colab": {
          "base_uri": "https://localhost:8080/"
        },
        "id": "qrADyDWWdU1s",
        "outputId": "60317d3a-ce2a-4da1-a4f4-c7f0210411c5"
      },
      "execution_count": 11,
      "outputs": [
        {
          "output_type": "stream",
          "name": "stdout",
          "text": [
            "(1, 2, 3, 4)\n"
          ]
        }
      ]
    },
    {
      "cell_type": "code",
      "source": [
        "#set to tuple\n",
        "my_set = {1, 2, 3, 4}\n",
        "print(tuple(my_set)) #output (1, 2, 3, 4)"
      ],
      "metadata": {
        "colab": {
          "base_uri": "https://localhost:8080/"
        },
        "id": "y4NBE3n_dZhD",
        "outputId": "2cc5e8ef-faf0-410c-8b11-7a1ec3986336"
      },
      "execution_count": 12,
      "outputs": [
        {
          "output_type": "stream",
          "name": "stdout",
          "text": [
            "(1, 2, 3, 4)\n"
          ]
        }
      ]
    },
    {
      "cell_type": "code",
      "source": [
        "#dict to tuple\n",
        "my_dict = {1: 'a', 2: 'b', 3: 'c', 4: 'd'}\n",
        "print(tuple(my_dict)) #output (1, 2, 3, 4)"
      ],
      "metadata": {
        "colab": {
          "base_uri": "https://localhost:8080/"
        },
        "id": "aS57y9u9dbum",
        "outputId": "905ed232-13ae-45aa-81d0-5368e6c1e4bf"
      },
      "execution_count": 13,
      "outputs": [
        {
          "output_type": "stream",
          "name": "stdout",
          "text": [
            "(1, 2, 3, 4)\n"
          ]
        }
      ]
    },
    {
      "cell_type": "code",
      "source": [
        "my_dict = {1: 'a', 2: 'b', 3: 'c', 4: 'd'}\n",
        "print(tuple(my_dict.items())) #output (1, 2, 3, 4)"
      ],
      "metadata": {
        "colab": {
          "base_uri": "https://localhost:8080/"
        },
        "id": "r1A00GYbdegS",
        "outputId": "9043fa11-4cf2-4026-8d45-4416a364f414"
      },
      "execution_count": 14,
      "outputs": [
        {
          "output_type": "stream",
          "name": "stdout",
          "text": [
            "((1, 'a'), (2, 'b'), (3, 'c'), (4, 'd'))\n"
          ]
        }
      ]
    },
    {
      "cell_type": "code",
      "source": [
        "my_dict = {1: 'a', 2: 'b', 3: 'c', 4: 'd'}\n",
        "print(tuple(my_dict.values())) #output (1, 2, 3, 4)"
      ],
      "metadata": {
        "colab": {
          "base_uri": "https://localhost:8080/"
        },
        "id": "wXcGwsvzdhIo",
        "outputId": "3a7155d9-e7c1-4021-ce0d-86ca120b633c"
      },
      "execution_count": 15,
      "outputs": [
        {
          "output_type": "stream",
          "name": "stdout",
          "text": [
            "('a', 'b', 'c', 'd')\n"
          ]
        }
      ]
    },
    {
      "cell_type": "code",
      "source": [
        "my_dict = {1: 'a', 2: 'b', 3: 'c', 4: 'd'}\n",
        "print(tuple(my_dict.keys())) #output (1, 2, 3, 4)"
      ],
      "metadata": {
        "colab": {
          "base_uri": "https://localhost:8080/"
        },
        "id": "QfsjZYbZdjl_",
        "outputId": "f8a07283-6389-4726-9a74-4861ab970d1e"
      },
      "execution_count": 16,
      "outputs": [
        {
          "output_type": "stream",
          "name": "stdout",
          "text": [
            "(1, 2, 3, 4)\n"
          ]
        }
      ]
    },
    {
      "cell_type": "markdown",
      "source": [
        "# Packing and unpacking\n"
      ],
      "metadata": {
        "id": "L1ZLFXr4dthE"
      }
    },
    {
      "cell_type": "code",
      "source": [
        "packed_tuple = (\"iSpring\", \"AI\", 2022)\n",
        "print(packed_tuple)"
      ],
      "metadata": {
        "colab": {
          "base_uri": "https://localhost:8080/"
        },
        "id": "I4LptRfQdtOn",
        "outputId": "71153da6-aa1a-4f8b-889e-967b4f67e2e9"
      },
      "execution_count": 17,
      "outputs": [
        {
          "output_type": "stream",
          "name": "stdout",
          "text": [
            "('iSpring', 'AI', 2022)\n"
          ]
        }
      ]
    },
    {
      "cell_type": "code",
      "source": [
        "company, product, year = packed_tuple\n",
        "print(company)\n",
        "print(product)\n",
        "print(year)"
      ],
      "metadata": {
        "colab": {
          "base_uri": "https://localhost:8080/"
        },
        "id": "KQgoNwuvdleG",
        "outputId": "e1ea033f-de74-446b-ed95-b30f7e62eac0"
      },
      "execution_count": 19,
      "outputs": [
        {
          "output_type": "stream",
          "name": "stdout",
          "text": [
            "iSpring\n",
            "AI\n",
            "2022\n"
          ]
        }
      ]
    },
    {
      "cell_type": "markdown",
      "source": [
        "# Tuple with single element\n",
        "# **single tone**"
      ],
      "metadata": {
        "id": "bbfmCSqQeCtz"
      }
    },
    {
      "cell_type": "code",
      "source": [
        "#By using a trailing comma\n",
        "x = (50,)\n",
        "print(type(x))  # Outputs: <class 'tuple'>\n",
        "\n",
        "# parenthesis is optional,\n",
        "my_tuple = \"python\",\n",
        "print(my_tuple, type(my_tuple))\n"
      ],
      "metadata": {
        "colab": {
          "base_uri": "https://localhost:8080/"
        },
        "id": "Ri6gMdWld3bN",
        "outputId": "545dc2c7-fe4f-4cd5-9e7a-e846f0f582ba"
      },
      "execution_count": 24,
      "outputs": [
        {
          "output_type": "stream",
          "name": "stdout",
          "text": [
            "<class 'tuple'>\n",
            "('python',) <class 'tuple'>\n"
          ]
        }
      ]
    },
    {
      "cell_type": "code",
      "source": [
        "#by using tuple function\n",
        "x = tuple([50])\n",
        "print(type(x))  # Outputs:"
      ],
      "metadata": {
        "colab": {
          "base_uri": "https://localhost:8080/"
        },
        "id": "sMcgtzTueQv-",
        "outputId": "4a7b5ac4-3fff-4164-a0d7-592d65796edf"
      },
      "execution_count": 21,
      "outputs": [
        {
          "output_type": "stream",
          "name": "stdout",
          "text": [
            "<class 'tuple'>\n"
          ]
        }
      ]
    },
    {
      "cell_type": "code",
      "source": [
        "# without trailing comma\n",
        "my_tuple = (10.5)\n",
        "print(my_tuple, type(my_tuple)) #output float value"
      ],
      "metadata": {
        "colab": {
          "base_uri": "https://localhost:8080/"
        },
        "id": "LYHTzpz-efGQ",
        "outputId": "3ed1de46-3c91-400c-f825-5dd577019912"
      },
      "execution_count": 25,
      "outputs": [
        {
          "output_type": "stream",
          "name": "stdout",
          "text": [
            "10.5 <class 'float'>\n"
          ]
        }
      ]
    },
    {
      "cell_type": "markdown",
      "source": [
        "# Iteration"
      ],
      "metadata": {
        "id": "E2_cbH8peweD"
      }
    },
    {
      "cell_type": "code",
      "source": [
        "# define the tuple\n",
        "my_tuple = ('apple', 'banana', 'cherry')\n",
        "# iterate using a for loop\n",
        "for i in my_tuple:\n",
        "  print(i)\n",
        "\n"
      ],
      "metadata": {
        "colab": {
          "base_uri": "https://localhost:8080/"
        },
        "id": "56QqYE7Yet5G",
        "outputId": "b8b3b13e-db4c-4799-b028-850f180913f7"
      },
      "execution_count": 28,
      "outputs": [
        {
          "output_type": "stream",
          "name": "stdout",
          "text": [
            "apple\n",
            "banana\n",
            "cherry\n"
          ]
        }
      ]
    },
    {
      "cell_type": "code",
      "source": [
        "for i in range(len(my_tuple)):\n",
        "    print(f\"index = {i} and value = {my_tuple[i]}\")"
      ],
      "metadata": {
        "colab": {
          "base_uri": "https://localhost:8080/"
        },
        "id": "e82oAK4Dey6Z",
        "outputId": "10b536e1-0383-441d-a9bd-cd13dc347f1f"
      },
      "execution_count": 29,
      "outputs": [
        {
          "output_type": "stream",
          "name": "stdout",
          "text": [
            "index = 0 and value = apple\n",
            "index = 1 and value = banana\n",
            "index = 2 and value = cherry\n"
          ]
        }
      ]
    },
    {
      "cell_type": "code",
      "source": [
        "my_tuple = ('apple', 'banana', 'cherry')\n",
        "print(my_tuple[0])  # Output: apple\n",
        "print(my_tuple[2])  # Output: cherry"
      ],
      "metadata": {
        "colab": {
          "base_uri": "https://localhost:8080/"
        },
        "id": "eis6dK9Qe4Ki",
        "outputId": "4d0cbfba-00b3-4b0a-9374-1e3c40396819"
      },
      "execution_count": 30,
      "outputs": [
        {
          "output_type": "stream",
          "name": "stdout",
          "text": [
            "apple\n",
            "cherry\n"
          ]
        }
      ]
    },
    {
      "cell_type": "code",
      "source": [
        "my_tuple = ('apple', 'banana', 'cherry')\n",
        "print(my_tuple[-1])  # Output: cherry\n",
        "print(my_tuple[-3])  # Output: apple"
      ],
      "metadata": {
        "colab": {
          "base_uri": "https://localhost:8080/"
        },
        "id": "iwzpQoWoe_BY",
        "outputId": "8404ee42-e783-47db-91c7-d397d66c2b89"
      },
      "execution_count": 31,
      "outputs": [
        {
          "output_type": "stream",
          "name": "stdout",
          "text": [
            "cherry\n",
            "apple\n"
          ]
        }
      ]
    },
    {
      "cell_type": "markdown",
      "source": [
        "#Netsed tuple"
      ],
      "metadata": {
        "id": "OByneEy8fKQZ"
      }
    },
    {
      "cell_type": "code",
      "source": [
        "# creating a nested tuple\n",
        "nested_tuple = (\"apple\", (\"banana\", \"cherry\"))\n",
        "print(nested_tuple)\n",
        "\n",
        "nested_tuple[1][0] #output `\"banana\""
      ],
      "metadata": {
        "colab": {
          "base_uri": "https://localhost:8080/",
          "height": 53
        },
        "id": "fopmHq-8fAtD",
        "outputId": "39df3bdd-6b24-4440-88a3-8a9dc6e4c3a9"
      },
      "execution_count": 32,
      "outputs": [
        {
          "output_type": "stream",
          "name": "stdout",
          "text": [
            "('apple', ('banana', 'cherry'))\n"
          ]
        },
        {
          "output_type": "execute_result",
          "data": {
            "text/plain": [
              "'banana'"
            ],
            "application/vnd.google.colaboratory.intrinsic+json": {
              "type": "string"
            }
          },
          "metadata": {},
          "execution_count": 32
        }
      ]
    },
    {
      "cell_type": "markdown",
      "source": [
        "# Slicing"
      ],
      "metadata": {
        "id": "6hS5xJQIfSUT"
      }
    },
    {
      "cell_type": "code",
      "source": [
        "#Positive indexing\n",
        "myTuple = ('Python', 'Java', 'C++', 'JavaScript', 'Ruby')\n",
        "print(myTuple[1:4]) # Output: ('Java', 'C++', 'JavaScript')"
      ],
      "metadata": {
        "colab": {
          "base_uri": "https://localhost:8080/"
        },
        "id": "A04fJxExfM0x",
        "outputId": "8d6e9f56-1bb9-4d5b-e5b7-886615781ba9"
      },
      "execution_count": 33,
      "outputs": [
        {
          "output_type": "stream",
          "name": "stdout",
          "text": [
            "('Java', 'C++', 'JavaScript')\n"
          ]
        }
      ]
    },
    {
      "cell_type": "code",
      "source": [
        "#negative indexing\n",
        "myTuple = ('Python', 'Java', 'C++', 'JavaScript', 'Ruby')\n",
        "print(myTuple[-4:-1]) # Output: ('Java', 'C++', 'JavaScript')"
      ],
      "metadata": {
        "colab": {
          "base_uri": "https://localhost:8080/"
        },
        "id": "S4N2CmazfXcF",
        "outputId": "91ef25c0-f098-4cec-9518-53ebf616ad07"
      },
      "execution_count": 34,
      "outputs": [
        {
          "output_type": "stream",
          "name": "stdout",
          "text": [
            "('Java', 'C++', 'JavaScript')\n"
          ]
        }
      ]
    },
    {
      "cell_type": "code",
      "source": [
        "#skipping elements\n",
        "myTuple = ('Python', 'Java', 'C++', 'JavaScript', 'Ruby')\n",
        "print(myTuple[::2]) # Output: ('Python', 'C++', 'Ruby')"
      ],
      "metadata": {
        "colab": {
          "base_uri": "https://localhost:8080/"
        },
        "id": "LqE-bbizfavw",
        "outputId": "365525f2-67c3-4312-aee5-065dda034166"
      },
      "execution_count": 35,
      "outputs": [
        {
          "output_type": "stream",
          "name": "stdout",
          "text": [
            "('Python', 'C++', 'Ruby')\n"
          ]
        }
      ]
    },
    {
      "cell_type": "code",
      "source": [
        "#reverse slicing\n",
        "myTuple = ('Python', 'Java', 'C++', 'JavaScript', 'Ruby')\n",
        "print(myTuple[::-1]) # Output: ('Ruby', 'JavaScript', 'C++', 'Java', 'Python')"
      ],
      "metadata": {
        "colab": {
          "base_uri": "https://localhost:8080/"
        },
        "id": "VC2BtRghfgfS",
        "outputId": "470697f6-42c9-4372-a009-2e73eb07672e"
      },
      "execution_count": 36,
      "outputs": [
        {
          "output_type": "stream",
          "name": "stdout",
          "text": [
            "('Ruby', 'JavaScript', 'C++', 'Java', 'Python')\n"
          ]
        }
      ]
    },
    {
      "cell_type": "code",
      "source": [
        "num_tuple= (0, 1, 2, 3, 4, 5, 6, 7, 8, 9)\n",
        "print(num_tuple[0:5])  # Output: [0, 1, 2, 3, 4]\n",
        "print(num_tuple[5:])   # Output: [5, 6, 7, 8, 9]\n",
        "print(num_tuple[:5])   # Output: [0, 1, 2, 3, 4]\n",
        "print(num_tuple[:])    # Output: [0, 1, 2 3, 4, 5, 6, 7, 8, 9]"
      ],
      "metadata": {
        "colab": {
          "base_uri": "https://localhost:8080/"
        },
        "id": "Ys2YK_X_fmSx",
        "outputId": "2d224482-d8e5-4a0e-d964-7693dbc6b867"
      },
      "execution_count": 37,
      "outputs": [
        {
          "output_type": "stream",
          "name": "stdout",
          "text": [
            "(0, 1, 2, 3, 4)\n",
            "(5, 6, 7, 8, 9)\n",
            "(0, 1, 2, 3, 4)\n",
            "(0, 1, 2, 3, 4, 5, 6, 7, 8, 9)\n"
          ]
        }
      ]
    },
    {
      "cell_type": "markdown",
      "source": [
        "# Modifing elements"
      ],
      "metadata": {
        "id": "w2xsAqwgf1kQ"
      }
    },
    {
      "cell_type": "code",
      "source": [
        "my_tuple = (1,2,3,4)\n",
        "my_tuple[0] = 7  # TypeError: 'tuple' object does not support item assignment"
      ],
      "metadata": {
        "colab": {
          "base_uri": "https://localhost:8080/",
          "height": 159
        },
        "id": "NEOseFEjft7K",
        "outputId": "a8ad5df7-1306-4c6d-a02d-209af8160a71"
      },
      "execution_count": 38,
      "outputs": [
        {
          "output_type": "error",
          "ename": "TypeError",
          "evalue": "'tuple' object does not support item assignment",
          "traceback": [
            "\u001b[0;31m---------------------------------------------------------------------------\u001b[0m",
            "\u001b[0;31mTypeError\u001b[0m                                 Traceback (most recent call last)",
            "\u001b[0;32m<ipython-input-38-777572666a01>\u001b[0m in \u001b[0;36m<cell line: 2>\u001b[0;34m()\u001b[0m\n\u001b[1;32m      1\u001b[0m \u001b[0mmy_tuple\u001b[0m \u001b[0;34m=\u001b[0m \u001b[0;34m(\u001b[0m\u001b[0;36m1\u001b[0m\u001b[0;34m,\u001b[0m\u001b[0;36m2\u001b[0m\u001b[0;34m,\u001b[0m\u001b[0;36m3\u001b[0m\u001b[0;34m,\u001b[0m\u001b[0;36m4\u001b[0m\u001b[0;34m)\u001b[0m\u001b[0;34m\u001b[0m\u001b[0;34m\u001b[0m\u001b[0m\n\u001b[0;32m----> 2\u001b[0;31m \u001b[0mmy_tuple\u001b[0m\u001b[0;34m[\u001b[0m\u001b[0;36m0\u001b[0m\u001b[0;34m]\u001b[0m \u001b[0;34m=\u001b[0m \u001b[0;36m7\u001b[0m  \u001b[0;31m# TypeError: 'tuple' object does not support item assignment\u001b[0m\u001b[0;34m\u001b[0m\u001b[0;34m\u001b[0m\u001b[0m\n\u001b[0m",
            "\u001b[0;31mTypeError\u001b[0m: 'tuple' object does not support item assignment"
          ]
        }
      ]
    },
    {
      "cell_type": "code",
      "source": [
        "#tuples are immutable but lists inside tuples are mutable\n",
        "tuple1 = (1, 2, [\"apple\", \"banana\"])\n",
        "tuple1[2][0] = \"grape\"\n",
        "print(tuple1)  # output (1, 2, ['grape', 'banana'])\n",
        "\n",
        "#in this example although we cannot directly change the content of the tuple,we can modify the mutable element(a list) inside tuple."
      ],
      "metadata": {
        "colab": {
          "base_uri": "https://localhost:8080/"
        },
        "id": "GbCfZqqPf5Qc",
        "outputId": "0a9952da-a1f1-4db7-f795-c4734d7dfe19"
      },
      "execution_count": 40,
      "outputs": [
        {
          "output_type": "stream",
          "name": "stdout",
          "text": [
            "(1, 2, ['grape', 'banana'])\n"
          ]
        }
      ]
    },
    {
      "cell_type": "markdown",
      "source": [
        "# 2D tuple"
      ],
      "metadata": {
        "id": "SKKzbFxugXyj"
      }
    },
    {
      "cell_type": "code",
      "source": [
        "\n",
        "# Creating a 2D tuple\n",
        "tup_2d = ((1, 2, 3), (4, 5, 6), (7, 8, 9))\n",
        "print(tup_2d)\n",
        "\n",
        "# Accessing elements\n",
        "print(tup_2d[0])    # Output: (1, 2, 3)\n",
        "print(tup_2d[1][2]) # Output: 6"
      ],
      "metadata": {
        "colab": {
          "base_uri": "https://localhost:8080/"
        },
        "id": "urSyHwNJgCCR",
        "outputId": "3729a440-e90b-469f-c9a6-50102e999547"
      },
      "execution_count": 41,
      "outputs": [
        {
          "output_type": "stream",
          "name": "stdout",
          "text": [
            "((1, 2, 3), (4, 5, 6), (7, 8, 9))\n",
            "(1, 2, 3)\n",
            "6\n"
          ]
        }
      ]
    },
    {
      "cell_type": "markdown",
      "source": [
        "**Tuple Methods**"
      ],
      "metadata": {
        "id": "ZMtoblPDghvu"
      }
    },
    {
      "cell_type": "code",
      "source": [
        "#count\n",
        "tuple = (1, 3, 7, 8, 7, 5, 4, 6, 8, 5)\n",
        "x = tuple.count(5)\n",
        "print(x)"
      ],
      "metadata": {
        "colab": {
          "base_uri": "https://localhost:8080/"
        },
        "id": "A8YLAHJ9gbK-",
        "outputId": "662973b9-6140-4944-e93a-4c7094a3fceb"
      },
      "execution_count": 42,
      "outputs": [
        {
          "output_type": "stream",
          "name": "stdout",
          "text": [
            "2\n"
          ]
        }
      ]
    },
    {
      "cell_type": "code",
      "source": [
        "#index\n",
        "tuple = (1, 3, 7, 8, 7, 5, 4, 6, 8, 5)\n",
        "x = tuple.index(8)\n",
        "print(x)"
      ],
      "metadata": {
        "colab": {
          "base_uri": "https://localhost:8080/"
        },
        "id": "Bz-D5EwugnxS",
        "outputId": "aae1870a-cb59-46f6-db02-550a503e7c5c"
      },
      "execution_count": 43,
      "outputs": [
        {
          "output_type": "stream",
          "name": "stdout",
          "text": [
            "3\n"
          ]
        }
      ]
    },
    {
      "cell_type": "markdown",
      "source": [
        "#Membership operators\n",
        "In and Notin"
      ],
      "metadata": {
        "id": "ENBGfbGXgxL6"
      }
    },
    {
      "cell_type": "code",
      "source": [
        "tuple = (1, 2, 3, 4, 5)\n",
        "print(3 in tuple)  # Output: True\n",
        "print(6 in tuple)  # Output: False"
      ],
      "metadata": {
        "colab": {
          "base_uri": "https://localhost:8080/"
        },
        "id": "A2g3GuZrgsEk",
        "outputId": "f2bf7b8f-2265-4833-b7dd-a05c1918e3eb"
      },
      "execution_count": 44,
      "outputs": [
        {
          "output_type": "stream",
          "name": "stdout",
          "text": [
            "True\n",
            "False\n"
          ]
        }
      ]
    },
    {
      "cell_type": "code",
      "source": [
        "tuple = (1, 2, 3, 4, 5)\n",
        "print(3 not in tuple) # Output: False\n",
        "print(6 not in tuple) # Output: True"
      ],
      "metadata": {
        "colab": {
          "base_uri": "https://localhost:8080/"
        },
        "id": "0s7enWYKg1Zz",
        "outputId": "2f02b0ec-188e-4664-c617-3029eb71804f"
      },
      "execution_count": 45,
      "outputs": [
        {
          "output_type": "stream",
          "name": "stdout",
          "text": [
            "False\n",
            "True\n"
          ]
        }
      ]
    },
    {
      "cell_type": "markdown",
      "source": [
        "# Activity"
      ],
      "metadata": {
        "id": "KIaJQFiQg8Dx"
      }
    },
    {
      "cell_type": "code",
      "source": [
        "# 1. Unpack the list and assign 101,201,777 to v1,v2,v3 respectively.\n",
        "my_tuple=(101,201,777)\n",
        "v1,v2,v3=my_tuple\n",
        "print(type(v1))\n",
        "print(v1,v2,v3)"
      ],
      "metadata": {
        "colab": {
          "base_uri": "https://localhost:8080/"
        },
        "id": "j8Aa4qfgg24u",
        "outputId": "4501afbd-f27e-4de4-ee30-0dd469dfec02"
      },
      "execution_count": 47,
      "outputs": [
        {
          "output_type": "stream",
          "name": "stdout",
          "text": [
            "<class 'int'>\n",
            "101 201 777\n"
          ]
        }
      ]
    },
    {
      "cell_type": "code",
      "source": [
        "#create a tuple having the last 3 elements of the list\n",
        "my_tuple=(1,2,3,4,5,6,7,8,9)\n",
        "print(my_tuple[-3:])"
      ],
      "metadata": {
        "colab": {
          "base_uri": "https://localhost:8080/"
        },
        "id": "fbRopoZWhMIj",
        "outputId": "4e2360c2-dd54-4d9b-bf8e-4140eb442903"
      },
      "execution_count": 48,
      "outputs": [
        {
          "output_type": "stream",
          "name": "stdout",
          "text": [
            "(7, 8, 9)\n"
          ]
        }
      ]
    },
    {
      "cell_type": "code",
      "source": [],
      "metadata": {
        "id": "KPIzdnC3hgaa"
      },
      "execution_count": null,
      "outputs": []
    }
  ]
}