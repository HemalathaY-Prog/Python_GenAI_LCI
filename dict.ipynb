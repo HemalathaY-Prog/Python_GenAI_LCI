{
  "nbformat": 4,
  "nbformat_minor": 0,
  "metadata": {
    "colab": {
      "provenance": [],
      "authorship_tag": "ABX9TyONPJS3MmaEqSKJpQyWEdl7",
      "include_colab_link": true
    },
    "kernelspec": {
      "name": "python3",
      "display_name": "Python 3"
    },
    "language_info": {
      "name": "python"
    }
  },
  "cells": [
    {
      "cell_type": "markdown",
      "metadata": {
        "id": "view-in-github",
        "colab_type": "text"
      },
      "source": [
        "<a href=\"https://colab.research.google.com/github/HemalathaY-Prog/Python_GenAI_LCI/blob/main/dict.ipynb\" target=\"_parent\"><img src=\"https://colab.research.google.com/assets/colab-badge.svg\" alt=\"Open In Colab\"/></a>"
      ]
    },
    {
      "cell_type": "code",
      "execution_count": 1,
      "metadata": {
        "colab": {
          "base_uri": "https://localhost:8080/"
        },
        "id": "kcisuD-hmty_",
        "outputId": "b7cbe7ea-4f4c-4672-a1cf-889cbb5689b2"
      },
      "outputs": [
        {
          "output_type": "execute_result",
          "data": {
            "text/plain": [
              "{'name': 'John', 'age': 30, 'city': 'New York'}"
            ]
          },
          "metadata": {},
          "execution_count": 1
        }
      ],
      "source": [
        "my_dict = {'name': 'John', 'age': 30, 'city': 'New York'}\n",
        "my_dict"
      ]
    },
    {
      "cell_type": "code",
      "source": [
        "print(my_dict['name']) #This would output: 'John'."
      ],
      "metadata": {
        "colab": {
          "base_uri": "https://localhost:8080/"
        },
        "id": "XayuBMEpm7-T",
        "outputId": "afef155a-302e-4ed2-eeba-862e0af6a5a8"
      },
      "execution_count": 2,
      "outputs": [
        {
          "output_type": "stream",
          "name": "stdout",
          "text": [
            "John\n"
          ]
        }
      ]
    },
    {
      "cell_type": "markdown",
      "source": [
        "# Defining a dict"
      ],
      "metadata": {
        "id": "Arh28QQGnDMS"
      }
    },
    {
      "cell_type": "code",
      "source": [
        "# You create an empty dictionary using {}\n",
        "my_dict = {}\n",
        "print(my_dict, type(my_dict)) #{} <class 'dict'>\n",
        "\n",
        "my_dict = dict()\n",
        "print(my_dict, type(my_dict)) #{} <class 'dict'>"
      ],
      "metadata": {
        "colab": {
          "base_uri": "https://localhost:8080/"
        },
        "id": "JH10OrImnBN9",
        "outputId": "298d7ed8-45f3-43f3-ae39-a9a331328453"
      },
      "execution_count": 3,
      "outputs": [
        {
          "output_type": "stream",
          "name": "stdout",
          "text": [
            "{} <class 'dict'>\n",
            "{} <class 'dict'>\n"
          ]
        }
      ]
    },
    {
      "cell_type": "markdown",
      "source": [
        "#Create a dict"
      ],
      "metadata": {
        "id": "1D9EnZLznJ5K"
      }
    },
    {
      "cell_type": "code",
      "source": [
        "# Create a dictionary of integer keys\n",
        "my_dict = {1:\"one\",2:\"two\",3:\"three\",4:\"four\"}\n",
        "print(my_dict) #{1: 'one', 2: 'two', 3: 'three', 4: 'four'}\n",
        "\n",
        "# Creating dictionary with mixed keys\n",
        "my_dict1 = {1:\"One\",\"age\":21, \"marks\": [90,89,80],7.0: \"seven\"}\n",
        "print(my_dict1) #{1: 'One', 'age': 21, 'marks': [90, 89, 80], 7.0: 'seven'}\n",
        "\n",
        "# using dict\n",
        "my_tuple =  ((1,\"one\"),(2,\"two\"),(3,\"three\"))\n",
        "my_dict2 = dict(my_tuple)\n",
        "print(my_dict2) #{1: 'one', 2: 'two', 3: 'three'}\n",
        "\n",
        "my_dict3 = dict({\"name\":\"Sam\", \"age\": 21})\n",
        "print(my_dict3) #{'name': 'Sam', 'age': 21}"
      ],
      "metadata": {
        "colab": {
          "base_uri": "https://localhost:8080/"
        },
        "id": "w4Njn-_8nFo4",
        "outputId": "a85047e9-6b63-4553-f823-c3e7402c7013"
      },
      "execution_count": 4,
      "outputs": [
        {
          "output_type": "stream",
          "name": "stdout",
          "text": [
            "{1: 'one', 2: 'two', 3: 'three', 4: 'four'}\n",
            "{1: 'One', 'age': 21, 'marks': [90, 89, 80], 7.0: 'seven'}\n",
            "{1: 'one', 2: 'two', 3: 'three'}\n",
            "{'name': 'Sam', 'age': 21}\n"
          ]
        }
      ]
    },
    {
      "cell_type": "code",
      "source": [
        "daily_temps1 = {'mon': 35, 'tue': 29, 'wed': 38, 'thu': 40, 'fri': 37}\n",
        "print(daily_temps1)\n",
        "\n",
        "#OUTPUT: {'mon': 35, 'tue': 29, 'wed': 38, 'thu': 40, 'fri': 37}"
      ],
      "metadata": {
        "colab": {
          "base_uri": "https://localhost:8080/"
        },
        "id": "1AlPZ0BUndDb",
        "outputId": "0b2a4ea4-12f1-417f-a7c6-8f8e49b392d6"
      },
      "execution_count": 6,
      "outputs": [
        {
          "output_type": "stream",
          "name": "stdout",
          "text": [
            "{'mon': 35, 'tue': 29, 'wed': 38, 'thu': 40, 'fri': 37}\n"
          ]
        }
      ]
    },
    {
      "cell_type": "code",
      "source": [
        "\n",
        "my_dict = dict((\"name\":\"Sam\", \"age\": 21))\n",
        "print(my_dict) #{'name': 'Sam', 'age': 21}"
      ],
      "metadata": {
        "colab": {
          "base_uri": "https://localhost:8080/",
          "height": 106
        },
        "id": "XrTKHSY-nStL",
        "outputId": "6cd92754-ef23-4ce1-8922-1092d26e0182"
      },
      "execution_count": 5,
      "outputs": [
        {
          "output_type": "error",
          "ename": "SyntaxError",
          "evalue": "invalid syntax (<ipython-input-5-31c0a7e423cf>, line 1)",
          "traceback": [
            "\u001b[0;36m  File \u001b[0;32m\"<ipython-input-5-31c0a7e423cf>\"\u001b[0;36m, line \u001b[0;32m1\u001b[0m\n\u001b[0;31m    my_dict = dict((\"name\":\"Sam\", \"age\": 21))\u001b[0m\n\u001b[0m                          ^\u001b[0m\n\u001b[0;31mSyntaxError\u001b[0m\u001b[0;31m:\u001b[0m invalid syntax\n"
          ]
        }
      ]
    },
    {
      "cell_type": "code",
      "source": [
        "daily_temps = dict()\n",
        "daily_temps['mon'] = 35\n",
        "daily_temps['tue'] = 29\n",
        "daily_temps['wed'] = 38\n",
        "daily_temps['thu'] = 40\n",
        "daily_temps['fri'] = 37\n",
        "print(daily_temps)\n",
        "\n",
        "#OUTPUT: {'mon': 35, 'tue': 29, 'wed': 38, 'thu': 40, 'fri': 37}"
      ],
      "metadata": {
        "colab": {
          "base_uri": "https://localhost:8080/"
        },
        "id": "fEnRzwDJnhk_",
        "outputId": "1d100bff-051a-4f30-f093-aa0e280ebe85"
      },
      "execution_count": 7,
      "outputs": [
        {
          "output_type": "stream",
          "name": "stdout",
          "text": [
            "{'mon': 35, 'tue': 29, 'wed': 38, 'thu': 40, 'fri': 37}\n"
          ]
        }
      ]
    },
    {
      "cell_type": "code",
      "source": [
        "daily_temps3 = dict(mon=35, tue=29, wed=38, thu=40, fri=37)\n",
        "print(daily_temps3)\n",
        "\n",
        "#OUTPUT: {'mon': 35, 'tue': 29, 'wed': 38, 'thu': 40, 'fri': 37}"
      ],
      "metadata": {
        "colab": {
          "base_uri": "https://localhost:8080/"
        },
        "id": "vr7ehTUqnlGJ",
        "outputId": "8a606b29-28ac-4ae1-9d90-2671f0d6f953"
      },
      "execution_count": 8,
      "outputs": [
        {
          "output_type": "stream",
          "name": "stdout",
          "text": [
            "{'mon': 35, 'tue': 29, 'wed': 38, 'thu': 40, 'fri': 37}\n"
          ]
        }
      ]
    },
    {
      "cell_type": "markdown",
      "source": [
        "Type Coversion"
      ],
      "metadata": {
        "id": "qoj7xXVNn5W1"
      }
    },
    {
      "cell_type": "code",
      "source": [
        "#list of tuples to dict\n",
        "list_of_tuples = [(1, 'apple'), (2, 'grapes')]\n",
        "dictionary = dict(list_of_tuples)\n",
        "print(dictionary)  #{1: 'apple', 2: 'grapes'}"
      ],
      "metadata": {
        "colab": {
          "base_uri": "https://localhost:8080/"
        },
        "id": "MOveD7ginpd7",
        "outputId": "6ebd7ed7-3de1-4474-8835-a649f6ea7cf0"
      },
      "execution_count": 9,
      "outputs": [
        {
          "output_type": "stream",
          "name": "stdout",
          "text": [
            "{1: 'apple', 2: 'grapes'}\n"
          ]
        }
      ]
    },
    {
      "cell_type": "code",
      "source": [
        "#converting two lists to dict\n",
        "keys = [1, 2]\n",
        "values = ['apple', 'grapes']\n",
        "dictionary = dict(zip(keys, values))\n",
        "print(dictionary) #{1: 'apple', 2: 'grapes'}"
      ],
      "metadata": {
        "colab": {
          "base_uri": "https://localhost:8080/"
        },
        "id": "JE2UjjYYoGsQ",
        "outputId": "9092325d-cc49-4ec7-b8aa-cde701a33cd1"
      },
      "execution_count": 11,
      "outputs": [
        {
          "output_type": "stream",
          "name": "stdout",
          "text": [
            "{1: 'apple', 2: 'grapes'}\n"
          ]
        }
      ]
    },
    {
      "cell_type": "code",
      "source": [
        "#list to dict\n",
        "list = ['apple', 'grapes']\n",
        "dictionary = {i: list[i] for i in range(0, len(list))}\n",
        "print(dictionary) #{0: 'apple', 1: 'grapes'}"
      ],
      "metadata": {
        "colab": {
          "base_uri": "https://localhost:8080/"
        },
        "id": "-sPlpap6oMLG",
        "outputId": "65ba4554-1f6d-4b6b-f247-efe7abd925f6"
      },
      "execution_count": 13,
      "outputs": [
        {
          "output_type": "stream",
          "name": "stdout",
          "text": [
            "{0: 'apple', 1: 'grapes'}\n"
          ]
        }
      ]
    },
    {
      "cell_type": "code",
      "source": [
        "#tuples to dict\n",
        "tuples = ((1, 'apple'), (2, 'grapes'))\n",
        "dictionary = dict(tuples)\n",
        "print(dictionary)  #{1: 'apple', 2: 'grapes'}"
      ],
      "metadata": {
        "colab": {
          "base_uri": "https://localhost:8080/"
        },
        "id": "lq_21zu9oRgU",
        "outputId": "936adb2f-0819-4077-b935-2137c2100a1e"
      },
      "execution_count": 15,
      "outputs": [
        {
          "output_type": "stream",
          "name": "stdout",
          "text": [
            "{1: 'apple', 2: 'grapes'}\n"
          ]
        }
      ]
    },
    {
      "cell_type": "markdown",
      "source": [
        "Accessing elements\n"
      ],
      "metadata": {
        "id": "ZYuoVUx8ol0R"
      }
    },
    {
      "cell_type": "code",
      "source": [
        "# If the key doesn't exist [] bracket will raise an error\n",
        "my_dict = {'Name': 'Zara', 'Age': 7}\n",
        "print(\"my_dict['Name']: \", my_dict['Name']) #my_dict['Name']: Zara\n",
        "\n"
      ],
      "metadata": {
        "colab": {
          "base_uri": "https://localhost:8080/"
        },
        "id": "I6mljs_aohu9",
        "outputId": "c4c111ef-ab76-4c85-99d5-62b9ef078e43"
      },
      "execution_count": 17,
      "outputs": [
        {
          "output_type": "stream",
          "name": "stdout",
          "text": [
            "my_dict['Name']:  Zara\n"
          ]
        }
      ]
    },
    {
      "cell_type": "code",
      "source": [
        "print(\"city = \",my_dict['name']) # key error ,case-sensetive"
      ],
      "metadata": {
        "colab": {
          "base_uri": "https://localhost:8080/",
          "height": 141
        },
        "id": "oAn2qAftooz1",
        "outputId": "382bbd93-a31e-4632-b2fa-7757152bbb47"
      },
      "execution_count": 18,
      "outputs": [
        {
          "output_type": "error",
          "ename": "KeyError",
          "evalue": "'name'",
          "traceback": [
            "\u001b[0;31m---------------------------------------------------------------------------\u001b[0m",
            "\u001b[0;31mKeyError\u001b[0m                                  Traceback (most recent call last)",
            "\u001b[0;32m<ipython-input-18-28bb083041b9>\u001b[0m in \u001b[0;36m<cell line: 1>\u001b[0;34m()\u001b[0m\n\u001b[0;32m----> 1\u001b[0;31m \u001b[0mprint\u001b[0m\u001b[0;34m(\u001b[0m\u001b[0;34m\"city = \"\u001b[0m\u001b[0;34m,\u001b[0m\u001b[0mmy_dict\u001b[0m\u001b[0;34m[\u001b[0m\u001b[0;34m'name'\u001b[0m\u001b[0;34m]\u001b[0m\u001b[0;34m)\u001b[0m \u001b[0;31m# key error ,case-sensetive\u001b[0m\u001b[0;34m\u001b[0m\u001b[0;34m\u001b[0m\u001b[0m\n\u001b[0m",
            "\u001b[0;31mKeyError\u001b[0m: 'name'"
          ]
        }
      ]
    },
    {
      "cell_type": "code",
      "source": [
        "# get() methods: If the key doesn't exist will return none\n",
        "my_dict = {'Name': 'Zara', 'Age': 7}\n",
        "print(\"my_dict.get('Age'): \", my_dict.get('Age')) #my_dict.get('Age'): 7"
      ],
      "metadata": {
        "colab": {
          "base_uri": "https://localhost:8080/"
        },
        "id": "kquiPZpDos1v",
        "outputId": "b28b24e1-600d-46d3-a76d-745a5f8a18dd"
      },
      "execution_count": 20,
      "outputs": [
        {
          "output_type": "stream",
          "name": "stdout",
          "text": [
            "my_dict.get('Age'):  None\n"
          ]
        }
      ]
    },
    {
      "cell_type": "code",
      "source": [
        "# get() methods: If the key doesn't exist will return none\n",
        "my_dict = {'Name': 'Zara', 'Age': 7}\n",
        "print(\"my_dict.get('Age1'): \", my_dict.get('Age1')) #my_dict.get('Age'): 7"
      ],
      "metadata": {
        "colab": {
          "base_uri": "https://localhost:8080/"
        },
        "id": "kaeWz85uowzI",
        "outputId": "843fcdf5-612f-487e-fff9-78aa49ffb65b"
      },
      "execution_count": 22,
      "outputs": [
        {
          "output_type": "stream",
          "name": "stdout",
          "text": [
            "my_dict.get('Age1'):  None\n"
          ]
        }
      ]
    },
    {
      "cell_type": "code",
      "source": [
        "my_dict = {'Name': 'Zara', 'Age': 7}\n",
        "for key, value in my_dict.items():\n",
        "\tprint(key, value)\n",
        "\n"
      ],
      "metadata": {
        "colab": {
          "base_uri": "https://localhost:8080/"
        },
        "id": "ZZ5pxi0po9oq",
        "outputId": "fc6bd354-b680-4d5e-e51c-9aa760e94fab"
      },
      "execution_count": 24,
      "outputs": [
        {
          "output_type": "stream",
          "name": "stdout",
          "text": [
            "Name Zara\n",
            "Age 7\n"
          ]
        }
      ]
    },
    {
      "cell_type": "code",
      "source": [
        "my_dict = {'Name': 'Zara', 'Age': 7}\n",
        "for key in my_dict.keys():\n",
        "\tprint(key)\n"
      ],
      "metadata": {
        "colab": {
          "base_uri": "https://localhost:8080/"
        },
        "id": "3HC4FPrfpBIO",
        "outputId": "4f687d6f-bea1-4b94-8a82-5ea335ce4abf"
      },
      "execution_count": 25,
      "outputs": [
        {
          "output_type": "stream",
          "name": "stdout",
          "text": [
            "Name\n",
            "Age\n"
          ]
        }
      ]
    },
    {
      "cell_type": "code",
      "source": [
        "my_dict = {'Name': 'Zara', 'Age': 7}\n",
        "for value in my_dict.values():\n",
        "\tprint(value)\n"
      ],
      "metadata": {
        "colab": {
          "base_uri": "https://localhost:8080/"
        },
        "id": "5Iei1lzGpGga",
        "outputId": "b86a8e08-f139-4635-a454-0c22c72b8eb2"
      },
      "execution_count": 26,
      "outputs": [
        {
          "output_type": "stream",
          "name": "stdout",
          "text": [
            "Zara\n",
            "7\n"
          ]
        }
      ]
    },
    {
      "cell_type": "markdown",
      "source": [
        "#Modify the elements"
      ],
      "metadata": {
        "id": "QrK7IPL6pOev"
      }
    },
    {
      "cell_type": "code",
      "source": [
        "my_dict = {'name': 'Uttam', 'age': 35}\n",
        "my_dict['age'] = 40\n",
        "print(my_dict) #{'name': 'Uttam', 'age': 40}"
      ],
      "metadata": {
        "colab": {
          "base_uri": "https://localhost:8080/"
        },
        "id": "cwTeOvHLpI9M",
        "outputId": "8d365097-abcc-416c-db65-096b7710c45a"
      },
      "execution_count": 27,
      "outputs": [
        {
          "output_type": "stream",
          "name": "stdout",
          "text": [
            "{'name': 'Uttam', 'age': 40}\n"
          ]
        }
      ]
    },
    {
      "cell_type": "code",
      "source": [
        "my_dict= {'name': 'Uttam', 'age': 35}\n",
        "my_dict.update({'age': 40})\n",
        "print(my_dict) #{'name': 'Uttam', 'age': 40}"
      ],
      "metadata": {
        "colab": {
          "base_uri": "https://localhost:8080/"
        },
        "id": "v6JQXkPrpT5Q",
        "outputId": "a63681ce-d916-40f7-9fbd-86c916084c9a"
      },
      "execution_count": 28,
      "outputs": [
        {
          "output_type": "stream",
          "name": "stdout",
          "text": [
            "{'name': 'Uttam', 'age': 40}\n"
          ]
        }
      ]
    },
    {
      "cell_type": "code",
      "source": [
        "#remove method\n",
        "my_dict = {1:\"Amy\",2:\"Ben\",3:\"dave\",4:\"Eva\",5:\"Sara\"}\n",
        "print(my_dict)  #{1:\"Amy\",2:\"Ben\",3:\"dave\",4:\"Eva\",5:\"Sara\"}\n",
        "\n",
        "# passing the key value\n",
        "print(my_dict.pop(2)) #Ben\n",
        "print(my_dict) #{1: 'Amy', 3: 'dave', 4: 'Eva', 5: 'Sara'}\n",
        "\n",
        "# key is mandatory in pop function\n",
        "print(my_dict.pop()) # TypeError: pop expected at least 1 argument, got 0\n",
        "\n",
        "# If key doesn't exist\n",
        "print(my_dict.pop(10))  #KeyError\n"
      ],
      "metadata": {
        "colab": {
          "base_uri": "https://localhost:8080/",
          "height": 263
        },
        "id": "Y0054K7QpYeL",
        "outputId": "1032e49a-aeea-4aac-e6e0-58ee17540556"
      },
      "execution_count": 29,
      "outputs": [
        {
          "output_type": "stream",
          "name": "stdout",
          "text": [
            "{1: 'Amy', 2: 'Ben', 3: 'dave', 4: 'Eva', 5: 'Sara'}\n",
            "Ben\n",
            "{1: 'Amy', 3: 'dave', 4: 'Eva', 5: 'Sara'}\n"
          ]
        },
        {
          "output_type": "error",
          "ename": "TypeError",
          "evalue": "pop expected at least 1 argument, got 0",
          "traceback": [
            "\u001b[0;31m---------------------------------------------------------------------------\u001b[0m",
            "\u001b[0;31mTypeError\u001b[0m                                 Traceback (most recent call last)",
            "\u001b[0;32m<ipython-input-29-0fbf61ef5514>\u001b[0m in \u001b[0;36m<cell line: 10>\u001b[0;34m()\u001b[0m\n\u001b[1;32m      8\u001b[0m \u001b[0;34m\u001b[0m\u001b[0m\n\u001b[1;32m      9\u001b[0m \u001b[0;31m# key is mandatory in pop function\u001b[0m\u001b[0;34m\u001b[0m\u001b[0;34m\u001b[0m\u001b[0m\n\u001b[0;32m---> 10\u001b[0;31m \u001b[0mprint\u001b[0m\u001b[0;34m(\u001b[0m\u001b[0mmy_dict\u001b[0m\u001b[0;34m.\u001b[0m\u001b[0mpop\u001b[0m\u001b[0;34m(\u001b[0m\u001b[0;34m)\u001b[0m\u001b[0;34m)\u001b[0m \u001b[0;31m# TypeError: pop expected at least 1 argument, got 0\u001b[0m\u001b[0;34m\u001b[0m\u001b[0;34m\u001b[0m\u001b[0m\n\u001b[0m\u001b[1;32m     11\u001b[0m \u001b[0;34m\u001b[0m\u001b[0m\n\u001b[1;32m     12\u001b[0m \u001b[0;31m# If key doesn't exist\u001b[0m\u001b[0;34m\u001b[0m\u001b[0;34m\u001b[0m\u001b[0m\n",
            "\u001b[0;31mTypeError\u001b[0m: pop expected at least 1 argument, got 0"
          ]
        }
      ]
    },
    {
      "cell_type": "code",
      "source": [
        "#popitem\n",
        "# using popitem()\n",
        "my_dict = {1:\"Amy\",2:\"Ben\",3:\"dave\",4:\"Eva\",5:\"Sara\"}\n",
        "\n",
        "print(my_dict.popitem()) #(5, 'Sara')\n",
        "print(my_dict) #{1: 'Amy', 2: 'Ben', 3: 'dave', 4: 'Eva'}\n"
      ],
      "metadata": {
        "colab": {
          "base_uri": "https://localhost:8080/"
        },
        "id": "3f05yTKJpgXj",
        "outputId": "5ec90ea3-831b-4082-c077-e130a474a899"
      },
      "execution_count": 30,
      "outputs": [
        {
          "output_type": "stream",
          "name": "stdout",
          "text": [
            "(5, 'Sara')\n",
            "{1: 'Amy', 2: 'Ben', 3: 'dave', 4: 'Eva'}\n"
          ]
        }
      ]
    },
    {
      "cell_type": "code",
      "source": [
        "#clear\n",
        "# remove all elements\n",
        "my_dict = {1:\"Amy\",2:\"Ben\",3:\"dave\",4:\"Eva\",5:\"Sara\"}\n",
        "print(my_dict) #{1: 'Amy', 2: 'Ben', 3: 'dave', 4: 'Eva', 5: 'Sara'}\n",
        "\n",
        "my_dict.clear()\n",
        "print(my_dict) #{}\n",
        "\n",
        "# popitem will give me error if the dict is empty\n",
        "print(my_dict.popitem()) # KeyError: 'popitem(): dictionary is empty'"
      ],
      "metadata": {
        "colab": {
          "base_uri": "https://localhost:8080/",
          "height": 211
        },
        "id": "EG1Os4ltpsIb",
        "outputId": "4d4f9b57-dde9-4a49-b5c0-9e697f7252f3"
      },
      "execution_count": 31,
      "outputs": [
        {
          "output_type": "stream",
          "name": "stdout",
          "text": [
            "{1: 'Amy', 2: 'Ben', 3: 'dave', 4: 'Eva', 5: 'Sara'}\n",
            "{}\n"
          ]
        },
        {
          "output_type": "error",
          "ename": "KeyError",
          "evalue": "'popitem(): dictionary is empty'",
          "traceback": [
            "\u001b[0;31m---------------------------------------------------------------------------\u001b[0m",
            "\u001b[0;31mKeyError\u001b[0m                                  Traceback (most recent call last)",
            "\u001b[0;32m<ipython-input-31-a60c1b8aab05>\u001b[0m in \u001b[0;36m<cell line: 10>\u001b[0;34m()\u001b[0m\n\u001b[1;32m      8\u001b[0m \u001b[0;34m\u001b[0m\u001b[0m\n\u001b[1;32m      9\u001b[0m \u001b[0;31m# popitem will give me error if the dict is empty\u001b[0m\u001b[0;34m\u001b[0m\u001b[0;34m\u001b[0m\u001b[0m\n\u001b[0;32m---> 10\u001b[0;31m \u001b[0mprint\u001b[0m\u001b[0;34m(\u001b[0m\u001b[0mmy_dict\u001b[0m\u001b[0;34m.\u001b[0m\u001b[0mpopitem\u001b[0m\u001b[0;34m(\u001b[0m\u001b[0;34m)\u001b[0m\u001b[0;34m)\u001b[0m \u001b[0;31m# KeyError: 'popitem(): dictionary is empty'\u001b[0m\u001b[0;34m\u001b[0m\u001b[0;34m\u001b[0m\u001b[0m\n\u001b[0m",
            "\u001b[0;31mKeyError\u001b[0m: 'popitem(): dictionary is empty'"
          ]
        }
      ]
    },
    {
      "cell_type": "markdown",
      "source": [
        "Membership operators\n",
        "in and not in"
      ],
      "metadata": {
        "id": "f_yh8c5xp1yl"
      }
    },
    {
      "cell_type": "code",
      "source": [
        "dict1 = {'name': 'John', 'age': 30, 'job': 'developer'}\n",
        "\n",
        "# Check if 'name' is a key in the dictionary\n",
        "print('name' in dict1)  # Output: True\n",
        "\n",
        "# Check if 'salary' is not a key in the dictionary\n",
        "print('salary' not in dict1)  # Output: True"
      ],
      "metadata": {
        "colab": {
          "base_uri": "https://localhost:8080/"
        },
        "id": "8Fl9fI2jpxI0",
        "outputId": "72b54034-6df8-4cd0-b85c-3d3fd9bed8c9"
      },
      "execution_count": 32,
      "outputs": [
        {
          "output_type": "stream",
          "name": "stdout",
          "text": [
            "True\n",
            "True\n"
          ]
        }
      ]
    },
    {
      "cell_type": "markdown",
      "source": [
        "Activity"
      ],
      "metadata": {
        "id": "X7jipWUQqMEm"
      }
    },
    {
      "cell_type": "code",
      "source": [
        "#create dict 'batches' with foloowing data\n",
        "batches={'Java':34,'SAP':25,'Testing':30,'Python':22}\n",
        "print(batches)\n",
        "\n"
      ],
      "metadata": {
        "colab": {
          "base_uri": "https://localhost:8080/"
        },
        "id": "Y7d0wL-Lp5pl",
        "outputId": "31b33bee-5a3b-4a42-ba7b-29fc1f349129"
      },
      "execution_count": 33,
      "outputs": [
        {
          "output_type": "stream",
          "name": "stdout",
          "text": [
            "{'Java': 34, 'SAP': 25, 'Testing': 30, 'Python': 22}\n"
          ]
        }
      ]
    },
    {
      "cell_type": "code",
      "source": [
        "#display all the keys in dict batches\n",
        "print(batches.keys())"
      ],
      "metadata": {
        "colab": {
          "base_uri": "https://localhost:8080/"
        },
        "id": "vji-kELCqi_C",
        "outputId": "04c2a51a-1782-476e-f8f1-b53b51245dce"
      },
      "execution_count": 34,
      "outputs": [
        {
          "output_type": "stream",
          "name": "stdout",
          "text": [
            "dict_keys(['Java', 'SAP', 'Testing', 'Python'])\n"
          ]
        }
      ]
    },
    {
      "cell_type": "code",
      "source": [
        "#display all values\n",
        "print(batches.values())"
      ],
      "metadata": {
        "colab": {
          "base_uri": "https://localhost:8080/"
        },
        "id": "z8jQzPMuqmg5",
        "outputId": "9caa4648-deaa-4346-b041-67e3e55e9625"
      },
      "execution_count": 35,
      "outputs": [
        {
          "output_type": "stream",
          "name": "stdout",
          "text": [
            "dict_values([34, 25, 30, 22])\n"
          ]
        }
      ]
    },
    {
      "cell_type": "code",
      "source": [
        "print(batches.get('Java'))\n",
        "print(batches.get('SAP'))\n",
        "print(batches.get('Testing'))\n",
        "print(batches.get('Python'))\n",
        "\n"
      ],
      "metadata": {
        "colab": {
          "base_uri": "https://localhost:8080/"
        },
        "id": "oJjtX-d3qrD6",
        "outputId": "84790559-c994-4e3c-b24e-825dd6680b40"
      },
      "execution_count": 37,
      "outputs": [
        {
          "output_type": "stream",
          "name": "stdout",
          "text": [
            "34\n",
            "25\n",
            "30\n",
            "22\n"
          ]
        }
      ]
    },
    {
      "cell_type": "code",
      "source": [],
      "metadata": {
        "id": "_MprHGpEq5Fe"
      },
      "execution_count": null,
      "outputs": []
    }
  ]
}