{
  "nbformat": 4,
  "nbformat_minor": 0,
  "metadata": {
    "colab": {
      "provenance": [],
      "authorship_tag": "ABX9TyMlRkxvytwTPC0U1KuLKzwj",
      "include_colab_link": true
    },
    "kernelspec": {
      "name": "python3",
      "display_name": "Python 3"
    },
    "language_info": {
      "name": "python"
    }
  },
  "cells": [
    {
      "cell_type": "markdown",
      "metadata": {
        "id": "view-in-github",
        "colab_type": "text"
      },
      "source": [
        "<a href=\"https://colab.research.google.com/github/HemalathaY-Prog/Python_GenAI_LCI/blob/main/Set.ipynb\" target=\"_parent\"><img src=\"https://colab.research.google.com/assets/colab-badge.svg\" alt=\"Open In Colab\"/></a>"
      ]
    },
    {
      "cell_type": "markdown",
      "source": [
        "# Defining a set"
      ],
      "metadata": {
        "id": "Mun3NhmPiCXT"
      }
    },
    {
      "cell_type": "code",
      "execution_count": 1,
      "metadata": {
        "colab": {
          "base_uri": "https://localhost:8080/"
        },
        "id": "PuOMA6Usht7B",
        "outputId": "966fc612-20d8-43e9-ab76-e1227bebc048"
      },
      "outputs": [
        {
          "output_type": "execute_result",
          "data": {
            "text/plain": [
              "{'apple', 'banana', 'cherry'}"
            ]
          },
          "metadata": {},
          "execution_count": 1
        }
      ],
      "source": [
        "my_set = {\"apple\", \"banana\", \"cherry\"}\n",
        "my_set"
      ]
    },
    {
      "cell_type": "code",
      "source": [
        "my_set = set([\"apple\", \"banana\", \"cherry\"])\n",
        "my_set"
      ],
      "metadata": {
        "colab": {
          "base_uri": "https://localhost:8080/"
        },
        "id": "bEkUNZSViGW3",
        "outputId": "d0b598bb-f346-46be-d21b-b286a16e330a"
      },
      "execution_count": 3,
      "outputs": [
        {
          "output_type": "execute_result",
          "data": {
            "text/plain": [
              "{'apple', 'banana', 'cherry'}"
            ]
          },
          "metadata": {},
          "execution_count": 3
        }
      ]
    },
    {
      "cell_type": "markdown",
      "source": [
        "Creation of set"
      ],
      "metadata": {
        "id": "ovfEjYq-iUO6"
      }
    },
    {
      "cell_type": "code",
      "source": [
        "# create an empty set\n",
        "my_set = {}\n",
        "print(my_set, type(my_set))\n",
        "\n",
        "# create an empty set\n",
        "my_set = set()\n",
        "print(my_set, type(my_set))"
      ],
      "metadata": {
        "colab": {
          "base_uri": "https://localhost:8080/"
        },
        "id": "ulUOYgy_iI2X",
        "outputId": "512e47b6-6550-48fa-9cd5-a81511928100"
      },
      "execution_count": 4,
      "outputs": [
        {
          "output_type": "stream",
          "name": "stdout",
          "text": [
            "{} <class 'dict'>\n",
            "set() <class 'set'>\n"
          ]
        }
      ]
    },
    {
      "cell_type": "code",
      "source": [
        "# set of integers\n",
        "my_set = {31,12,43,4} # unordered collection\n",
        "print(my_set, type(my_set))\n",
        "\n",
        "# set of mixed data type\n",
        "my_set1 = {\"Sara\", 21, 34.5}\n",
        "print(my_set1)\n",
        "\n",
        "# tuple within a set\n",
        "my_set2 = {\"Sara\", 21, 34.5,(1,2,3)}\n",
        "print(my_set2)\n",
        "\n",
        "# cannot pass list within a set\n",
        "my_set3= {\"Sara\", 21, 34.5,[1,2,3]} #TypeError: unhashable type: 'list'\n",
        "print(my_set3)"
      ],
      "metadata": {
        "colab": {
          "base_uri": "https://localhost:8080/",
          "height": 245
        },
        "id": "3oMWdZhOiXAc",
        "outputId": "33599cab-3f5b-477b-d2cc-813a9242a84e"
      },
      "execution_count": 5,
      "outputs": [
        {
          "output_type": "stream",
          "name": "stdout",
          "text": [
            "{43, 12, 4, 31} <class 'set'>\n",
            "{'Sara', 34.5, 21}\n",
            "{'Sara', (1, 2, 3), 34.5, 21}\n"
          ]
        },
        {
          "output_type": "error",
          "ename": "TypeError",
          "evalue": "unhashable type: 'list'",
          "traceback": [
            "\u001b[0;31m---------------------------------------------------------------------------\u001b[0m",
            "\u001b[0;31mTypeError\u001b[0m                                 Traceback (most recent call last)",
            "\u001b[0;32m<ipython-input-5-280f7ad15299>\u001b[0m in \u001b[0;36m<cell line: 14>\u001b[0;34m()\u001b[0m\n\u001b[1;32m     12\u001b[0m \u001b[0;34m\u001b[0m\u001b[0m\n\u001b[1;32m     13\u001b[0m \u001b[0;31m# cannot pass list within a set\u001b[0m\u001b[0;34m\u001b[0m\u001b[0;34m\u001b[0m\u001b[0m\n\u001b[0;32m---> 14\u001b[0;31m \u001b[0mmy_set3\u001b[0m\u001b[0;34m=\u001b[0m \u001b[0;34m{\u001b[0m\u001b[0;34m\"Sara\"\u001b[0m\u001b[0;34m,\u001b[0m \u001b[0;36m21\u001b[0m\u001b[0;34m,\u001b[0m \u001b[0;36m34.5\u001b[0m\u001b[0;34m,\u001b[0m\u001b[0;34m[\u001b[0m\u001b[0;36m1\u001b[0m\u001b[0;34m,\u001b[0m\u001b[0;36m2\u001b[0m\u001b[0;34m,\u001b[0m\u001b[0;36m3\u001b[0m\u001b[0;34m]\u001b[0m\u001b[0;34m}\u001b[0m \u001b[0;31m#TypeError: unhashable type: 'list'\u001b[0m\u001b[0;34m\u001b[0m\u001b[0;34m\u001b[0m\u001b[0m\n\u001b[0m\u001b[1;32m     15\u001b[0m \u001b[0mprint\u001b[0m\u001b[0;34m(\u001b[0m\u001b[0mmy_set3\u001b[0m\u001b[0;34m)\u001b[0m\u001b[0;34m\u001b[0m\u001b[0;34m\u001b[0m\u001b[0m\n",
            "\u001b[0;31mTypeError\u001b[0m: unhashable type: 'list'"
          ]
        }
      ]
    },
    {
      "cell_type": "code",
      "source": [
        "# set cannot have duplicates\n",
        "# convert list to set\n",
        "\n",
        "my_set = {1,2,3,4,1,2,5}\n",
        "print(my_set, type(my_set)) #{1, 2, 3, 4, 5} <class 'set'>"
      ],
      "metadata": {
        "colab": {
          "base_uri": "https://localhost:8080/"
        },
        "id": "PbV1r8z-ijOF",
        "outputId": "543c338c-bc79-4835-8e5b-93d3549dc99b"
      },
      "execution_count": 6,
      "outputs": [
        {
          "output_type": "stream",
          "name": "stdout",
          "text": [
            "{1, 2, 3, 4, 5} <class 'set'>\n"
          ]
        }
      ]
    },
    {
      "cell_type": "code",
      "source": [
        "myset = {\"apple\", \"banana\", \"cherry\"}\n",
        "\n",
        "#Loop through the set\n",
        "for x in myset:\n",
        "\tprint(x)\n",
        "\n",
        "#Check if \"banana\" is in the set\n",
        "print(\"banana\" in myset)"
      ],
      "metadata": {
        "colab": {
          "base_uri": "https://localhost:8080/"
        },
        "id": "OxQZ4wxlipYl",
        "outputId": "bd7e1a10-faf6-451c-9c83-61782fdfc080"
      },
      "execution_count": 7,
      "outputs": [
        {
          "output_type": "stream",
          "name": "stdout",
          "text": [
            "banana\n",
            "apple\n",
            "cherry\n",
            "True\n"
          ]
        }
      ]
    },
    {
      "cell_type": "markdown",
      "source": [
        "Iterating"
      ],
      "metadata": {
        "id": "E5OThmKdi9i7"
      }
    },
    {
      "cell_type": "code",
      "source": [
        "my_set = {\"Apple\", \"Banana\", \"Cherry\"}\n",
        "\n",
        "for item in my_set:\n",
        "    print(item)"
      ],
      "metadata": {
        "colab": {
          "base_uri": "https://localhost:8080/"
        },
        "id": "jkFutZ0bi14O",
        "outputId": "53cd0f78-d724-46ab-c1c7-2a825df23ac0"
      },
      "execution_count": 8,
      "outputs": [
        {
          "output_type": "stream",
          "name": "stdout",
          "text": [
            "Banana\n",
            "Cherry\n",
            "Apple\n"
          ]
        }
      ]
    },
    {
      "cell_type": "markdown",
      "source": [
        "# Type conversion"
      ],
      "metadata": {
        "id": "8evWMX41jGDm"
      }
    },
    {
      "cell_type": "code",
      "source": [
        "#list to set\n",
        "list1 = [1, 2, 3, 4, 5]\n",
        "set1 = set(list1)\n",
        "print(set1)"
      ],
      "metadata": {
        "colab": {
          "base_uri": "https://localhost:8080/"
        },
        "id": "U_dL2isxi_-d",
        "outputId": "ecf39d99-ed8b-4b82-f6fb-fb9012112a0b"
      },
      "execution_count": 10,
      "outputs": [
        {
          "output_type": "stream",
          "name": "stdout",
          "text": [
            "{1, 2, 3, 4, 5}\n"
          ]
        }
      ]
    },
    {
      "cell_type": "code",
      "source": [
        "#tuple to set\n",
        "tuple1 = (1, 2, 3, 4, 5)\n",
        "set1 = set(tuple1)\n",
        "print(set1)"
      ],
      "metadata": {
        "colab": {
          "base_uri": "https://localhost:8080/"
        },
        "id": "FAPX24bYjKET",
        "outputId": "75ff747c-70fe-49cb-e836-2b07503e2402"
      },
      "execution_count": 11,
      "outputs": [
        {
          "output_type": "stream",
          "name": "stdout",
          "text": [
            "{1, 2, 3, 4, 5}\n"
          ]
        }
      ]
    },
    {
      "cell_type": "code",
      "source": [
        "#string to set\n",
        "str1 = \"Hello\"\n",
        "set1 = set(str1)\n",
        "print(set1)"
      ],
      "metadata": {
        "colab": {
          "base_uri": "https://localhost:8080/"
        },
        "id": "eFdFLEydjPQW",
        "outputId": "17739a19-94bd-4966-a8e1-203b14d1bc07"
      },
      "execution_count": 12,
      "outputs": [
        {
          "output_type": "stream",
          "name": "stdout",
          "text": [
            "{'l', 'o', 'e', 'H'}\n"
          ]
        }
      ]
    },
    {
      "cell_type": "code",
      "source": [
        "#dict to set\n",
        "dict1 = {'key1': 1, 'key2': 2, 'key3': 3}\n",
        "set1 = set(dict1)\n",
        "print(set1)"
      ],
      "metadata": {
        "colab": {
          "base_uri": "https://localhost:8080/"
        },
        "id": "4XoAsfOWjTWl",
        "outputId": "828a4ba7-9703-4654-c2cc-ecb281d64221"
      },
      "execution_count": 13,
      "outputs": [
        {
          "output_type": "stream",
          "name": "stdout",
          "text": [
            "{'key1', 'key3', 'key2'}\n"
          ]
        }
      ]
    },
    {
      "cell_type": "code",
      "source": [
        "dict1 = {'key1': 1, 'key2': 2, 'key3': 3}\n",
        "set1 = set(dict1.items())\n",
        "print(set1)"
      ],
      "metadata": {
        "colab": {
          "base_uri": "https://localhost:8080/"
        },
        "id": "PEuDlXG5jZAx",
        "outputId": "fa4f7762-a863-4042-a345-17570f3cc42b"
      },
      "execution_count": 14,
      "outputs": [
        {
          "output_type": "stream",
          "name": "stdout",
          "text": [
            "{('key1', 1), ('key3', 3), ('key2', 2)}\n"
          ]
        }
      ]
    },
    {
      "cell_type": "code",
      "source": [
        "dict1 = {'key1': 1, 'key2': 2, 'key3': 3}\n",
        "set1 = set(dict1.values())\n",
        "print(set1)"
      ],
      "metadata": {
        "colab": {
          "base_uri": "https://localhost:8080/"
        },
        "id": "EJq8Jxghjes0",
        "outputId": "9d8267cc-7d38-47bf-cfa6-297965cac70e"
      },
      "execution_count": 15,
      "outputs": [
        {
          "output_type": "stream",
          "name": "stdout",
          "text": [
            "{1, 2, 3}\n"
          ]
        }
      ]
    },
    {
      "cell_type": "markdown",
      "source": [
        "# Methods in set\n"
      ],
      "metadata": {
        "id": "21aT9jUXjqxA"
      }
    },
    {
      "cell_type": "code",
      "source": [
        "myset = {1, 2, 3}\n",
        "myset.add(4)\n",
        "print(myset)  # Output: {1, 2, 3, 4}"
      ],
      "metadata": {
        "colab": {
          "base_uri": "https://localhost:8080/"
        },
        "id": "3uZO-WP0jg1K",
        "outputId": "a2ff3b8c-7ffe-4f14-b41c-c0649741d03e"
      },
      "execution_count": 16,
      "outputs": [
        {
          "output_type": "stream",
          "name": "stdout",
          "text": [
            "{1, 2, 3, 4}\n"
          ]
        }
      ]
    },
    {
      "cell_type": "code",
      "source": [
        "myset = {1, 2, 3}\n",
        "myset.update([4, 5, 6])\n",
        "print(myset)  # Output: {1, 2, 3, 4, 5, 6}"
      ],
      "metadata": {
        "colab": {
          "base_uri": "https://localhost:8080/"
        },
        "id": "Ni-Wf6rDjvHL",
        "outputId": "0dcfc71e-7044-4ec7-b30e-8d837fd6aa28"
      },
      "execution_count": 17,
      "outputs": [
        {
          "output_type": "stream",
          "name": "stdout",
          "text": [
            "{1, 2, 3, 4, 5, 6}\n"
          ]
        }
      ]
    },
    {
      "cell_type": "code",
      "source": [
        "myset = {1, 2, 3}\n",
        "myset.remove(2)\n",
        "print(myset)  # Output: {1, 3}\n",
        "\n",
        "my_set.remove(5)  #KeyError\n",
        "print(my_set)"
      ],
      "metadata": {
        "colab": {
          "base_uri": "https://localhost:8080/",
          "height": 211
        },
        "id": "vgiWxOVcjyPm",
        "outputId": "da9d0546-690a-414f-8412-59b1fb4891a8"
      },
      "execution_count": 18,
      "outputs": [
        {
          "output_type": "stream",
          "name": "stdout",
          "text": [
            "{1, 3}\n"
          ]
        },
        {
          "output_type": "error",
          "ename": "KeyError",
          "evalue": "5",
          "traceback": [
            "\u001b[0;31m---------------------------------------------------------------------------\u001b[0m",
            "\u001b[0;31mKeyError\u001b[0m                                  Traceback (most recent call last)",
            "\u001b[0;32m<ipython-input-18-d786f151f6b8>\u001b[0m in \u001b[0;36m<cell line: 5>\u001b[0;34m()\u001b[0m\n\u001b[1;32m      3\u001b[0m \u001b[0mprint\u001b[0m\u001b[0;34m(\u001b[0m\u001b[0mmyset\u001b[0m\u001b[0;34m)\u001b[0m  \u001b[0;31m# Output: {1, 3}\u001b[0m\u001b[0;34m\u001b[0m\u001b[0;34m\u001b[0m\u001b[0m\n\u001b[1;32m      4\u001b[0m \u001b[0;34m\u001b[0m\u001b[0m\n\u001b[0;32m----> 5\u001b[0;31m \u001b[0mmy_set\u001b[0m\u001b[0;34m.\u001b[0m\u001b[0mremove\u001b[0m\u001b[0;34m(\u001b[0m\u001b[0;36m5\u001b[0m\u001b[0;34m)\u001b[0m  \u001b[0;31m#KeyError\u001b[0m\u001b[0;34m\u001b[0m\u001b[0;34m\u001b[0m\u001b[0m\n\u001b[0m\u001b[1;32m      6\u001b[0m \u001b[0mprint\u001b[0m\u001b[0;34m(\u001b[0m\u001b[0mmy_set\u001b[0m\u001b[0;34m)\u001b[0m\u001b[0;34m\u001b[0m\u001b[0;34m\u001b[0m\u001b[0m\n",
            "\u001b[0;31mKeyError\u001b[0m: 5"
          ]
        }
      ]
    },
    {
      "cell_type": "code",
      "source": [
        "myset = {1, 2, 3}\n",
        "myset.discard(2)\n",
        "print(myset)  # Output: {1, 3}\n",
        "\n",
        "# discard an element which doen't exist\n",
        "my_set.discard(5)\n",
        "print(myset)\n",
        "\n",
        "#discard method works like remove but it wont throw any error if value doesnot exists"
      ],
      "metadata": {
        "colab": {
          "base_uri": "https://localhost:8080/"
        },
        "id": "wckPYCzqj8UZ",
        "outputId": "76c42597-3e3c-40f3-b8ff-ea16e211be71"
      },
      "execution_count": 20,
      "outputs": [
        {
          "output_type": "stream",
          "name": "stdout",
          "text": [
            "{1, 3}\n",
            "{1, 3}\n"
          ]
        }
      ]
    },
    {
      "cell_type": "code",
      "source": [
        "myset = {1, 2, 3}\n",
        "myset.clear()\n",
        "print(myset)  # Output: set()"
      ],
      "metadata": {
        "colab": {
          "base_uri": "https://localhost:8080/"
        },
        "id": "rB7Qzq5-kDR3",
        "outputId": "12fef784-24b0-4c43-93a1-224212495ef7"
      },
      "execution_count": 21,
      "outputs": [
        {
          "output_type": "stream",
          "name": "stdout",
          "text": [
            "set()\n"
          ]
        }
      ]
    },
    {
      "cell_type": "markdown",
      "source": [
        "# Member ship operators\n",
        "In and notin"
      ],
      "metadata": {
        "id": "Vqj6SOQ2kThI"
      }
    },
    {
      "cell_type": "code",
      "source": [
        "set1 = {1, 2, 3, 4, 5}\n",
        "print(3 in set1)   # Output: True"
      ],
      "metadata": {
        "colab": {
          "base_uri": "https://localhost:8080/"
        },
        "id": "Fe50XHzckQIm",
        "outputId": "39a4f69e-035c-4459-9ba0-5309b0f898b3"
      },
      "execution_count": 22,
      "outputs": [
        {
          "output_type": "stream",
          "name": "stdout",
          "text": [
            "True\n"
          ]
        }
      ]
    },
    {
      "cell_type": "code",
      "source": [
        "set1 = {1, 2, 3, 4, 5}\n",
        "print(6 not in set1)  # Output: True"
      ],
      "metadata": {
        "colab": {
          "base_uri": "https://localhost:8080/"
        },
        "id": "QzTXtp26kYFP",
        "outputId": "c7c68ede-3162-4663-b58d-a7d6a6492d68"
      },
      "execution_count": 23,
      "outputs": [
        {
          "output_type": "stream",
          "name": "stdout",
          "text": [
            "True\n"
          ]
        }
      ]
    },
    {
      "cell_type": "markdown",
      "source": [
        "# Set Operations\n",
        "\n",
        "\n",
        "*   Union (|)\n",
        "*   Intersection (&)\n",
        "*   difference (-)\n",
        "*   symmetric difference (^)\n",
        "\n",
        "\n",
        "\n"
      ],
      "metadata": {
        "id": "ojmE1p0lkhxW"
      }
    },
    {
      "cell_type": "code",
      "source": [
        "#union operator\n",
        "A ={1,2,3,4,5}\n",
        "B = {4,5,6,7,8}\n",
        "\n",
        "# use | operator\n",
        "print(A|B)  #{1, 2, 3, 4, 5, 6, 7, 8}\n",
        "print(B|A)  #{1, 2, 3, 4, 5, 6, 7, 8}\n",
        "\n",
        "# use `union()` method\n",
        "print(A.union(B)) #{1, 2, 3, 4, 5, 6, 7, 8}\n",
        "print(B.union(A)) #{1, 2, 3, 4, 5, 6, 7, 8}"
      ],
      "metadata": {
        "colab": {
          "base_uri": "https://localhost:8080/"
        },
        "id": "pr0dTui-kZqO",
        "outputId": "69c59315-e970-4dd3-a753-2d50484011c4"
      },
      "execution_count": 24,
      "outputs": [
        {
          "output_type": "stream",
          "name": "stdout",
          "text": [
            "{1, 2, 3, 4, 5, 6, 7, 8}\n",
            "{1, 2, 3, 4, 5, 6, 7, 8}\n",
            "{1, 2, 3, 4, 5, 6, 7, 8}\n",
            "{1, 2, 3, 4, 5, 6, 7, 8}\n"
          ]
        }
      ]
    },
    {
      "cell_type": "code",
      "source": [
        "# Set intersection\n",
        "# common in both the sets\n",
        "# & operator\n",
        "# intersection()\n",
        "\n",
        "A ={1,2,3,4,5}\n",
        "B = {4,5,6,7,8}\n",
        "\n",
        "# use & operator\n",
        "print(A&B) #{4, 5}\n",
        "print(B&A) #{4, 5}\n",
        "\n",
        "# use intersection() method\n",
        "print(A.intersection(B)) #{4, 5}\n",
        "print(B.intersection(A)) #{4, 5}"
      ],
      "metadata": {
        "colab": {
          "base_uri": "https://localhost:8080/"
        },
        "id": "73TtES4NlmpI",
        "outputId": "d242cb0f-1c73-4f1c-fc45-f729d6aa4bd4"
      },
      "execution_count": 25,
      "outputs": [
        {
          "output_type": "stream",
          "name": "stdout",
          "text": [
            "{4, 5}\n",
            "{4, 5}\n",
            "{4, 5}\n",
            "{4, 5}\n"
          ]
        }
      ]
    },
    {
      "cell_type": "code",
      "source": [
        "# Set difference (A-B) or (B - A)\n",
        "# - operator\n",
        "# difference\n",
        "A ={1,2,3,4,5}\n",
        "B = {4,5,6,7,8}\n",
        "\n",
        "# Use - operator\n",
        "print(A-B) #{1, 2, 3}\n",
        "print(B-A) #{8, 6, 7}\n",
        "\n",
        "# Use difference meth\n",
        "print(A.difference(B)) #{1, 2, 3}\n",
        "print(B.difference(A)) #{8, 6, 7}"
      ],
      "metadata": {
        "colab": {
          "base_uri": "https://localhost:8080/"
        },
        "id": "4lLIvlV4lqgn",
        "outputId": "6f99c7ca-8fb9-4e69-c29b-21eafcd8fc9c"
      },
      "execution_count": 26,
      "outputs": [
        {
          "output_type": "stream",
          "name": "stdout",
          "text": [
            "{1, 2, 3}\n",
            "{8, 6, 7}\n",
            "{1, 2, 3}\n",
            "{8, 6, 7}\n"
          ]
        }
      ]
    },
    {
      "cell_type": "code",
      "source": [
        "# Symetric difference\n",
        "# Elements which are in A and B but not in both\n",
        "# ^ operator\n",
        "# symmetric_difference\n",
        "A ={1,2,3,4,5}\n",
        "B = {4,5,6,7,8}\n",
        "\n",
        "print(A^B) #{1, 2, 3, 6, 7, 8}\n",
        "print(B^A) #{1, 2, 3, 6, 7, 8}\n",
        "\n",
        "print(A.symmetric_difference(B)) #{1, 2, 3, 6, 7, 8}\n",
        "print(B.symmetric_difference(A)) #{1, 2, 3, 6, 7, 8}"
      ],
      "metadata": {
        "colab": {
          "base_uri": "https://localhost:8080/"
        },
        "id": "82z_54u_l0HW",
        "outputId": "49f45c0d-efb8-47da-e973-afe7a8431127"
      },
      "execution_count": 27,
      "outputs": [
        {
          "output_type": "stream",
          "name": "stdout",
          "text": [
            "{1, 2, 3, 6, 7, 8}\n",
            "{1, 2, 3, 6, 7, 8}\n",
            "{1, 2, 3, 6, 7, 8}\n",
            "{1, 2, 3, 6, 7, 8}\n"
          ]
        }
      ]
    },
    {
      "cell_type": "code",
      "source": [
        "A = {1, 2, 3}\n",
        "B = {1, 2, 3, 4, 5}\n",
        "\n",
        "result = A.issubset(B)\n",
        "print(result)  # Output: True"
      ],
      "metadata": {
        "colab": {
          "base_uri": "https://localhost:8080/"
        },
        "id": "Y-wWxccJl65P",
        "outputId": "b1b4f062-dec0-435c-af5f-e3347d68bf1c"
      },
      "execution_count": 28,
      "outputs": [
        {
          "output_type": "stream",
          "name": "stdout",
          "text": [
            "True\n"
          ]
        }
      ]
    },
    {
      "cell_type": "code",
      "source": [
        "A = {1, 2, 3, 4, 5}\n",
        "B = {1, 2, 3}\n",
        "\n",
        "result = A.issuperset(B)\n",
        "print(result)  # Output: True"
      ],
      "metadata": {
        "colab": {
          "base_uri": "https://localhost:8080/"
        },
        "id": "Jjyy3TpZmE1t",
        "outputId": "9436fff3-b7bd-4072-adaa-67fdae3db713"
      },
      "execution_count": 29,
      "outputs": [
        {
          "output_type": "stream",
          "name": "stdout",
          "text": [
            "True\n"
          ]
        }
      ]
    },
    {
      "cell_type": "code",
      "source": [
        "A = {1, 2, 3, 4, 5}\n",
        "#B = {1, 2, 3}\n",
        "\n",
        "result = A.issuperset([1,2,3])\n",
        "print(result)  # Output: True"
      ],
      "metadata": {
        "colab": {
          "base_uri": "https://localhost:8080/"
        },
        "id": "HU-JQTJgmHZ5",
        "outputId": "44ad3f63-58fb-4253-f34e-d0b2892cb7ee"
      },
      "execution_count": 32,
      "outputs": [
        {
          "output_type": "stream",
          "name": "stdout",
          "text": [
            "True\n"
          ]
        }
      ]
    },
    {
      "cell_type": "code",
      "source": [
        "A = {1, 2, 3, 4, 5}\n",
        "#B = {1, 2, 3}\n",
        "\n",
        "result = A.issuperset((1,2,3))\n",
        "print(result)  # Output: True"
      ],
      "metadata": {
        "colab": {
          "base_uri": "https://localhost:8080/"
        },
        "id": "2KueVJ0EmPpj",
        "outputId": "e71795af-9a96-422b-d28c-805cbe4c1d25"
      },
      "execution_count": 34,
      "outputs": [
        {
          "output_type": "stream",
          "name": "stdout",
          "text": [
            "True\n"
          ]
        }
      ]
    },
    {
      "cell_type": "code",
      "source": [],
      "metadata": {
        "id": "sibYuKklmbnS"
      },
      "execution_count": null,
      "outputs": []
    }
  ]
}