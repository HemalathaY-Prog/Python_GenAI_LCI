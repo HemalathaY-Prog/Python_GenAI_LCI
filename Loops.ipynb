{
  "nbformat": 4,
  "nbformat_minor": 0,
  "metadata": {
    "colab": {
      "provenance": [],
      "authorship_tag": "ABX9TyMJCa91hUmYtkvY+799Pu9X",
      "include_colab_link": true
    },
    "kernelspec": {
      "name": "python3",
      "display_name": "Python 3"
    },
    "language_info": {
      "name": "python"
    }
  },
  "cells": [
    {
      "cell_type": "markdown",
      "metadata": {
        "id": "view-in-github",
        "colab_type": "text"
      },
      "source": [
        "<a href=\"https://colab.research.google.com/github/HemalathaY-Prog/Python_GenAI_LCI/blob/main/Loops.ipynb\" target=\"_parent\"><img src=\"https://colab.research.google.com/assets/colab-badge.svg\" alt=\"Open In Colab\"/></a>"
      ]
    },
    {
      "cell_type": "code",
      "execution_count": 1,
      "metadata": {
        "colab": {
          "base_uri": "https://localhost:8080/"
        },
        "id": "ycKMMRsyGMmH",
        "outputId": "d0d86a11-8fe6-4fc7-9698-74cf522d4108"
      },
      "outputs": [
        {
          "output_type": "stream",
          "name": "stdout",
          "text": [
            "P\n",
            "y\n",
            "t\n",
            "h\n",
            "o\n",
            "n\n"
          ]
        }
      ],
      "source": [
        "# for loop iterate through a string\n",
        "for letter in \"Python\":\n",
        "    print(letter)"
      ]
    },
    {
      "cell_type": "code",
      "source": [
        "#for loop  iterate through a list\n",
        "vowels = ['a','e','i','o','u']\n",
        "print(type(vowels))\n",
        "\n",
        "for val in vowels:\n",
        "    print(val)"
      ],
      "metadata": {
        "colab": {
          "base_uri": "https://localhost:8080/"
        },
        "id": "k4AH9SamcMq4",
        "outputId": "cb8bc3d2-05e9-4215-90ca-8abfbec30901"
      },
      "execution_count": 2,
      "outputs": [
        {
          "output_type": "stream",
          "name": "stdout",
          "text": [
            "<class 'list'>\n",
            "a\n",
            "e\n",
            "i\n",
            "o\n",
            "u\n"
          ]
        }
      ]
    },
    {
      "cell_type": "code",
      "source": [
        "#for loop iterate through a range of values\n",
        "\n",
        "for i in range(11): # start index 0\n",
        "    print(i)"
      ],
      "metadata": {
        "colab": {
          "base_uri": "https://localhost:8080/"
        },
        "id": "BYtH8z44cVqR",
        "outputId": "69bec456-2703-4422-8128-7e500d23f0f0"
      },
      "execution_count": 3,
      "outputs": [
        {
          "output_type": "stream",
          "name": "stdout",
          "text": [
            "0\n",
            "1\n",
            "2\n",
            "3\n",
            "4\n",
            "5\n",
            "6\n",
            "7\n",
            "8\n",
            "9\n",
            "10\n"
          ]
        }
      ]
    },
    {
      "cell_type": "code",
      "source": [
        "#for loop iterate through a range of values\n",
        "# start index - inclusive , end index - exclusive\n",
        "# by default incrementing by 1\n",
        "\n",
        "for i in range(5, 16):\n",
        "    print(i)\n",
        ""
      ],
      "metadata": {
        "colab": {
          "base_uri": "https://localhost:8080/"
        },
        "id": "PnfguAwmcZhc",
        "outputId": "85f3d0dc-85ef-41db-d642-e5e74f24e2d5"
      },
      "execution_count": 4,
      "outputs": [
        {
          "output_type": "stream",
          "name": "stdout",
          "text": [
            "5\n",
            "6\n",
            "7\n",
            "8\n",
            "9\n",
            "10\n",
            "11\n",
            "12\n",
            "13\n",
            "14\n",
            "15\n"
          ]
        }
      ]
    },
    {
      "cell_type": "code",
      "source": [
        "#for loop iterate through a range of values\n",
        "\n",
        "for i in range(30, 0,-1):  # decrementing by 1\n",
        "    print(i)\n"
      ],
      "metadata": {
        "colab": {
          "base_uri": "https://localhost:8080/"
        },
        "id": "e9J2r-0eccMT",
        "outputId": "4b6387bc-205c-4de1-ba14-5bb77bea2e52"
      },
      "execution_count": 13,
      "outputs": [
        {
          "output_type": "stream",
          "name": "stdout",
          "text": [
            "30\n",
            "29\n",
            "28\n",
            "27\n",
            "26\n",
            "25\n",
            "24\n",
            "23\n",
            "22\n",
            "21\n",
            "20\n",
            "19\n",
            "18\n",
            "17\n",
            "16\n",
            "15\n",
            "14\n",
            "13\n",
            "12\n",
            "11\n",
            "10\n",
            "9\n",
            "8\n",
            "7\n",
            "6\n",
            "5\n",
            "4\n",
            "3\n",
            "2\n",
            "1\n"
          ]
        }
      ]
    },
    {
      "cell_type": "code",
      "source": [
        "# for loop\n",
        "vowels = ['a','e','i','o','u']\n",
        "\n",
        "print(\"list length= \",len(vowels))\n",
        "\n",
        "# for loop will only iterate through a sequence\n",
        "for i in range(len(vowels)):  # range(5)\n",
        "    print(i,\" value= \",vowels[i])"
      ],
      "metadata": {
        "colab": {
          "base_uri": "https://localhost:8080/"
        },
        "id": "eV8__pzDcgDg",
        "outputId": "f2009b32-a88f-4aee-82b7-ebe1fb4249fd"
      },
      "execution_count": 6,
      "outputs": [
        {
          "output_type": "stream",
          "name": "stdout",
          "text": [
            "list length=  5\n",
            "0  value=  a\n",
            "1  value=  e\n",
            "2  value=  i\n",
            "3  value=  o\n",
            "4  value=  u\n"
          ]
        }
      ]
    },
    {
      "cell_type": "code",
      "source": [
        "x = 0\n",
        "\n",
        "while x < 5:\n",
        "    print(f'The current value of x is {x}')\n",
        "    x += 1"
      ],
      "metadata": {
        "colab": {
          "base_uri": "https://localhost:8080/"
        },
        "id": "gjwm21cdc_Xn",
        "outputId": "4a329e11-9019-4e72-c503-c21e9f0eb6b3"
      },
      "execution_count": 15,
      "outputs": [
        {
          "output_type": "stream",
          "name": "stdout",
          "text": [
            "The current value of x is 0\n",
            "The current value of x is 1\n",
            "The current value of x is 2\n",
            "The current value of x is 3\n",
            "The current value of x is 4\n"
          ]
        }
      ]
    },
    {
      "cell_type": "markdown",
      "source": [
        "# Break and Continue"
      ],
      "metadata": {
        "id": "mqmbTmljdRPx"
      }
    },
    {
      "cell_type": "code",
      "source": [
        "for i in range(1, 11):\n",
        "    if i == 5:\n",
        "        break\n",
        "    print(i)\n"
      ],
      "metadata": {
        "colab": {
          "base_uri": "https://localhost:8080/"
        },
        "id": "zLyzUVKJdCz6",
        "outputId": "991ed445-fabd-41a9-9933-0b472f2ea7ca"
      },
      "execution_count": 16,
      "outputs": [
        {
          "output_type": "stream",
          "name": "stdout",
          "text": [
            "1\n",
            "2\n",
            "3\n",
            "4\n"
          ]
        }
      ]
    },
    {
      "cell_type": "code",
      "source": [
        "for num in range(1, 10):\n",
        "    if num == 5:\n",
        "        continue\n",
        "    print(num)"
      ],
      "metadata": {
        "colab": {
          "base_uri": "https://localhost:8080/"
        },
        "id": "vmYnBzZrdVO9",
        "outputId": "f8d3a1f4-de2e-4122-a5e0-f7df84ff0ce2"
      },
      "execution_count": 17,
      "outputs": [
        {
          "output_type": "stream",
          "name": "stdout",
          "text": [
            "1\n",
            "2\n",
            "3\n",
            "4\n",
            "6\n",
            "7\n",
            "8\n",
            "9\n"
          ]
        }
      ]
    },
    {
      "cell_type": "code",
      "source": [
        "#while loop\n",
        "count = 0\n",
        "\n",
        "while True:\n",
        "    count += 1\n",
        "\n",
        "    if count > 10:\n",
        "        break    # exit the loop when count exceeds 10\n",
        "    if count == 5:\n",
        "        continue  # skip the rest of the loop for count is 5\n",
        "\n",
        "    print(count)"
      ],
      "metadata": {
        "colab": {
          "base_uri": "https://localhost:8080/"
        },
        "id": "DbaQmmTwdjZM",
        "outputId": "6f21b833-936a-4cd3-b351-cecd9a03e967"
      },
      "execution_count": 18,
      "outputs": [
        {
          "output_type": "stream",
          "name": "stdout",
          "text": [
            "1\n",
            "2\n",
            "3\n",
            "4\n",
            "6\n",
            "7\n",
            "8\n",
            "9\n",
            "10\n"
          ]
        }
      ]
    },
    {
      "cell_type": "code",
      "source": [
        "for i in range(3):       # First or outer loop\n",
        "    for j in range(3):   # Second or inner loop\n",
        "        print(i, j)\n"
      ],
      "metadata": {
        "colab": {
          "base_uri": "https://localhost:8080/"
        },
        "id": "q7kJwnrzdwqD",
        "outputId": "36d5163f-9b27-4591-a0af-c4a6091ab29c"
      },
      "execution_count": 19,
      "outputs": [
        {
          "output_type": "stream",
          "name": "stdout",
          "text": [
            "0 0\n",
            "0 1\n",
            "0 2\n",
            "1 0\n",
            "1 1\n",
            "1 2\n",
            "2 0\n",
            "2 1\n",
            "2 2\n"
          ]
        }
      ]
    },
    {
      "cell_type": "code",
      "source": [
        "# Nested loop\n",
        "print(\"Nested loop\")\n",
        "for i in range(5):\n",
        "    for j in range(10):\n",
        "        print(\"index: \",i, \" value = \",j)"
      ],
      "metadata": {
        "colab": {
          "base_uri": "https://localhost:8080/"
        },
        "id": "q0Yu9Us8d-XU",
        "outputId": "6f9f0e0c-1ba5-4c57-e2d1-dc3e19cb52b8"
      },
      "execution_count": 20,
      "outputs": [
        {
          "output_type": "stream",
          "name": "stdout",
          "text": [
            "Nested loop\n",
            "index:  0  value =  0\n",
            "index:  0  value =  1\n",
            "index:  0  value =  2\n",
            "index:  0  value =  3\n",
            "index:  0  value =  4\n",
            "index:  0  value =  5\n",
            "index:  0  value =  6\n",
            "index:  0  value =  7\n",
            "index:  0  value =  8\n",
            "index:  0  value =  9\n",
            "index:  1  value =  0\n",
            "index:  1  value =  1\n",
            "index:  1  value =  2\n",
            "index:  1  value =  3\n",
            "index:  1  value =  4\n",
            "index:  1  value =  5\n",
            "index:  1  value =  6\n",
            "index:  1  value =  7\n",
            "index:  1  value =  8\n",
            "index:  1  value =  9\n",
            "index:  2  value =  0\n",
            "index:  2  value =  1\n",
            "index:  2  value =  2\n",
            "index:  2  value =  3\n",
            "index:  2  value =  4\n",
            "index:  2  value =  5\n",
            "index:  2  value =  6\n",
            "index:  2  value =  7\n",
            "index:  2  value =  8\n",
            "index:  2  value =  9\n",
            "index:  3  value =  0\n",
            "index:  3  value =  1\n",
            "index:  3  value =  2\n",
            "index:  3  value =  3\n",
            "index:  3  value =  4\n",
            "index:  3  value =  5\n",
            "index:  3  value =  6\n",
            "index:  3  value =  7\n",
            "index:  3  value =  8\n",
            "index:  3  value =  9\n",
            "index:  4  value =  0\n",
            "index:  4  value =  1\n",
            "index:  4  value =  2\n",
            "index:  4  value =  3\n",
            "index:  4  value =  4\n",
            "index:  4  value =  5\n",
            "index:  4  value =  6\n",
            "index:  4  value =  7\n",
            "index:  4  value =  8\n",
            "index:  4  value =  9\n"
          ]
        }
      ]
    },
    {
      "cell_type": "code",
      "source": [
        "for i in range(3):\n",
        "  for j in range(3):\n",
        "    print(i,j)"
      ],
      "metadata": {
        "colab": {
          "base_uri": "https://localhost:8080/"
        },
        "id": "bdLSgFrFeEUh",
        "outputId": "8ae9d2c4-bc19-4ab5-d9d5-8940e36239aa"
      },
      "execution_count": 21,
      "outputs": [
        {
          "output_type": "stream",
          "name": "stdout",
          "text": [
            "0 0\n",
            "0 1\n",
            "0 2\n",
            "1 0\n",
            "1 1\n",
            "1 2\n",
            "2 0\n",
            "2 1\n",
            "2 2\n"
          ]
        }
      ]
    },
    {
      "cell_type": "code",
      "source": [
        "for i in range(3):\n",
        "  for j in range(3):\n",
        "    for k in range(3):\n",
        "      print(i,j,k)"
      ],
      "metadata": {
        "colab": {
          "base_uri": "https://localhost:8080/"
        },
        "id": "M5gOA8koeM0u",
        "outputId": "7b0516c1-b55b-4b3c-bb6d-dcf332d3f3c3"
      },
      "execution_count": 23,
      "outputs": [
        {
          "output_type": "stream",
          "name": "stdout",
          "text": [
            "0 0 0\n",
            "0 0 1\n",
            "0 0 2\n",
            "0 1 0\n",
            "0 1 1\n",
            "0 1 2\n",
            "0 2 0\n",
            "0 2 1\n",
            "0 2 2\n",
            "1 0 0\n",
            "1 0 1\n",
            "1 0 2\n",
            "1 1 0\n",
            "1 1 1\n",
            "1 1 2\n",
            "1 2 0\n",
            "1 2 1\n",
            "1 2 2\n",
            "2 0 0\n",
            "2 0 1\n",
            "2 0 2\n",
            "2 1 0\n",
            "2 1 1\n",
            "2 1 2\n",
            "2 2 0\n",
            "2 2 1\n",
            "2 2 2\n"
          ]
        }
      ]
    },
    {
      "cell_type": "code",
      "source": [
        "i=1\n",
        "while i in range(1,25):\n",
        "  i+=1\n",
        "  if i%2==0:\n",
        "    print(\"even num : \",i)\n",
        "\n",
        ""
      ],
      "metadata": {
        "colab": {
          "base_uri": "https://localhost:8080/"
        },
        "id": "KQoDd4MFeWgb",
        "outputId": "d181a6ac-d847-4a80-b825-dd369028bf2b"
      },
      "execution_count": 33,
      "outputs": [
        {
          "output_type": "stream",
          "name": "stdout",
          "text": [
            "even num :  2\n",
            "even num :  4\n",
            "even num :  6\n",
            "even num :  8\n",
            "even num :  10\n",
            "even num :  12\n",
            "even num :  14\n",
            "even num :  16\n",
            "even num :  18\n",
            "even num :  20\n",
            "even num :  22\n",
            "even num :  24\n"
          ]
        }
      ]
    },
    {
      "cell_type": "code",
      "source": [
        "for i in range(1,25):\n",
        "  if i%2==0:\n",
        "    print(\"even num : \",i)"
      ],
      "metadata": {
        "colab": {
          "base_uri": "https://localhost:8080/"
        },
        "id": "Pzi2NrwFgCrC",
        "outputId": "b43f4700-3eb9-4970-bd42-7deaa427fdf9"
      },
      "execution_count": 34,
      "outputs": [
        {
          "output_type": "stream",
          "name": "stdout",
          "text": [
            "even num :  2\n",
            "even num :  4\n",
            "even num :  6\n",
            "even num :  8\n",
            "even num :  10\n",
            "even num :  12\n",
            "even num :  14\n",
            "even num :  16\n",
            "even num :  18\n",
            "even num :  20\n",
            "even num :  22\n",
            "even num :  24\n"
          ]
        }
      ]
    },
    {
      "cell_type": "code",
      "source": [
        "i=1\n",
        "factorial=1\n",
        "while i in range(1,5):\n",
        "  i+=1\n",
        "  factorial*=i\n",
        "  print(factorial)"
      ],
      "metadata": {
        "colab": {
          "base_uri": "https://localhost:8080/"
        },
        "id": "BrziCDEdgHpb",
        "outputId": "64ab4865-75ff-4d4f-9d9c-8b381fef2d35"
      },
      "execution_count": 39,
      "outputs": [
        {
          "output_type": "stream",
          "name": "stdout",
          "text": [
            "2\n",
            "6\n",
            "24\n",
            "120\n"
          ]
        }
      ]
    },
    {
      "cell_type": "code",
      "source": [
        "factorial=1\n",
        "for i in range(1,5):\n",
        "  factorial*=i\n",
        "  print(factorial)"
      ],
      "metadata": {
        "colab": {
          "base_uri": "https://localhost:8080/"
        },
        "id": "h0Cn8pK3gz9_",
        "outputId": "ecc88fb1-df94-4999-e028-8383d84a6157"
      },
      "execution_count": 41,
      "outputs": [
        {
          "output_type": "stream",
          "name": "stdout",
          "text": [
            "1\n",
            "2\n",
            "6\n",
            "24\n"
          ]
        }
      ]
    },
    {
      "cell_type": "code",
      "source": [],
      "metadata": {
        "id": "sJq-l6sqg2r1"
      },
      "execution_count": null,
      "outputs": []
    }
  ]
}