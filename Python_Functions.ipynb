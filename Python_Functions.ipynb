{
  "nbformat": 4,
  "nbformat_minor": 0,
  "metadata": {
    "colab": {
      "provenance": [],
      "authorship_tag": "ABX9TyOcWSB9TdESnTt7XlCY5474",
      "include_colab_link": true
    },
    "kernelspec": {
      "name": "python3",
      "display_name": "Python 3"
    },
    "language_info": {
      "name": "python"
    }
  },
  "cells": [
    {
      "cell_type": "markdown",
      "metadata": {
        "id": "view-in-github",
        "colab_type": "text"
      },
      "source": [
        "<a href=\"https://colab.research.google.com/github/HemalathaY-Prog/Python_GenAI_LCI/blob/main/Python_Functions.ipynb\" target=\"_parent\"><img src=\"https://colab.research.google.com/assets/colab-badge.svg\" alt=\"Open In Colab\"/></a>"
      ]
    },
    {
      "cell_type": "code",
      "execution_count": 1,
      "metadata": {
        "id": "S_9OoNBarKYm",
        "colab": {
          "base_uri": "https://localhost:8080/",
          "height": 106
        },
        "outputId": "0f55c87b-db72-4683-8992-d86d61095d3c"
      },
      "outputs": [
        {
          "output_type": "error",
          "ename": "IndentationError",
          "evalue": "expected an indented block after function definition on line 1 (<ipython-input-1-db5d4172f74b>, line 2)",
          "traceback": [
            "\u001b[0;36m  File \u001b[0;32m\"<ipython-input-1-db5d4172f74b>\"\u001b[0;36m, line \u001b[0;32m2\u001b[0m\n\u001b[0;31m    \"\"\"\u001b[0m\n\u001b[0m    ^\u001b[0m\n\u001b[0;31mIndentationError\u001b[0m\u001b[0;31m:\u001b[0m expected an indented block after function definition on line 1\n"
          ]
        }
      ],
      "source": [
        "def greet(name):\n",
        "\"\"\"\n",
        "This function greets the person passed in as parameter\n",
        "\"\"\"\n",
        "print(\"Hello, \" + name + \". Good morning!\")\n",
        "# Calling function\n",
        "greet('John')"
      ]
    },
    {
      "cell_type": "markdown",
      "source": [
        "user defined function(UDF)"
      ],
      "metadata": {
        "id": "ctJ9pRaJZFxm"
      }
    },
    {
      "cell_type": "code",
      "source": [
        "def function_name(parameters):\n",
        "    '''docstring'''\n",
        "    statement(s)"
      ],
      "metadata": {
        "id": "I9ITJHh2YdMu"
      },
      "execution_count": 2,
      "outputs": []
    },
    {
      "cell_type": "code",
      "source": [
        "function_name(parameters)"
      ],
      "metadata": {
        "colab": {
          "base_uri": "https://localhost:8080/",
          "height": 141
        },
        "id": "hQNk9tS-ZKVp",
        "outputId": "c415e767-b69f-43fd-c89d-2b7ce6da8466"
      },
      "execution_count": 3,
      "outputs": [
        {
          "output_type": "error",
          "ename": "NameError",
          "evalue": "name 'parameters' is not defined",
          "traceback": [
            "\u001b[0;31m---------------------------------------------------------------------------\u001b[0m",
            "\u001b[0;31mNameError\u001b[0m                                 Traceback (most recent call last)",
            "\u001b[0;32m<ipython-input-3-55096d1dc2b6>\u001b[0m in \u001b[0;36m<cell line: 1>\u001b[0;34m()\u001b[0m\n\u001b[0;32m----> 1\u001b[0;31m \u001b[0mfunction_name\u001b[0m\u001b[0;34m(\u001b[0m\u001b[0mparameters\u001b[0m\u001b[0;34m)\u001b[0m\u001b[0;34m\u001b[0m\u001b[0;34m\u001b[0m\u001b[0m\n\u001b[0m",
            "\u001b[0;31mNameError\u001b[0m: name 'parameters' is not defined"
          ]
        }
      ]
    },
    {
      "cell_type": "code",
      "source": [
        "  # Write our own functions\n",
        "\n",
        "def sayHello(name): # function defination\n",
        "    # function body\n",
        "    print(f\"Your name is {name}\")\n",
        "    return f\"Your name is {name}\"\n",
        "\n",
        "#calling a function\n",
        "sayHello(\"Uttam\")\n",
        "\n",
        "#calling a function\n",
        "return_val = sayHello(\"Uttam\")\n",
        "print(\"return value: \", return_val) # None"
      ],
      "metadata": {
        "colab": {
          "base_uri": "https://localhost:8080/"
        },
        "id": "ma6SnzSYZZpl",
        "outputId": "009b714e-fe91-49e6-c616-4f0be4abda5a"
      },
      "execution_count": 8,
      "outputs": [
        {
          "output_type": "stream",
          "name": "stdout",
          "text": [
            "Your name is Uttam\n",
            "Your name is Uttam\n",
            "return value:  Your name is Uttam\n"
          ]
        }
      ]
    },
    {
      "cell_type": "markdown",
      "source": [
        "Doc string"
      ],
      "metadata": {
        "id": "8Ehtx8IkZzKP"
      }
    },
    {
      "cell_type": "code",
      "source": [
        "def add_numbers(a, b):\n",
        "    \"\"\"\n",
        "    This function adds two numbers and returns the result.\n",
        "\n",
        "    Parameters:\n",
        "    a (int): The first number to add\n",
        "    b (int): The second number to add\n",
        "\n",
        "    Returns:\n",
        "    int: The result of adding a and b\n",
        "    \"\"\"\n",
        "    return a + b"
      ],
      "metadata": {
        "id": "vaabpaPdZcpR"
      },
      "execution_count": 5,
      "outputs": []
    },
    {
      "cell_type": "code",
      "source": [
        "print(add_numbers.__doc__)"
      ],
      "metadata": {
        "colab": {
          "base_uri": "https://localhost:8080/"
        },
        "id": "vma9yUVQZ1sS",
        "outputId": "85ba9cfa-dfb4-482e-9e4b-4d072b6ce8b9"
      },
      "execution_count": 6,
      "outputs": [
        {
          "output_type": "stream",
          "name": "stdout",
          "text": [
            "\n",
            "    This function adds two numbers and returns the result.\n",
            "\n",
            "    Parameters:\n",
            "    a (int): The first number to add\n",
            "    b (int): The second number to add\n",
            "\n",
            "    Returns:\n",
            "    int: The result of adding a and b\n",
            "    \n"
          ]
        }
      ]
    },
    {
      "cell_type": "code",
      "source": [
        "def multiple(x, y):\n",
        "    return x * y   #return an expression\n",
        "\n",
        "result = multiple(5, 3)\n",
        "print(result)  # Output: 15"
      ],
      "metadata": {
        "colab": {
          "base_uri": "https://localhost:8080/"
        },
        "id": "vGPyFnaSZ46s",
        "outputId": "375058ad-96ab-4f96-a698-1f4510677b66"
      },
      "execution_count": 7,
      "outputs": [
        {
          "output_type": "stream",
          "name": "stdout",
          "text": [
            "15\n"
          ]
        }
      ]
    },
    {
      "cell_type": "markdown",
      "source": [
        "Function Arguments\n",
        "\n",
        "\n",
        "*   Required arguments\n",
        "*   defailt args\n",
        "*   keyword args\n",
        "*   variable length args\n",
        "\n"
      ],
      "metadata": {
        "id": "Q42tJmQDcMrF"
      }
    },
    {
      "cell_type": "code",
      "source": [
        "#Required args\n",
        "def greet(name):\n",
        "    print(f'Hello, {name}')\n",
        "greet('Alice')  # 'Alice' is a required argument.\n"
      ],
      "metadata": {
        "colab": {
          "base_uri": "https://localhost:8080/"
        },
        "id": "7nHmbL9eaQxS",
        "outputId": "73286ec0-9ce4-44ea-a344-7c3b53c995f9"
      },
      "execution_count": 9,
      "outputs": [
        {
          "output_type": "stream",
          "name": "stdout",
          "text": [
            "Hello, Alice\n"
          ]
        }
      ]
    },
    {
      "cell_type": "code",
      "source": [
        "#default args\n",
        "def greet(name='User'):\n",
        "    print(f'Hello, {name}')\n",
        "greet()  # No argument supplied, so uses default value 'User'.\n"
      ],
      "metadata": {
        "colab": {
          "base_uri": "https://localhost:8080/"
        },
        "id": "BOdq0m1jccTp",
        "outputId": "0becbc5e-f40f-4c09-dd97-5e4a261d414f"
      },
      "execution_count": 10,
      "outputs": [
        {
          "output_type": "stream",
          "name": "stdout",
          "text": [
            "Hello, User\n"
          ]
        }
      ]
    },
    {
      "cell_type": "code",
      "source": [
        "#keyword args\n",
        "def describe_pet(animal_type, pet_name):\n",
        "    print(f\"I have a {animal_type} and its name is {pet_name}\")\n",
        "describe_pet(pet_name='Harry', animal_type='hamster')  # Order of arguments is changed.\n"
      ],
      "metadata": {
        "colab": {
          "base_uri": "https://localhost:8080/"
        },
        "id": "AOJmIkcNcinf",
        "outputId": "a9829f87-8682-4c65-c8c3-aafcb476fe3b"
      },
      "execution_count": 11,
      "outputs": [
        {
          "output_type": "stream",
          "name": "stdout",
          "text": [
            "I have a hamster and its name is Harry\n"
          ]
        }
      ]
    },
    {
      "cell_type": "code",
      "source": [
        "#varilable length args *args\n",
        "# *args (Non Keyword Arguments)\n",
        "def greet(*names):\n",
        "    for name in names:\n",
        "        print(f'Hello, {name}')\n",
        "greet('Alice', 'Bob', 'Charlie')  # Passes multiple arguments."
      ],
      "metadata": {
        "colab": {
          "base_uri": "https://localhost:8080/"
        },
        "id": "PD4tiu3Dcm2e",
        "outputId": "c3b99cce-09e5-49ae-f15d-95f2949bd52c"
      },
      "execution_count": 12,
      "outputs": [
        {
          "output_type": "stream",
          "name": "stdout",
          "text": [
            "Hello, Alice\n",
            "Hello, Bob\n",
            "Hello, Charlie\n"
          ]
        }
      ]
    },
    {
      "cell_type": "code",
      "source": [
        "#**kwargs\n",
        "# **kwargs (Keyword Arguments)\n",
        "def greet(**names):\n",
        "\tfor key, value in names.items():\n",
        "\t\tprint(\"{0} = {1}\".format(key, value))\n",
        "\n",
        "greet(first_name=\"Alice\", last_name=\"Smith\") # Multiple keyword arguments can be passed."
      ],
      "metadata": {
        "colab": {
          "base_uri": "https://localhost:8080/"
        },
        "id": "ciHGlpWOc39d",
        "outputId": "0b506f19-fd49-4ad3-80e9-cad460ce9a68"
      },
      "execution_count": 13,
      "outputs": [
        {
          "output_type": "stream",
          "name": "stdout",
          "text": [
            "first_name = Alice\n",
            "last_name = Smith\n"
          ]
        }
      ]
    },
    {
      "cell_type": "code",
      "source": [],
      "metadata": {
        "id": "NOqAoXFxec5f"
      },
      "execution_count": null,
      "outputs": []
    },
    {
      "cell_type": "markdown",
      "source": [
        "Order of function args\n",
        "\n",
        "\n",
        "*   Required args: these are the args passed to a function in correct positional order.the number of args in the function call should match exactly with the function definition.\n",
        "*   Default args: a default arg is an arg that assumes a default value if a value is not provided in the function call for that arg.\n",
        "*   Keyword args:keyword args are related to the function calls. when you use keyword args in a function call ,the caller identifies the args by the param value\n",
        "*   variable length args: you may need to process a function for more args than you specified while defining the function . these args are called variable length args and are not named in the function definition.\n",
        "\n",
        "\n",
        "\n"
      ],
      "metadata": {
        "id": "D0AHHK3ydJ-f"
      }
    },
    {
      "cell_type": "code",
      "source": [
        "def function_name(required_args,\n",
        "\tdefault_args=value, *variable_args, **keyword_args):\n",
        "  statement(s)"
      ],
      "metadata": {
        "colab": {
          "base_uri": "https://localhost:8080/",
          "height": 176
        },
        "id": "KkVAdOOtc-3-",
        "outputId": "fa7da01d-cb60-4cb0-f36a-46d3136c0b56"
      },
      "execution_count": 15,
      "outputs": [
        {
          "output_type": "error",
          "ename": "NameError",
          "evalue": "name 'value' is not defined",
          "traceback": [
            "\u001b[0;31m---------------------------------------------------------------------------\u001b[0m",
            "\u001b[0;31mNameError\u001b[0m                                 Traceback (most recent call last)",
            "\u001b[0;32m<ipython-input-15-6f7f40a771cb>\u001b[0m in \u001b[0;36m<cell line: 2>\u001b[0;34m()\u001b[0m\n\u001b[1;32m      1\u001b[0m def function_name(required_args, \n\u001b[0;32m----> 2\u001b[0;31m \tdefault_args=value, *variable_args, **keyword_args):\n\u001b[0m\u001b[1;32m      3\u001b[0m   \u001b[0mstatement\u001b[0m\u001b[0;34m(\u001b[0m\u001b[0ms\u001b[0m\u001b[0;34m)\u001b[0m\u001b[0;34m\u001b[0m\u001b[0;34m\u001b[0m\u001b[0m\n",
            "\u001b[0;31mNameError\u001b[0m: name 'value' is not defined"
          ]
        }
      ]
    },
    {
      "cell_type": "code",
      "source": [
        "def example_function(req_arg, def_arg=\"default\", *var_args, **kw_args):\n",
        "    print(\"Required argument: \", req_arg)\n",
        "    print(\"Default argument: \", def_arg)\n",
        "    print(\"Variable arguments: \", var_args)\n",
        "    print(\"Keyword arguments: \", kw_args)\n",
        "\n",
        "# Calling function\n",
        "example_function(\"required\", \"test\", 1, 2, 3, key1=\"value1\", key2=\"value2\")"
      ],
      "metadata": {
        "colab": {
          "base_uri": "https://localhost:8080/"
        },
        "id": "vDT02L5bfp-U",
        "outputId": "6586fccb-feda-4ce4-f006-7e19342fdf56"
      },
      "execution_count": 16,
      "outputs": [
        {
          "output_type": "stream",
          "name": "stdout",
          "text": [
            "Required argument:  required\n",
            "Default argument:  test\n",
            "Variable arguments:  (1, 2, 3)\n",
            "Keyword arguments:  {'key1': 'value1', 'key2': 'value2'}\n"
          ]
        }
      ]
    },
    {
      "cell_type": "markdown",
      "source": [
        "Recursive function\n",
        "The function call itself."
      ],
      "metadata": {
        "id": "EL7PqrttgH2Z"
      }
    },
    {
      "cell_type": "code",
      "source": [
        "def factorial(n):\n",
        "    if n == 1:\n",
        "        return 1\n",
        "    else:\n",
        "        return n * factorial(n-1)\n",
        "\n",
        "factorial(5)\n"
      ],
      "metadata": {
        "colab": {
          "base_uri": "https://localhost:8080/"
        },
        "id": "NbN16JIQf3cn",
        "outputId": "92712d31-47df-4eab-b9ce-e664877854f1"
      },
      "execution_count": 18,
      "outputs": [
        {
          "output_type": "execute_result",
          "data": {
            "text/plain": [
              "120"
            ]
          },
          "metadata": {},
          "execution_count": 18
        }
      ]
    },
    {
      "cell_type": "markdown",
      "source": [
        "Scope of the variable\n",
        "  The scope of the variable refers to the region within the code where a variable is avaialble for use.\n",
        "\n",
        "1.   Local scope:A var defined inside a function belongs to the local scope of that function , and can only be used inside that function\n",
        "2.   Enclosed scope: this occurs when a function is inside another function (nested functions).varbls that are not local in the inner function and not global are put in the enclosed scope.\n",
        "3.   Global scope: A varb defined outside all function definitions is a global var,and it is accessible from any function in the code.\n",
        "4.   Built-in scope: these are special names that python reserves and provides built-in functions like print(),open() etc.they are always avaialble for use.\n",
        "\n",
        "Note: Remember pythons \"LEGB\" rule defines the sequence in which these scopes are searched for varb names.it first looks in the local scope(L),then in the Enclosed scope(E),next in the global scope(G),and finally in the built-in scope(B).\n",
        "\n",
        "\n",
        "\n"
      ],
      "metadata": {
        "id": "YTN0_fkZgeRV"
      }
    },
    {
      "cell_type": "code",
      "source": [
        "#local scope\n",
        "def func():\n",
        "\tx = 7\n",
        "\tprint(x)\n",
        "\n",
        "\n",
        "func()"
      ],
      "metadata": {
        "colab": {
          "base_uri": "https://localhost:8080/"
        },
        "id": "ZE9kuv5HgNNh",
        "outputId": "186f496a-89b8-4c9d-81f7-946750dabc01"
      },
      "execution_count": 19,
      "outputs": [
        {
          "output_type": "stream",
          "name": "stdout",
          "text": [
            "7\n"
          ]
        }
      ]
    },
    {
      "cell_type": "code",
      "source": [
        "#enclosed scope\n",
        "def outer_func():\n",
        "\tx = 20\n",
        "\tdef inner_func():\n",
        "\t\tprint(x) # this is using x from the enclosed scope, i.e., outer_func\n",
        "\n",
        "\tinner_func()\n",
        "\n",
        "\n",
        "outer_func()"
      ],
      "metadata": {
        "colab": {
          "base_uri": "https://localhost:8080/"
        },
        "id": "b72hYyUZidrj",
        "outputId": "a3f385f2-8745-4ef5-9c89-7131198be9b2"
      },
      "execution_count": 20,
      "outputs": [
        {
          "output_type": "stream",
          "name": "stdout",
          "text": [
            "20\n"
          ]
        }
      ]
    },
    {
      "cell_type": "code",
      "source": [
        "#global scope\n",
        "x = 10\n",
        "\n",
        "def func():\n",
        "\tprint(x) # this will print the global x\n",
        "\n",
        "\n",
        "func()"
      ],
      "metadata": {
        "colab": {
          "base_uri": "https://localhost:8080/"
        },
        "id": "Nm7k1v1fijZA",
        "outputId": "e66a1517-1d0e-4d9c-df5e-212652dfe53f"
      },
      "execution_count": 21,
      "outputs": [
        {
          "output_type": "stream",
          "name": "stdout",
          "text": [
            "10\n"
          ]
        }
      ]
    },
    {
      "cell_type": "code",
      "source": [
        "#scope of the variable\n",
        "\n",
        "#global variable\n",
        "x = \"global\"\n",
        "def changeGlobal():\n",
        "    global x\n",
        "    x = 10  # gloabl\n",
        "    y = 20  # local var\n",
        "    print(\"Inside function x = \", x)\n",
        "\n",
        "print(\" before call Outside function x = \",x)\n",
        "changeGlobal()\n",
        "print(\"after call Outside function x = \",x)"
      ],
      "metadata": {
        "colab": {
          "base_uri": "https://localhost:8080/"
        },
        "id": "lX7rb-vximv6",
        "outputId": "57713874-e540-4f35-9908-494b4babe1fe"
      },
      "execution_count": 22,
      "outputs": [
        {
          "output_type": "stream",
          "name": "stdout",
          "text": [
            " before call Outside function x =  global\n",
            "Inside function x =  10\n",
            "after call Outside function x =  10\n"
          ]
        }
      ]
    },
    {
      "cell_type": "code",
      "source": [
        "# global\n",
        "g_var ='global'\n",
        "\n",
        "def myFun():\n",
        "    global g_var1\n",
        "    global g_var2\n",
        "    g_var1 = 'sam'\n",
        "    g_var2 =\"Joe\"\n",
        "    print(\"inside myfun: \",g_var, g_var1, g_var2) # inside myfun:  global sam Joe\n",
        "\n",
        "def yourFun():\n",
        "    global g_var1\n",
        "    global g_var2\n",
        "    g_var1 = \"sam-changed\"\n",
        "    g_var2 = \"joe-changed\"\n",
        "    print(\"inside your yourFun: \", g_var, g_var1, g_var2) #inside yourFun:  global sam-changed joe-changed\n",
        "\n",
        "myFun()\n",
        "yourFun()\n",
        "print(\"outside function : \",g_var, g_var1, g_var2) #outside function :  global sam-changed joe-changed"
      ],
      "metadata": {
        "colab": {
          "base_uri": "https://localhost:8080/"
        },
        "id": "DoyooIvzioVn",
        "outputId": "b12c00ee-a9fd-43ec-a68d-64942091d7f3"
      },
      "execution_count": 23,
      "outputs": [
        {
          "output_type": "stream",
          "name": "stdout",
          "text": [
            "inside myfun:  global sam Joe\n",
            "inside your yourFun:  global sam-changed joe-changed\n",
            "outside function :  global sam-changed joe-changed\n"
          ]
        }
      ]
    },
    {
      "cell_type": "code",
      "source": [
        "print(\"Hello, World!\") # here, print is a built-in function"
      ],
      "metadata": {
        "colab": {
          "base_uri": "https://localhost:8080/"
        },
        "id": "55SepVOeix0Y",
        "outputId": "429696c7-024e-4d09-cb4f-a08ae8ae7173"
      },
      "execution_count": 24,
      "outputs": [
        {
          "output_type": "stream",
          "name": "stdout",
          "text": [
            "Hello, World!\n"
          ]
        }
      ]
    },
    {
      "cell_type": "markdown",
      "source": [
        "Lambda Functions\n",
        "It is a small anonymous function without a name.It can take any number of args but can only have one expression.\n",
        "Syntax: lambda args: expression"
      ],
      "metadata": {
        "id": "EB9CO0bfi7BA"
      }
    },
    {
      "cell_type": "code",
      "source": [
        "x = lambda a : a + 10\n",
        "print(x(5))  # This will output 15"
      ],
      "metadata": {
        "colab": {
          "base_uri": "https://localhost:8080/"
        },
        "id": "W1dOtJ83i5rd",
        "outputId": "815b2706-5c94-4dcb-f40d-e9170335989a"
      },
      "execution_count": 25,
      "outputs": [
        {
          "output_type": "stream",
          "name": "stdout",
          "text": [
            "15\n"
          ]
        }
      ]
    },
    {
      "cell_type": "markdown",
      "source": [
        "Built-in Functions\n",
        "\n",
        "\n",
        "1.   Filter(): this function constructs an iterator from elements of an iterable for which a function returns true.\n",
        "2.   Map(): this function applies a given function to all items in an input list.\n",
        "3.   reduce():This function is a part of the 'functools' module and is used to apply a particular function passed in its argument to all of the list elements.\n",
        "\n",
        "\n",
        "Remember lambda functions are not capable of multiple expressions and can only handle single expressions.they also lack documentation strings and cannot be directly invoked.\n",
        "\n",
        "\n",
        "\n"
      ],
      "metadata": {
        "id": "l-ZbyZBrURs5"
      }
    },
    {
      "cell_type": "code",
      "source": [
        "# Using filter()\n",
        "lst = [1, 2, 3, 4, 5]\n",
        "filtered_list = filter(lambda x: x%2 == 0, lst)\n",
        "print(list(filtered_list)) # Output: [2, 4]"
      ],
      "metadata": {
        "colab": {
          "base_uri": "https://localhost:8080/"
        },
        "id": "KN1WMUHhjQ9A",
        "outputId": "a3c1d3f0-f9cf-4674-db0a-0d6e8ccfc930"
      },
      "execution_count": 1,
      "outputs": [
        {
          "output_type": "stream",
          "name": "stdout",
          "text": [
            "[2, 4]\n"
          ]
        }
      ]
    },
    {
      "cell_type": "code",
      "source": [
        "# Using map()\n",
        "lst = [1, 2, 3, 4, 5]\n",
        "mapped_list = map(lambda x: x**2, lst)\n",
        "print(list(mapped_list)) # Output: [1, 4, 9, 16, 25]"
      ],
      "metadata": {
        "colab": {
          "base_uri": "https://localhost:8080/"
        },
        "id": "tjrt4cX_VZW_",
        "outputId": "1d7e4d9a-afc5-429e-dd07-5d5ec52fa788"
      },
      "execution_count": 2,
      "outputs": [
        {
          "output_type": "stream",
          "name": "stdout",
          "text": [
            "[1, 4, 9, 16, 25]\n"
          ]
        }
      ]
    },
    {
      "cell_type": "code",
      "source": [
        "# Using reduce()\n",
        "from functools import reduce\n",
        "lst = [1, 2, 3, 4, 5]\n",
        "reduced_value = reduce(lambda x, y: x*y, lst)\n",
        "print(reduced_value) # Output: 120"
      ],
      "metadata": {
        "colab": {
          "base_uri": "https://localhost:8080/"
        },
        "id": "rUspQd41Vcac",
        "outputId": "ffe2d1df-c45e-422b-fdd2-5fd27f65b85c"
      },
      "execution_count": 3,
      "outputs": [
        {
          "output_type": "stream",
          "name": "stdout",
          "text": [
            "120\n"
          ]
        }
      ]
    },
    {
      "cell_type": "markdown",
      "source": [
        "Activity\n",
        "\n"
      ],
      "metadata": {
        "id": "3-Lp2bVaWIgY"
      }
    },
    {
      "cell_type": "code",
      "source": [
        "#Develop a python script to display factorial of a number\n",
        "# a. Execute the code from command prompt\n",
        "# b.Number should be passed as an argument from command line\n",
        "\n",
        "def factorial(n):\n",
        "    if n == 1:\n",
        "        return 1\n",
        "    else:\n",
        "        return n * factorial(n-1)"
      ],
      "metadata": {
        "id": "64tZ8KYtVlS0"
      },
      "execution_count": 4,
      "outputs": []
    },
    {
      "cell_type": "code",
      "source": [
        "factorial(5)"
      ],
      "metadata": {
        "colab": {
          "base_uri": "https://localhost:8080/"
        },
        "id": "9FhfU5UVWxVK",
        "outputId": "ed8751f8-468f-4401-b55a-1013be0f48c4"
      },
      "execution_count": 5,
      "outputs": [
        {
          "output_type": "execute_result",
          "data": {
            "text/plain": [
              "120"
            ]
          },
          "metadata": {},
          "execution_count": 5
        }
      ]
    },
    {
      "cell_type": "code",
      "source": [
        "# write a function sum of squares of digits that computes the sum of the squares of the digits of an integer passed to it.\n",
        "\n",
        "def sum_of_squares(n):\n",
        "    sum = 0\n",
        "    while n > 0:\n",
        "        digit = n % 10\n",
        "        sum += digit ** 2\n",
        "        n //= 10\n",
        "    return sum"
      ],
      "metadata": {
        "id": "aFb2xJL1W2df"
      },
      "execution_count": 7,
      "outputs": []
    },
    {
      "cell_type": "code",
      "source": [
        "sum_of_squares(123)"
      ],
      "metadata": {
        "colab": {
          "base_uri": "https://localhost:8080/"
        },
        "id": "JOxTkE7jgKQK",
        "outputId": "9a587392-f4ca-4741-e50c-ec5ff4072394"
      },
      "execution_count": 8,
      "outputs": [
        {
          "output_type": "execute_result",
          "data": {
            "text/plain": [
              "14"
            ]
          },
          "metadata": {},
          "execution_count": 8
        }
      ]
    },
    {
      "cell_type": "code",
      "source": [
        "1%10"
      ],
      "metadata": {
        "colab": {
          "base_uri": "https://localhost:8080/"
        },
        "id": "98VlbLkQgLuJ",
        "outputId": "eaea224f-46dd-4e73-d3b2-f4873a2530b1"
      },
      "execution_count": 9,
      "outputs": [
        {
          "output_type": "execute_result",
          "data": {
            "text/plain": [
              "1"
            ]
          },
          "metadata": {},
          "execution_count": 9
        }
      ]
    },
    {
      "cell_type": "code",
      "source": [
        "2%10\n",
        "\n"
      ],
      "metadata": {
        "colab": {
          "base_uri": "https://localhost:8080/"
        },
        "id": "eXSzWkDtgQL8",
        "outputId": "5a7ebc01-a022-490c-9223-158822b294a3"
      },
      "execution_count": 10,
      "outputs": [
        {
          "output_type": "execute_result",
          "data": {
            "text/plain": [
              "2"
            ]
          },
          "metadata": {},
          "execution_count": 10
        }
      ]
    },
    {
      "cell_type": "code",
      "source": [
        "123//10"
      ],
      "metadata": {
        "colab": {
          "base_uri": "https://localhost:8080/"
        },
        "id": "1jeJjkdBgSCL",
        "outputId": "f4d420aa-228b-4815-bd0e-e94eb2c58a69"
      },
      "execution_count": 11,
      "outputs": [
        {
          "output_type": "execute_result",
          "data": {
            "text/plain": [
              "12"
            ]
          },
          "metadata": {},
          "execution_count": 11
        }
      ]
    },
    {
      "cell_type": "code",
      "source": [
        "123%10"
      ],
      "metadata": {
        "colab": {
          "base_uri": "https://localhost:8080/"
        },
        "id": "UXdgD7negW5B",
        "outputId": "b3f0e5f2-2659-46bd-bf07-7547184f7982"
      },
      "execution_count": 12,
      "outputs": [
        {
          "output_type": "execute_result",
          "data": {
            "text/plain": [
              "3"
            ]
          },
          "metadata": {},
          "execution_count": 12
        }
      ]
    },
    {
      "cell_type": "code",
      "source": [],
      "metadata": {
        "id": "TbPZhi1-gbEc"
      },
      "execution_count": null,
      "outputs": []
    }
  ]
}