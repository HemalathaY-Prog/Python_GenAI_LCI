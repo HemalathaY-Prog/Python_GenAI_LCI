{
  "nbformat": 4,
  "nbformat_minor": 0,
  "metadata": {
    "colab": {
      "provenance": [],
      "authorship_tag": "ABX9TyO0iQEsKIWcmGQk8VStr4gW",
      "include_colab_link": true
    },
    "kernelspec": {
      "name": "python3",
      "display_name": "Python 3"
    },
    "language_info": {
      "name": "python"
    }
  },
  "cells": [
    {
      "cell_type": "markdown",
      "metadata": {
        "id": "view-in-github",
        "colab_type": "text"
      },
      "source": [
        "<a href=\"https://colab.research.google.com/github/HemalathaY-Prog/Python_GenAI_LCI/blob/main/Exception_Handling.ipynb\" target=\"_parent\"><img src=\"https://colab.research.google.com/assets/colab-badge.svg\" alt=\"Open In Colab\"/></a>"
      ]
    },
    {
      "cell_type": "markdown",
      "source": [
        "Exception Handling:\n",
        "Manage run time errors that may occur during execution of a program.its implemented usinf try,except,else and finally statements.\n",
        "\n",
        "try: you wrap the code that might throw an exception in a try block.\n",
        "\n",
        "except: if an exception occurs, the flow of execution moved to the except block,where you can handle the error or log it.\n",
        "\n",
        "else: if no exceptions arer raised ,the else block is executed after the try block.\n",
        "\n",
        "finally: this block is executed no matter what ,and its typically used for cleaning up resources,like closing files."
      ],
      "metadata": {
        "id": "FVS18PvpxkDD"
      }
    },
    {
      "cell_type": "code",
      "execution_count": 1,
      "metadata": {
        "colab": {
          "base_uri": "https://localhost:8080/"
        },
        "id": "FcC0j_JApcpX",
        "outputId": "cf1a6a27-f9da-4ce1-828e-74d0e56480d0"
      },
      "outputs": [
        {
          "output_type": "stream",
          "name": "stdout",
          "text": [
            "You can't divide by zero!\n",
            "This is the finally block.\n"
          ]
        }
      ],
      "source": [
        "try:\n",
        " # Code that may cause an exception\n",
        " result = 10 / 0\n",
        "except ZeroDivisionError:\n",
        " # Handling the exception\n",
        " print(\"You can't divide by zero!\")\n",
        "else:\n",
        " # Executed if no exception occurs\n",
        " print(\"Division successful!\")\n",
        "finally:\n",
        " # Always executed\n",
        " print(\"This is the finally block.\")"
      ]
    },
    {
      "cell_type": "markdown",
      "source": [
        "Raising exceptions purposes:\n",
        "\n",
        "\n",
        "*   control flow: it allows you to interrupt the normal flow of a program when a certain condition occurs that requires special handling.\n",
        "*   Error Signaling: by raising an exception,you can signal that an error has occured,which can be more informative than returning error codes or using global variables.\n",
        "*   Abstraction: It helps in abstracting away error handling from the main logic of the program.This makes the code cleaner and seperates the concerns of error handling and business logic\n",
        "*   Debugging:Exceptions provide a traceback,which is useful for debugging.it shows the path the exception has taken,helping you to quickly identify where the problem occured.\n",
        "*   Consistency: Using exceptions,you can handle errors in a consistent manner across different parts of your application.\n",
        "\n",
        "\n",
        "\n",
        "\n",
        "\n"
      ],
      "metadata": {
        "id": "b7pWMq4yyxTl"
      }
    },
    {
      "cell_type": "code",
      "source": [
        "def calculate_division(dividend, divisor):\n",
        "  if divisor == 0:\n",
        "    raise ValueError(\"The divisor cannot be zero.\")\n",
        "  return dividend / divisor # Use spaces for indentation consistently\n",
        "\n",
        "# This will raise the ValueError with the provided message\n",
        "try:\n",
        "  calculate_division(10, 0)\n",
        "except ZeroDivisionError:\n",
        "  # Handling the exception\n",
        "  print(\"You can't divide by zero!\")"
      ],
      "metadata": {
        "colab": {
          "base_uri": "https://localhost:8080/",
          "height": 332
        },
        "id": "-5Wmi8vUyl3P",
        "outputId": "a8571d72-b911-4673-96d9-3bdc3593ab29"
      },
      "execution_count": 4,
      "outputs": [
        {
          "output_type": "error",
          "ename": "ValueError",
          "evalue": "The divisor cannot be zero.",
          "traceback": [
            "\u001b[0;31m---------------------------------------------------------------------------\u001b[0m",
            "\u001b[0;31mValueError\u001b[0m                                Traceback (most recent call last)",
            "\u001b[0;32m<ipython-input-4-2de0850c4467>\u001b[0m in \u001b[0;36m<cell line: 7>\u001b[0;34m()\u001b[0m\n\u001b[1;32m      6\u001b[0m \u001b[0;31m# This will raise the ValueError with the provided message\u001b[0m\u001b[0;34m\u001b[0m\u001b[0;34m\u001b[0m\u001b[0m\n\u001b[1;32m      7\u001b[0m \u001b[0;32mtry\u001b[0m\u001b[0;34m:\u001b[0m\u001b[0;34m\u001b[0m\u001b[0;34m\u001b[0m\u001b[0m\n\u001b[0;32m----> 8\u001b[0;31m   \u001b[0mcalculate_division\u001b[0m\u001b[0;34m(\u001b[0m\u001b[0;36m10\u001b[0m\u001b[0;34m,\u001b[0m \u001b[0;36m0\u001b[0m\u001b[0;34m)\u001b[0m\u001b[0;34m\u001b[0m\u001b[0;34m\u001b[0m\u001b[0m\n\u001b[0m\u001b[1;32m      9\u001b[0m \u001b[0;32mexcept\u001b[0m \u001b[0mZeroDivisionError\u001b[0m\u001b[0;34m:\u001b[0m\u001b[0;34m\u001b[0m\u001b[0;34m\u001b[0m\u001b[0m\n\u001b[1;32m     10\u001b[0m   \u001b[0;31m# Handling the exception\u001b[0m\u001b[0;34m\u001b[0m\u001b[0;34m\u001b[0m\u001b[0m\n",
            "\u001b[0;32m<ipython-input-4-2de0850c4467>\u001b[0m in \u001b[0;36mcalculate_division\u001b[0;34m(dividend, divisor)\u001b[0m\n\u001b[1;32m      1\u001b[0m \u001b[0;32mdef\u001b[0m \u001b[0mcalculate_division\u001b[0m\u001b[0;34m(\u001b[0m\u001b[0mdividend\u001b[0m\u001b[0;34m,\u001b[0m \u001b[0mdivisor\u001b[0m\u001b[0;34m)\u001b[0m\u001b[0;34m:\u001b[0m\u001b[0;34m\u001b[0m\u001b[0;34m\u001b[0m\u001b[0m\n\u001b[1;32m      2\u001b[0m   \u001b[0;32mif\u001b[0m \u001b[0mdivisor\u001b[0m \u001b[0;34m==\u001b[0m \u001b[0;36m0\u001b[0m\u001b[0;34m:\u001b[0m\u001b[0;34m\u001b[0m\u001b[0;34m\u001b[0m\u001b[0m\n\u001b[0;32m----> 3\u001b[0;31m     \u001b[0;32mraise\u001b[0m \u001b[0mValueError\u001b[0m\u001b[0;34m(\u001b[0m\u001b[0;34m\"The divisor cannot be zero.\"\u001b[0m\u001b[0;34m)\u001b[0m\u001b[0;34m\u001b[0m\u001b[0;34m\u001b[0m\u001b[0m\n\u001b[0m\u001b[1;32m      4\u001b[0m   \u001b[0;32mreturn\u001b[0m \u001b[0mdividend\u001b[0m \u001b[0;34m/\u001b[0m \u001b[0mdivisor\u001b[0m \u001b[0;31m# Use spaces for indentation consistently\u001b[0m\u001b[0;34m\u001b[0m\u001b[0;34m\u001b[0m\u001b[0m\n\u001b[1;32m      5\u001b[0m \u001b[0;34m\u001b[0m\u001b[0m\n",
            "\u001b[0;31mValueError\u001b[0m: The divisor cannot be zero."
          ]
        }
      ]
    },
    {
      "cell_type": "markdown",
      "source": [
        "Custom exception\n",
        "-----------------\n",
        "\n",
        "\n",
        "*  this is a way to define your own types of exceptions that are specific to your application needs.\n",
        "\n",
        "You can create a custom exception\n",
        "-----------------------------------\n",
        "\n",
        "*   Define a New exception class: your custom exception class should inherit from pythons built-in exception class or one of its subclasses.\n",
        "*   Implement an __init__ method : This menthod can be used to initialize attributes that you want to pass to the exception,like error messages or error codes.\n",
        "*   Raise your custom exception:Use the raise keyword followed by an istance of your custom exception class when you need to signal an error condition.\n",
        "\n",
        "\n",
        "\n",
        "\n",
        "\n"
      ],
      "metadata": {
        "id": "lazJLwrX1QGA"
      }
    },
    {
      "cell_type": "code",
      "source": [
        "# Define a custom exception class\n",
        "class MyCustomError(Exception):\n",
        "  \"\"\"A custom exception for demonstration purposes.\"\"\"\n",
        "  def __init__(self, message):\n",
        "    super().__init__(message)\n",
        "\n",
        "# Usage of the custom exception\n",
        "def my_function(value):\n",
        "  if value < 10:\n",
        "    raise MyCustomError(\"Value cannot be less than 10\")\n",
        "    return value\n",
        "\n",
        "# Trying to call the function with an invalid value\n",
        "try:\n",
        "  result = my_function(5)\n",
        "except MyCustomError as e:\n",
        "  print(f\"Caught an error: {e}\")\n"
      ],
      "metadata": {
        "colab": {
          "base_uri": "https://localhost:8080/"
        },
        "id": "F6Z58vfo0npq",
        "outputId": "9bffa20b-3884-4c81-ebd2-43a3a553d3c3"
      },
      "execution_count": 5,
      "outputs": [
        {
          "output_type": "stream",
          "name": "stdout",
          "text": [
            "Caught an error: Value cannot be less than 10\n"
          ]
        }
      ]
    },
    {
      "cell_type": "markdown",
      "source": [
        "Explanation:\n",
        "------------\n",
        "In this example, MyCustomError is a custom exception class with a simple __ini__ method that takes a message as an argument.The my_function raises MyCustomError if the input value is less than 10.\n",
        "\n",
        "the try block is used to catch and handle the MyCustomError exception when calling my_function with an invalid value.\n",
        "\n",
        "Remember, its a good practice to name your custom exceptions with names that end in 'Error' to make it clear that they are  exceptions.\n",
        "\n"
      ],
      "metadata": {
        "id": "gizHjcPeCPDM"
      }
    },
    {
      "cell_type": "code",
      "source": [],
      "metadata": {
        "id": "_5J72oJSB1np"
      },
      "execution_count": null,
      "outputs": []
    }
  ]
}