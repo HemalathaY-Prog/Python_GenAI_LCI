{
  "nbformat": 4,
  "nbformat_minor": 0,
  "metadata": {
    "colab": {
      "provenance": [],
      "authorship_tag": "ABX9TyNqyOcCWG1LgDj8bvEyeAm3",
      "include_colab_link": true
    },
    "kernelspec": {
      "name": "python3",
      "display_name": "Python 3"
    },
    "language_info": {
      "name": "python"
    }
  },
  "cells": [
    {
      "cell_type": "markdown",
      "metadata": {
        "id": "view-in-github",
        "colab_type": "text"
      },
      "source": [
        "<a href=\"https://colab.research.google.com/github/HemalathaY-Prog/Python_GenAI_LCI/blob/main/Lists.ipynb\" target=\"_parent\"><img src=\"https://colab.research.google.com/assets/colab-badge.svg\" alt=\"Open In Colab\"/></a>"
      ]
    },
    {
      "cell_type": "code",
      "execution_count": 1,
      "metadata": {
        "id": "OqfMqwyDqAb8"
      },
      "outputs": [],
      "source": [
        "# example of a list\n",
        "my_list = ['apple', 'banana', 'cherry']\n"
      ]
    },
    {
      "cell_type": "code",
      "source": [
        "# create an empty list\n",
        "my_list = []\n",
        "print(my_list)\n",
        "\n",
        "my_list1 = list()\n",
        "print(my_list1)"
      ],
      "metadata": {
        "colab": {
          "base_uri": "https://localhost:8080/"
        },
        "id": "4EMk6-OgoEGk",
        "outputId": "81ce3e9d-2ce8-44d3-f615-b18bd7576a06"
      },
      "execution_count": 2,
      "outputs": [
        {
          "output_type": "stream",
          "name": "stdout",
          "text": [
            "[]\n",
            "[]\n"
          ]
        }
      ]
    },
    {
      "cell_type": "code",
      "source": [
        "# create a list of integers\n",
        "my_list = [1,2,3,4,5]\n",
        "print(my_list) #[1,2,3,4,5]\n",
        "\n",
        " #create a list using list() method\n",
        "my_list = list([1,2,3,4,5])\n",
        "print(my_list)#[1,2,3,4,5]"
      ],
      "metadata": {
        "colab": {
          "base_uri": "https://localhost:8080/"
        },
        "id": "NIyeqis7oeZI",
        "outputId": "84ba047c-a0e5-4168-e14f-1f84c7e71f31"
      },
      "execution_count": 3,
      "outputs": [
        {
          "output_type": "stream",
          "name": "stdout",
          "text": [
            "[1, 2, 3, 4, 5]\n",
            "[1, 2, 3, 4, 5]\n"
          ]
        }
      ]
    },
    {
      "cell_type": "code",
      "source": [
        "# creaate a list of mixed data types\n",
        "my_list = [\"Sara\", 21, 34.14]\n",
        "print(my_list) #[\"Sara\", 21, 34.14]"
      ],
      "metadata": {
        "colab": {
          "base_uri": "https://localhost:8080/"
        },
        "id": "O6aiHdHPohEj",
        "outputId": "2879a37b-130f-46ac-bfed-ba1016fa1390"
      },
      "execution_count": 4,
      "outputs": [
        {
          "output_type": "stream",
          "name": "stdout",
          "text": [
            "['Sara', 21, 34.14]\n"
          ]
        }
      ]
    },
    {
      "cell_type": "code",
      "source": [
        "# A list can contain another list, tuple, set\n",
        "my_list = [\"Sara\", 21,[1,2,3,4],('a','b','c'),{'x','y'}]\n",
        "print(my_list) #[\"Sara\", 21,[1,2,3,4],('a','b','c'),{'x','y'}]"
      ],
      "metadata": {
        "colab": {
          "base_uri": "https://localhost:8080/"
        },
        "id": "8CYGlCnuojNK",
        "outputId": "728f7c39-f99c-4bca-c1c9-ca753918cc77"
      },
      "execution_count": 5,
      "outputs": [
        {
          "output_type": "stream",
          "name": "stdout",
          "text": [
            "['Sara', 21, [1, 2, 3, 4], ('a', 'b', 'c'), {'y', 'x'}]\n"
          ]
        }
      ]
    },
    {
      "cell_type": "code",
      "source": [
        "#string to list\n",
        "my_string = \"Hello World\"\n",
        "my_list = list(my_string)\n",
        "print(my_list) #['H', 'e', 'l', 'l', 'o', ' ', 'W', 'o', 'r', 'l', 'd']"
      ],
      "metadata": {
        "colab": {
          "base_uri": "https://localhost:8080/"
        },
        "id": "t4ab31yTolot",
        "outputId": "dcf639f5-6dfb-4322-d7ae-1d03af5f6114"
      },
      "execution_count": 7,
      "outputs": [
        {
          "output_type": "stream",
          "name": "stdout",
          "text": [
            "['H', 'e', 'l', 'l', 'o', ' ', 'W', 'o', 'r', 'l', 'd']\n"
          ]
        }
      ]
    },
    {
      "cell_type": "code",
      "source": [
        "#tuple to list\n",
        "my_tuple = (\"John\", \"Doe\", 30)\n",
        "my_list = list(my_tuple)\n",
        "print(my_list) #['John', 'Doe', 30]"
      ],
      "metadata": {
        "colab": {
          "base_uri": "https://localhost:8080/"
        },
        "id": "ASr3a2kgopRU",
        "outputId": "54a23e01-9371-40b7-8058-fbeab83b56c4"
      },
      "execution_count": 8,
      "outputs": [
        {
          "output_type": "stream",
          "name": "stdout",
          "text": [
            "['John', 'Doe', 30]\n"
          ]
        }
      ]
    },
    {
      "cell_type": "code",
      "source": [
        "#set to list\n",
        "my_set = {\"Apple\", \"Banana\", \"Cherry\"}\n",
        "my_list = list(my_set)\n",
        "print(my_list) #['Apple', 'Banana', 'Cherry']"
      ],
      "metadata": {
        "colab": {
          "base_uri": "https://localhost:8080/"
        },
        "id": "PZJO0wL8o0e2",
        "outputId": "f1ccaae4-a133-4ecf-97c7-afe14178e022"
      },
      "execution_count": 9,
      "outputs": [
        {
          "output_type": "stream",
          "name": "stdout",
          "text": [
            "['Banana', 'Cherry', 'Apple']\n"
          ]
        }
      ]
    },
    {
      "cell_type": "code",
      "source": [
        "my_set = {\"Apple\", \"Banana\", \"Cherry\",\"Apple\"}\n",
        "my_list = list(my_set)\n",
        "print(my_list)"
      ],
      "metadata": {
        "colab": {
          "base_uri": "https://localhost:8080/"
        },
        "id": "j9b33juTo-Mh",
        "outputId": "8d60b55e-27b9-460f-8d44-f00dafdfc899"
      },
      "execution_count": 10,
      "outputs": [
        {
          "output_type": "stream",
          "name": "stdout",
          "text": [
            "['Banana', 'Cherry', 'Apple']\n"
          ]
        }
      ]
    },
    {
      "cell_type": "code",
      "source": [
        "#dict to list\n",
        "my_dict = {\"name\": \"John\",\"age\": 30,\"city\": \"New York\"}\n",
        "my_list = list(my_dict)\n",
        "print(my_list) #['name', 'age', 'city']"
      ],
      "metadata": {
        "colab": {
          "base_uri": "https://localhost:8080/"
        },
        "id": "4_hq27vKvfAV",
        "outputId": "704119c2-f955-400b-abb2-84087f18831a"
      },
      "execution_count": 11,
      "outputs": [
        {
          "output_type": "stream",
          "name": "stdout",
          "text": [
            "['name', 'age', 'city']\n"
          ]
        }
      ]
    },
    {
      "cell_type": "code",
      "source": [
        "my_dict = {\"name\": \"John\",\"age\": 30,\"city\": \"New York\"}\n",
        "print(my_dict.items())\n",
        "my_list = list(my_dict.items())\n",
        "print(my_list) #[('name', 'John'), ('age', 30), ('city', 'New York')]"
      ],
      "metadata": {
        "colab": {
          "base_uri": "https://localhost:8080/"
        },
        "id": "4Lc4lu42vl1p",
        "outputId": "a93ce1f4-c743-429b-eb9e-cd56075a3031"
      },
      "execution_count": 16,
      "outputs": [
        {
          "output_type": "stream",
          "name": "stdout",
          "text": [
            "dict_items([('name', 'John'), ('age', 30), ('city', 'New York')])\n",
            "[('name', 'John'), ('age', 30), ('city', 'New York')]\n"
          ]
        }
      ]
    },
    {
      "cell_type": "code",
      "source": [
        "my_dict = {\"name\": \"John\",\"age\": 30,\"city\": \"New York\"}\n",
        "my_list = list(my_dict.values())\n",
        "print(my_list)"
      ],
      "metadata": {
        "colab": {
          "base_uri": "https://localhost:8080/"
        },
        "id": "HrV7afiHv130",
        "outputId": "f1188d2a-4127-4698-f92a-4b27fc9eb346"
      },
      "execution_count": 17,
      "outputs": [
        {
          "output_type": "stream",
          "name": "stdout",
          "text": [
            "['John', 30, 'New York']\n"
          ]
        }
      ]
    },
    {
      "cell_type": "markdown",
      "source": [
        "# Iterate through a list"
      ],
      "metadata": {
        "id": "IeKDXXi-wV7e"
      }
    },
    {
      "cell_type": "code",
      "source": [
        "my_list = ['apple', 'banana', 'cherry']\n",
        "for item in my_list:\n",
        "  print(item)\n"
      ],
      "metadata": {
        "colab": {
          "base_uri": "https://localhost:8080/"
        },
        "id": "K-bqlvS5wZls",
        "outputId": "fda3eafa-1cbe-4cfd-ade3-df8582f7f4e5"
      },
      "execution_count": 18,
      "outputs": [
        {
          "output_type": "stream",
          "name": "stdout",
          "text": [
            "apple\n",
            "banana\n",
            "cherry\n"
          ]
        }
      ]
    },
    {
      "cell_type": "code",
      "source": [
        "my_list = [1,2,3,4,5,6]\n",
        "new_list = []\n",
        "for i in my_list:\n",
        "  if i%2 ==0:\n",
        "   new_list.append(i)\n",
        "print(new_list)"
      ],
      "metadata": {
        "colab": {
          "base_uri": "https://localhost:8080/"
        },
        "id": "I7tN0fGHwbkv",
        "outputId": "ed7e1014-bcc9-40af-91c8-c68d8b589063"
      },
      "execution_count": 24,
      "outputs": [
        {
          "output_type": "stream",
          "name": "stdout",
          "text": [
            "[2, 4, 6]\n"
          ]
        }
      ]
    },
    {
      "cell_type": "code",
      "source": [
        "my_list= ['apple', 'banana', 'cherry']\n",
        "print(my_list[0])  # Output: apple\n",
        "print(my_list[1])  # Output: banana\n",
        "print(my_list[2])  # Output: cherry"
      ],
      "metadata": {
        "colab": {
          "base_uri": "https://localhost:8080/"
        },
        "id": "cdDURq2-wxtq",
        "outputId": "a14d9eaa-17c5-4983-d88b-c24e3a80d368"
      },
      "execution_count": 25,
      "outputs": [
        {
          "output_type": "stream",
          "name": "stdout",
          "text": [
            "apple\n",
            "banana\n",
            "cherry\n"
          ]
        }
      ]
    },
    {
      "cell_type": "code",
      "source": [
        "my_list= ['apple', 'banana', 'cherry']\n",
        "print(my_list[-1])  # Output: cherry\n",
        "print(my_list[-2])  # Output: banana\n",
        "print(my_list[-3])  # Output: apple\n",
        "print(my_list [-len(my_list)]) # Output: apple"
      ],
      "metadata": {
        "colab": {
          "base_uri": "https://localhost:8080/"
        },
        "id": "_kNJbKJBxOuI",
        "outputId": "41236f13-4515-4687-f20f-885a35347f3a"
      },
      "execution_count": 26,
      "outputs": [
        {
          "output_type": "stream",
          "name": "stdout",
          "text": [
            "cherry\n",
            "banana\n",
            "apple\n",
            "apple\n"
          ]
        }
      ]
    },
    {
      "cell_type": "code",
      "source": [
        "my_list = [23,34,45,5,6,67,78,89]\n",
        "\n",
        "#we cannot use float values for indexing - Type error\n",
        "#print(my_list[4.0])\n",
        "\n",
        "#index out of range - index error\n",
        "print(my_list[20])"
      ],
      "metadata": {
        "colab": {
          "base_uri": "https://localhost:8080/",
          "height": 176
        },
        "id": "agYj_MXhxQVl",
        "outputId": "4f9ddafe-ea1f-41aa-90e4-a5a23d32c9c1"
      },
      "execution_count": 28,
      "outputs": [
        {
          "output_type": "error",
          "ename": "IndexError",
          "evalue": "list index out of range",
          "traceback": [
            "\u001b[0;31m---------------------------------------------------------------------------\u001b[0m",
            "\u001b[0;31mIndexError\u001b[0m                                Traceback (most recent call last)",
            "\u001b[0;32m<ipython-input-28-dced54cf6e78>\u001b[0m in \u001b[0;36m<cell line: 7>\u001b[0;34m()\u001b[0m\n\u001b[1;32m      5\u001b[0m \u001b[0;34m\u001b[0m\u001b[0m\n\u001b[1;32m      6\u001b[0m \u001b[0;31m#index out of range - index error\u001b[0m\u001b[0;34m\u001b[0m\u001b[0;34m\u001b[0m\u001b[0m\n\u001b[0;32m----> 7\u001b[0;31m \u001b[0mprint\u001b[0m\u001b[0;34m(\u001b[0m\u001b[0mmy_list\u001b[0m\u001b[0;34m[\u001b[0m\u001b[0;36m20\u001b[0m\u001b[0;34m]\u001b[0m\u001b[0;34m)\u001b[0m\u001b[0;34m\u001b[0m\u001b[0;34m\u001b[0m\u001b[0m\n\u001b[0m",
            "\u001b[0;31mIndexError\u001b[0m: list index out of range"
          ]
        }
      ]
    },
    {
      "cell_type": "code",
      "source": [
        "#create a nested list\n",
        "nested_list = [[1, 2, 3], [4, 5, 6], [7, 8, 9]]"
      ],
      "metadata": {
        "id": "bhJRZ4nDxdkv"
      },
      "execution_count": 29,
      "outputs": []
    },
    {
      "cell_type": "code",
      "source": [
        "nested_list[0]"
      ],
      "metadata": {
        "colab": {
          "base_uri": "https://localhost:8080/"
        },
        "id": "YkrCsSkxxlk1",
        "outputId": "e9f274fe-1289-4d98-9122-cc719c084dbf"
      },
      "execution_count": 30,
      "outputs": [
        {
          "output_type": "execute_result",
          "data": {
            "text/plain": [
              "[1, 2, 3]"
            ]
          },
          "metadata": {},
          "execution_count": 30
        }
      ]
    },
    {
      "cell_type": "code",
      "source": [
        "print(nested_list[0][0])\n",
        "print(nested_list[0][1])\n",
        "print(nested_list[0][2])\n",
        "nested_list[0][2] = 10\n",
        "print(nested_list)"
      ],
      "metadata": {
        "colab": {
          "base_uri": "https://localhost:8080/"
        },
        "id": "aQLUvUDhxoeD",
        "outputId": "dc257763-5a09-4d80-86ba-c3e0b7b884d6"
      },
      "execution_count": 35,
      "outputs": [
        {
          "output_type": "stream",
          "name": "stdout",
          "text": [
            "1\n",
            "2\n",
            "10\n",
            "[[1, 2, 10], [4, 5, 6], [7, 8, 9]]\n"
          ]
        }
      ]
    },
    {
      "cell_type": "code",
      "source": [],
      "metadata": {
        "id": "xnSfpuyMyJqd"
      },
      "execution_count": null,
      "outputs": []
    },
    {
      "cell_type": "markdown",
      "source": [
        "\n",
        "\n",
        "1.  my_list[start:stop]  # extracts items from start up to but not including, the index stop.\n",
        "2.my_list[start:]      # extracts items from start through the rest of the array\n",
        "3.my_list[:stop]       # extracts items from the beginning not including, the index stop.\n",
        "4.my_list[:]           # a copy of the whole array"
      ],
      "metadata": {
        "id": "XhwkQULkyMmT"
      }
    },
    {
      "cell_type": "code",
      "source": [
        "num_list= [0, 1, 2, 3, 4, 5, 6, 7, 8, 9]\n",
        "print(num_list[0:5])  # Output: [0, 1, 2, 3, 4]\n",
        "print(num_list[5:])   # Output: [5, 6, 7, 8, 9]\n",
        "print(num_list[:5])   # Output: [0, 1, 2, 3, 4]\n",
        "print(num_list[:])    # Output: [0, 1, 2 3, 4, 5, 6, 7, 8, 9]"
      ],
      "metadata": {
        "colab": {
          "base_uri": "https://localhost:8080/"
        },
        "id": "Q-iCFQRKyb9P",
        "outputId": "e4b01f0b-df3e-4dfe-b7c6-58c4bcd2fe95"
      },
      "execution_count": 36,
      "outputs": [
        {
          "output_type": "stream",
          "name": "stdout",
          "text": [
            "[0, 1, 2, 3, 4]\n",
            "[5, 6, 7, 8, 9]\n",
            "[0, 1, 2, 3, 4]\n",
            "[0, 1, 2, 3, 4, 5, 6, 7, 8, 9]\n"
          ]
        }
      ]
    },
    {
      "cell_type": "code",
      "source": [
        "num_list= [0, 1, 2, 3, 4, 5, 6, 7, 8, 9]\n",
        "print(num_list[-5:-1])   # Output: [5, 6, 7, 8]\n",
        "print(num_list[:-6])     # Output: [0, 1, 2, 3]"
      ],
      "metadata": {
        "colab": {
          "base_uri": "https://localhost:8080/"
        },
        "id": "JvRAmMyWyeS1",
        "outputId": "d9428196-f1a3-48dd-f7bb-c3219f93b454"
      },
      "execution_count": 41,
      "outputs": [
        {
          "output_type": "stream",
          "name": "stdout",
          "text": [
            "[5, 6, 7, 8]\n",
            "[0, 1, 2, 3]\n"
          ]
        }
      ]
    },
    {
      "cell_type": "code",
      "source": [
        "print(num_list[::2])     # Output: [0, 2, 4, 6, 8]\n",
        "print(num_list[1::2])    # Output: [1, 3, 5, 7, 9]"
      ],
      "metadata": {
        "colab": {
          "base_uri": "https://localhost:8080/"
        },
        "id": "AHF5n9PFPC8W",
        "outputId": "054c23eb-06e7-4142-d772-d6cbce6dd3ab"
      },
      "execution_count": 42,
      "outputs": [
        {
          "output_type": "stream",
          "name": "stdout",
          "text": [
            "[0, 2, 4, 6, 8]\n",
            "[1, 3, 5, 7, 9]\n"
          ]
        }
      ]
    },
    {
      "cell_type": "code",
      "source": [
        "# Create a list\n",
        "my_list = ['apple', 'banana', 'cherry']\n",
        "\n",
        "# Modify the second element (index 1)\n",
        "my_list[1] = 'blueberry'\n",
        "# Now, my_list is ['apple', 'blueberry', 'cherry']\n",
        "print(my_list)"
      ],
      "metadata": {
        "colab": {
          "base_uri": "https://localhost:8080/"
        },
        "id": "l5tt9-8hPpw3",
        "outputId": "a0bd06c7-5bd5-454f-bdd7-c64b3645e58b"
      },
      "execution_count": 44,
      "outputs": [
        {
          "output_type": "stream",
          "name": "stdout",
          "text": [
            "['apple', 'blueberry', 'cherry']\n"
          ]
        }
      ]
    },
    {
      "cell_type": "code",
      "source": [
        "# Define a list\n",
        "my_list = [1, 2, 3, 4, 5]\n",
        "# Modify elements from index 1 to 3\n",
        "my_list[1:4] = ['two', 'three', 'four']\n",
        "# Print the modified list\n",
        "print(my_list) # output : [1, 'two', 'three', 'four', 5]"
      ],
      "metadata": {
        "colab": {
          "base_uri": "https://localhost:8080/"
        },
        "id": "hFveFP3rPuJo",
        "outputId": "0dbab643-32e1-4cd0-b288-28db20fbef98"
      },
      "execution_count": 45,
      "outputs": [
        {
          "output_type": "stream",
          "name": "stdout",
          "text": [
            "[1, 'two', 'three', 'four', 5]\n"
          ]
        }
      ]
    },
    {
      "cell_type": "code",
      "source": [
        "# Create a list\n",
        "my_list = [3, 1, 4, 1, 5, 9, 2, 6, 5, 3, 5]\n",
        "# Sort the list\n",
        "my_list.sort()\n",
        "# Print the sorted list\n",
        "print(my_list) # output: [1, 1, 2, 3, 3, 4, 5, 5, 5, 6, 9]"
      ],
      "metadata": {
        "colab": {
          "base_uri": "https://localhost:8080/"
        },
        "id": "tQyPTUTIP75t",
        "outputId": "e36a1bc7-66d2-4873-d3d9-d34bb89a32ca"
      },
      "execution_count": 46,
      "outputs": [
        {
          "output_type": "stream",
          "name": "stdout",
          "text": [
            "[1, 1, 2, 3, 3, 4, 5, 5, 5, 6, 9]\n"
          ]
        }
      ]
    },
    {
      "cell_type": "code",
      "source": [
        "my_list.sort(reverse=True)\n",
        "print(my_list)"
      ],
      "metadata": {
        "colab": {
          "base_uri": "https://localhost:8080/"
        },
        "id": "kkpUykz8QCd_",
        "outputId": "8554ba4c-ddd9-4190-ebe9-7404e774c479"
      },
      "execution_count": 48,
      "outputs": [
        {
          "output_type": "stream",
          "name": "stdout",
          "text": [
            "[9, 6, 5, 5, 5, 4, 3, 3, 2, 1, 1]\n"
          ]
        }
      ]
    },
    {
      "cell_type": "code",
      "source": [
        "list_of_strings = ['Hello', 'Goodbye', 'Yes', 'No', 'Maybe']\n",
        "sorted_list = sorted(list_of_strings, key=len)\n",
        "print(sorted_list)\n",
        "# Output: ['No', 'Yes', 'Maybe', 'Hello', 'Goodbye']"
      ],
      "metadata": {
        "colab": {
          "base_uri": "https://localhost:8080/"
        },
        "id": "4qsaRBFKQGmG",
        "outputId": "5615718c-b72f-45c4-9471-5cd63144c36a"
      },
      "execution_count": 49,
      "outputs": [
        {
          "output_type": "stream",
          "name": "stdout",
          "text": [
            "['No', 'Yes', 'Hello', 'Maybe', 'Goodbye']\n"
          ]
        }
      ]
    },
    {
      "cell_type": "code",
      "source": [
        "list_of_strings = ['Hello', 'Goodbye', 'Yes', 'No', 'Maybe']\n",
        "sorted_list = list_of_strings.sort()\n",
        "print(sorted_list)\n",
        "# Output: ['No', 'Yes', 'Maybe', 'Hello', 'Goodbye']"
      ],
      "metadata": {
        "colab": {
          "base_uri": "https://localhost:8080/"
        },
        "id": "RE2-UX61QYnz",
        "outputId": "cd5c2e45-07fc-48c2-cf86-3af3ef98e385"
      },
      "execution_count": 50,
      "outputs": [
        {
          "output_type": "stream",
          "name": "stdout",
          "text": [
            "None\n"
          ]
        }
      ]
    },
    {
      "cell_type": "code",
      "source": [
        "list_of_strings = ['Hello', 'Goodbye', 'Yes', 'No', 'Maybe']\n",
        "sorted_list = sorted(list_of_strings, key=len,reverse=True)\n",
        "print(sorted_list)\n",
        "# Output: ['No', 'Yes', 'Maybe', 'Hello', 'Goodbye']"
      ],
      "metadata": {
        "colab": {
          "base_uri": "https://localhost:8080/"
        },
        "id": "G6PeT0wfQdOv",
        "outputId": "3b9fe8d9-e3ba-40a9-8438-e242a767248a"
      },
      "execution_count": 51,
      "outputs": [
        {
          "output_type": "stream",
          "name": "stdout",
          "text": [
            "['Goodbye', 'Hello', 'Maybe', 'Yes', 'No']\n"
          ]
        }
      ]
    },
    {
      "cell_type": "code",
      "source": [],
      "metadata": {
        "id": "iIZOSUfUQqBs"
      },
      "execution_count": null,
      "outputs": []
    },
    {
      "cell_type": "markdown",
      "source": [
        "# List methods"
      ],
      "metadata": {
        "id": "Q6jLs6nzRSeU"
      }
    },
    {
      "cell_type": "code",
      "source": [
        "#append\n",
        "list1 = [1, 2, 3]\n",
        "list1.append(4)\n",
        "print(list1)\n",
        "# Output: [1, 2, 3, 4]\n",
        "list2= [1, 2, 3]\n",
        "list2.append([4, 5, 6])\n",
        "print(list2)\n",
        "# Output: [1, 2, 3, [4, 5, 6]]"
      ],
      "metadata": {
        "colab": {
          "base_uri": "https://localhost:8080/"
        },
        "id": "djLZcQxvRVUe",
        "outputId": "c2433689-3f13-48fd-f269-1ae8718a8330"
      },
      "execution_count": 58,
      "outputs": [
        {
          "output_type": "stream",
          "name": "stdout",
          "text": [
            "[1, 2, 3, 4]\n",
            "[1, 2, 3, [4, 5, 6]]\n"
          ]
        }
      ]
    },
    {
      "cell_type": "code",
      "source": [
        "#insert\n",
        "list1 = [1, 2, 3]\n",
        "list1.insert(1, 'a')\n",
        "print(list1)\n",
        "# Output: [1, 'a', 2, 3]\n"
      ],
      "metadata": {
        "colab": {
          "base_uri": "https://localhost:8080/"
        },
        "id": "3WIiJ_OFRYT-",
        "outputId": "230ba367-0a6a-4fcf-ed09-2bf468776b86"
      },
      "execution_count": 56,
      "outputs": [
        {
          "output_type": "stream",
          "name": "stdout",
          "text": [
            "[1, 'a', 2, 3]\n"
          ]
        }
      ]
    },
    {
      "cell_type": "code",
      "source": [
        "#extend\n",
        "list1 = [1, 2, 3]\n",
        "list1.extend([4, 5, 6])\n",
        "# Output: [1, 2, 3, 4, 5, 6]\n",
        "print(list1)"
      ],
      "metadata": {
        "colab": {
          "base_uri": "https://localhost:8080/"
        },
        "id": "FJOzYXTiRcuk",
        "outputId": "b5de86fd-be5f-4bad-cf31-661c51129fcf"
      },
      "execution_count": 57,
      "outputs": [
        {
          "output_type": "stream",
          "name": "stdout",
          "text": [
            "[1, 2, 3, 4, 5, 6]\n"
          ]
        }
      ]
    },
    {
      "cell_type": "code",
      "source": [
        "#Concat operator\n",
        "list1 = [1, 2, 3]\n",
        "list2 = [4, 5, 6]\n",
        "list1 = list1 + list2\n",
        "# Output: [1, 2, 3, 4, 5, 6]\n",
        "print(list1)"
      ],
      "metadata": {
        "colab": {
          "base_uri": "https://localhost:8080/"
        },
        "id": "p4bhCtsqRnIB",
        "outputId": "3a78e562-6887-4d3d-9532-b62fd4bedb55"
      },
      "execution_count": 59,
      "outputs": [
        {
          "output_type": "stream",
          "name": "stdout",
          "text": [
            "[1, 2, 3, 4, 5, 6]\n"
          ]
        }
      ]
    },
    {
      "cell_type": "markdown",
      "source": [
        "** List Comprehension**\n",
        "\n",
        "Python provides compact syntax for delivering one list from another.\n",
        "\n",
        "[expression for item in iterable]"
      ],
      "metadata": {
        "id": "tDjSFbxkR2bd"
      }
    },
    {
      "cell_type": "code",
      "source": [
        "list1 = [x for x in range(10)]\n",
        "# Output: [0, 1, 2, 3, 4, 5, 6, 7, 8, 9]\n",
        "print(list1)"
      ],
      "metadata": {
        "colab": {
          "base_uri": "https://localhost:8080/"
        },
        "id": "ylX4IHvXSB2D",
        "outputId": "60ee64e9-24b0-4f1f-9631-439a589dc91d"
      },
      "execution_count": 60,
      "outputs": [
        {
          "output_type": "stream",
          "name": "stdout",
          "text": [
            "[0, 1, 2, 3, 4, 5, 6, 7, 8, 9]\n"
          ]
        }
      ]
    },
    {
      "cell_type": "code",
      "source": [],
      "metadata": {
        "id": "B4Jx8ClYSNLw"
      },
      "execution_count": null,
      "outputs": []
    },
    {
      "cell_type": "markdown",
      "source": [
        "# Deletion methods"
      ],
      "metadata": {
        "id": "ReFJJEDlSglT"
      }
    },
    {
      "cell_type": "code",
      "source": [
        "# remove element from the list\n",
        "my_list = [12,13,14,15,16,14]\n",
        "print(my_list) #[12,13,14,15,16,14]\n",
        "\n",
        "my_list.remove(14)\n",
        "print(my_list) #[12,13,15,16,14]"
      ],
      "metadata": {
        "colab": {
          "base_uri": "https://localhost:8080/"
        },
        "id": "u30x1xtYSi4t",
        "outputId": "7ef794c0-8cf0-4e4a-a6db-1285865e399c"
      },
      "execution_count": 61,
      "outputs": [
        {
          "output_type": "stream",
          "name": "stdout",
          "text": [
            "[12, 13, 14, 15, 16, 14]\n",
            "[12, 13, 15, 16, 14]\n"
          ]
        }
      ]
    },
    {
      "cell_type": "code",
      "source": [
        "# pop method\n",
        "# pop method remove the item at the given index\n",
        "# if you dont pass the index value , by default the index value will be -1\n",
        "# Remove and return the element\n",
        "\n",
        "my_list = [12,13,14,15,16]\n",
        "print(my_list)\n",
        "\n",
        "print(my_list.pop(2)) #14\n",
        "print(my_list) #[12, 13, 15, 16]\n",
        "\n",
        "print(my_list.pop())#16\n",
        "print(my_list) #[12, 13, 15]"
      ],
      "metadata": {
        "colab": {
          "base_uri": "https://localhost:8080/"
        },
        "id": "t6X7luD2SkHw",
        "outputId": "3a549cf9-2f98-4184-9ea9-db77d85d9de1"
      },
      "execution_count": 62,
      "outputs": [
        {
          "output_type": "stream",
          "name": "stdout",
          "text": [
            "[12, 13, 14, 15, 16]\n",
            "14\n",
            "[12, 13, 15, 16]\n",
            "16\n",
            "[12, 13, 15]\n"
          ]
        }
      ]
    },
    {
      "cell_type": "code",
      "source": [
        "# clear() - used for clearing all the elements in the list or empty the list\n",
        "my_list = [12,13,14,15,16]\n",
        "my_list.clear()\n",
        "\n",
        "print(my_list) #[]"
      ],
      "metadata": {
        "colab": {
          "base_uri": "https://localhost:8080/"
        },
        "id": "IU6aClf2Su-X",
        "outputId": "b631643e-249d-44b7-c93b-43f201eb2fcf"
      },
      "execution_count": 63,
      "outputs": [
        {
          "output_type": "stream",
          "name": "stdout",
          "text": [
            "[]\n"
          ]
        }
      ]
    },
    {
      "cell_type": "code",
      "source": [
        "my_list = [12,13,14,15,16]\n",
        "del my_list\n",
        "# print(my_list) #NameError: name 'my_list' is not defined"
      ],
      "metadata": {
        "id": "ZpfC6yf0S1ba"
      },
      "execution_count": 65,
      "outputs": []
    },
    {
      "cell_type": "code",
      "source": [
        "my_list= ['apple', 'banana', 'cherry']\n",
        "index = my_list.index('cherry')\n",
        "print(index)  # Output: 2"
      ],
      "metadata": {
        "colab": {
          "base_uri": "https://localhost:8080/"
        },
        "id": "zDC25jY5S3QX",
        "outputId": "697b7fd7-c979-4e9a-a835-d53d47ca75be"
      },
      "execution_count": 66,
      "outputs": [
        {
          "output_type": "stream",
          "name": "stdout",
          "text": [
            "2\n"
          ]
        }
      ]
    },
    {
      "cell_type": "code",
      "source": [
        "my_list= ['apple', 'banana', 'cherry', 'apple']\n",
        "count = my_list.count('apple')\n",
        "print(count)  # Output: 2"
      ],
      "metadata": {
        "colab": {
          "base_uri": "https://localhost:8080/"
        },
        "id": "YDUs_x8eTB8c",
        "outputId": "f6e4ebdd-24f9-48e6-d515-2808c1748674"
      },
      "execution_count": 67,
      "outputs": [
        {
          "output_type": "stream",
          "name": "stdout",
          "text": [
            "2\n"
          ]
        }
      ]
    },
    {
      "cell_type": "code",
      "source": [
        "my_list = ['cherry', 'banana', 'apple']\n",
        "my_list.sort()\n",
        "print(my_list)  # Output: ['apple', 'banana', 'cherry']"
      ],
      "metadata": {
        "colab": {
          "base_uri": "https://localhost:8080/"
        },
        "id": "qTdra0wzTHMP",
        "outputId": "6e0a92c1-af22-4fc2-a3ab-031e51820c48"
      },
      "execution_count": 68,
      "outputs": [
        {
          "output_type": "stream",
          "name": "stdout",
          "text": [
            "['apple', 'banana', 'cherry']\n"
          ]
        }
      ]
    },
    {
      "cell_type": "code",
      "source": [
        "my_list= ['apple', 'banana', 'cherry']\n",
        "my_list.reverse()\n",
        "print(my_list)  # Output: ['cherry', 'banana', 'apple']"
      ],
      "metadata": {
        "colab": {
          "base_uri": "https://localhost:8080/"
        },
        "id": "wTNnNaAyTJSl",
        "outputId": "8b3a2c68-9fb1-4800-b2cb-13f1a62afa1a"
      },
      "execution_count": 69,
      "outputs": [
        {
          "output_type": "stream",
          "name": "stdout",
          "text": [
            "['cherry', 'banana', 'apple']\n"
          ]
        }
      ]
    },
    {
      "cell_type": "code",
      "source": [
        "# Create a list\n",
        "my_list = [1, 2, 3, 4, 5]\n",
        "\n",
        "# Use max method\n",
        "maximum = max(my_list)\n",
        "\n",
        "# Use sum method\n",
        "total = sum(my_list)\n",
        "\n",
        "print('The maximum number is:', maximum)\n",
        "print('The total sum is:', total)\n"
      ],
      "metadata": {
        "colab": {
          "base_uri": "https://localhost:8080/"
        },
        "id": "wShnOz37TLSr",
        "outputId": "191678d9-74a5-42f9-bc7e-c91f72f40fcd"
      },
      "execution_count": 70,
      "outputs": [
        {
          "output_type": "stream",
          "name": "stdout",
          "text": [
            "The maximum number is: 5\n",
            "The total sum is: 15\n"
          ]
        }
      ]
    },
    {
      "cell_type": "code",
      "source": [
        "My_list=[101,201,301,401]\n",
        "My_list.append(501)\n",
        "print(My_list)"
      ],
      "metadata": {
        "colab": {
          "base_uri": "https://localhost:8080/"
        },
        "id": "PjfY83bhTRFm",
        "outputId": "149caf24-ec8e-4df7-8c66-9879eb89c906"
      },
      "execution_count": 71,
      "outputs": [
        {
          "output_type": "stream",
          "name": "stdout",
          "text": [
            "[101, 201, 301, 401, 501]\n"
          ]
        }
      ]
    },
    {
      "cell_type": "code",
      "source": [
        "My_list"
      ],
      "metadata": {
        "colab": {
          "base_uri": "https://localhost:8080/"
        },
        "id": "U8dgXBa-Tf-q",
        "outputId": "4c2a871c-816f-477b-e8d9-5d20b0ae261d"
      },
      "execution_count": 72,
      "outputs": [
        {
          "output_type": "execute_result",
          "data": {
            "text/plain": [
              "[101, 201, 301, 401, 501]"
            ]
          },
          "metadata": {},
          "execution_count": 72
        }
      ]
    },
    {
      "cell_type": "code",
      "source": [
        "my_list=My_list + [601]\n",
        "print(my_list)"
      ],
      "metadata": {
        "colab": {
          "base_uri": "https://localhost:8080/"
        },
        "id": "qZGV1aq0Ti2-",
        "outputId": "979a799b-2e9d-4f67-b003-2504429d6d4c"
      },
      "execution_count": 75,
      "outputs": [
        {
          "output_type": "stream",
          "name": "stdout",
          "text": [
            "[101, 201, 301, 401, 501, 601]\n"
          ]
        }
      ]
    },
    {
      "cell_type": "code",
      "source": [
        "my_list.insert(2,777)\n",
        "print(my_list)"
      ],
      "metadata": {
        "colab": {
          "base_uri": "https://localhost:8080/"
        },
        "id": "J4rclsVeToD9",
        "outputId": "9fe69554-3da7-4924-e5e3-220c70e649af"
      },
      "execution_count": 76,
      "outputs": [
        {
          "output_type": "stream",
          "name": "stdout",
          "text": [
            "[101, 201, 777, 301, 401, 501, 601]\n"
          ]
        }
      ]
    },
    {
      "cell_type": "code",
      "source": [
        "my_list=[i for i in my_list]\n",
        "print(my_list)"
      ],
      "metadata": {
        "colab": {
          "base_uri": "https://localhost:8080/"
        },
        "id": "hi0iHmRQT06s",
        "outputId": "2925d5b7-6389-4138-cf77-a2212fb44ca8"
      },
      "execution_count": 79,
      "outputs": [
        {
          "output_type": "stream",
          "name": "stdout",
          "text": [
            "[101, 201, 777, 301, 401, 501, 601]\n"
          ]
        }
      ]
    },
    {
      "cell_type": "code",
      "source": [
        "for i in my_list:\n",
        "  print(i)"
      ],
      "metadata": {
        "colab": {
          "base_uri": "https://localhost:8080/"
        },
        "id": "zjn1ic8qT9Fp",
        "outputId": "3a921bc1-8680-4e6e-8d21-d28ef73cc2ca"
      },
      "execution_count": 80,
      "outputs": [
        {
          "output_type": "stream",
          "name": "stdout",
          "text": [
            "101\n",
            "201\n",
            "777\n",
            "301\n",
            "401\n",
            "501\n",
            "601\n"
          ]
        }
      ]
    },
    {
      "cell_type": "code",
      "source": [],
      "metadata": {
        "id": "kyeWkx-NUHqf"
      },
      "execution_count": null,
      "outputs": []
    }
  ]
}