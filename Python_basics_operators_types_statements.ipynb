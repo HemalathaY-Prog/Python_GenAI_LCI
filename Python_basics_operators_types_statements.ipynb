{
  "nbformat": 4,
  "nbformat_minor": 0,
  "metadata": {
    "colab": {
      "provenance": [],
      "authorship_tag": "ABX9TyND5QbqgOPsudqqtOCHKh+f",
      "include_colab_link": true
    },
    "kernelspec": {
      "name": "python3",
      "display_name": "Python 3"
    },
    "language_info": {
      "name": "python"
    }
  },
  "cells": [
    {
      "cell_type": "markdown",
      "metadata": {
        "id": "view-in-github",
        "colab_type": "text"
      },
      "source": [
        "<a href=\"https://colab.research.google.com/github/HemalathaY-Prog/Python_GenAI_LCI/blob/main/Python_basics_operators_types_statements.ipynb\" target=\"_parent\"><img src=\"https://colab.research.google.com/assets/colab-badge.svg\" alt=\"Open In Colab\"/></a>"
      ]
    },
    {
      "cell_type": "code",
      "execution_count": 1,
      "metadata": {
        "colab": {
          "base_uri": "https://localhost:8080/"
        },
        "id": "WsIR-AZ34Z4p",
        "outputId": "e17e0b8c-66bf-4c42-f5dd-4ef1e7aaa6b6"
      },
      "outputs": [
        {
          "output_type": "stream",
          "name": "stdout",
          "text": [
            "welcome to python!!!\n"
          ]
        }
      ],
      "source": [
        "print('welcome to python!!!')"
      ]
    },
    {
      "cell_type": "markdown",
      "source": [
        "# Variable\n",
        "It is a name given to memory location"
      ],
      "metadata": {
        "id": "KqXlJZye461D"
      }
    },
    {
      "cell_type": "markdown",
      "source": [
        "# keywords\n",
        "These are reserved words whose meaning has already been explained to the interpreter"
      ],
      "metadata": {
        "id": "B8rmJ9VB5HoU"
      }
    },
    {
      "cell_type": "code",
      "source": [
        "a=10\n",
        "print(a)\n",
        "id(a)"
      ],
      "metadata": {
        "colab": {
          "base_uri": "https://localhost:8080/"
        },
        "id": "POZjMlmh5kmI",
        "outputId": "9ff3e38d-806a-4ab1-b961-666c3fd032eb"
      },
      "execution_count": 2,
      "outputs": [
        {
          "output_type": "stream",
          "name": "stdout",
          "text": [
            "10\n"
          ]
        },
        {
          "output_type": "execute_result",
          "data": {
            "text/plain": [
              "132889775161872"
            ]
          },
          "metadata": {},
          "execution_count": 2
        }
      ]
    },
    {
      "cell_type": "code",
      "source": [
        "a=20\n",
        "print(a)\n",
        "id(a)"
      ],
      "metadata": {
        "colab": {
          "base_uri": "https://localhost:8080/"
        },
        "id": "oWV7enrJ5nLD",
        "outputId": "7de286f9-2b2b-4de7-b519-c35708a7e762"
      },
      "execution_count": 3,
      "outputs": [
        {
          "output_type": "stream",
          "name": "stdout",
          "text": [
            "20\n"
          ]
        },
        {
          "output_type": "execute_result",
          "data": {
            "text/plain": [
              "132889775162192"
            ]
          },
          "metadata": {},
          "execution_count": 3
        }
      ]
    },
    {
      "cell_type": "code",
      "source": [
        "x,y,z=10,'aadvika',3.14\n",
        "print(x)\n",
        "print(y)\n",
        "print(z)"
      ],
      "metadata": {
        "colab": {
          "base_uri": "https://localhost:8080/"
        },
        "id": "f3yZ20Bo5pz2",
        "outputId": "2b6d6d24-991e-4de8-852f-9f6831c05d83"
      },
      "execution_count": 4,
      "outputs": [
        {
          "output_type": "stream",
          "name": "stdout",
          "text": [
            "10\n",
            "aadvika\n",
            "3.14\n"
          ]
        }
      ]
    },
    {
      "cell_type": "code",
      "source": [
        "a=b=c=10\n",
        "print(a)\n",
        "print(b)\n",
        "print(c)"
      ],
      "metadata": {
        "colab": {
          "base_uri": "https://localhost:8080/"
        },
        "id": "HQx2Le8H5zSP",
        "outputId": "d2e4e773-8f30-4f9f-ad56-da86a857448f"
      },
      "execution_count": 5,
      "outputs": [
        {
          "output_type": "stream",
          "name": "stdout",
          "text": [
            "10\n",
            "10\n",
            "10\n"
          ]
        }
      ]
    },
    {
      "cell_type": "code",
      "source": [
        "id(a)\n",
        "id(b)\n",
        "id(c)"
      ],
      "metadata": {
        "colab": {
          "base_uri": "https://localhost:8080/"
        },
        "id": "rPMhN6Kf54gk",
        "outputId": "ca785b1a-5e06-447f-e312-204c9d35ed1e"
      },
      "execution_count": 6,
      "outputs": [
        {
          "output_type": "execute_result",
          "data": {
            "text/plain": [
              "132889775161872"
            ]
          },
          "metadata": {},
          "execution_count": 6
        }
      ]
    },
    {
      "cell_type": "markdown",
      "source": [
        "# Statement\n",
        "these are the instructions that can be executed when written in REPl or inserted into a script.\n",
        "\n",
        "script contains sequence of statements."
      ],
      "metadata": {
        "id": "_ilpGaIW6Y59"
      }
    },
    {
      "cell_type": "markdown",
      "source": [
        "# Comment\n",
        "comments marked with # symbol\n",
        "#single statement\n",
        "a=10"
      ],
      "metadata": {
        "id": "wm-vKcdi6pm0"
      }
    },
    {
      "cell_type": "code",
      "source": [
        "# Multiline statement (\\) , () , [] , {}\n",
        "# line continuation character\n",
        "a = 1+2+3+\\\n",
        "4+5+6+\\\n",
        "7+8+9\n",
        "print(a)"
      ],
      "metadata": {
        "colab": {
          "base_uri": "https://localhost:8080/"
        },
        "id": "EV87arm-58TQ",
        "outputId": "4cf3abbc-34a9-4e20-855d-afc45bf05ea4"
      },
      "execution_count": 7,
      "outputs": [
        {
          "output_type": "stream",
          "name": "stdout",
          "text": [
            "45\n"
          ]
        }
      ]
    },
    {
      "cell_type": "code",
      "source": [
        "# Multiline statement (\\) , () , [] , {}\n",
        "# line continuation character\n",
        "\n",
        "b = (1+2+3+\n",
        "    4+5+6+\n",
        "    7+8+9)\n",
        "print(b)"
      ],
      "metadata": {
        "colab": {
          "base_uri": "https://localhost:8080/"
        },
        "id": "OxbNbtFv6ObG",
        "outputId": "ba8080a1-8a5e-4703-8853-d50e03ca467a"
      },
      "execution_count": 8,
      "outputs": [
        {
          "output_type": "stream",
          "name": "stdout",
          "text": [
            "45\n"
          ]
        }
      ]
    },
    {
      "cell_type": "code",
      "source": [
        "# Multiline statement (\\) , () , [] , {}\n",
        "# line continuation character\n",
        "\n",
        "b = [10+2+3+\n",
        "    4+5+6+\n",
        "    7+8+9]\n",
        "print(b)"
      ],
      "metadata": {
        "colab": {
          "base_uri": "https://localhost:8080/"
        },
        "id": "89Hf5waA6Q6D",
        "outputId": "e355a86d-76b3-4e5d-db34-bfef7472fd3f"
      },
      "execution_count": 9,
      "outputs": [
        {
          "output_type": "stream",
          "name": "stdout",
          "text": [
            "[54]\n"
          ]
        }
      ]
    },
    {
      "cell_type": "code",
      "source": [
        "# Numeric literals (immutable - which cannot be changed)\n",
        "a = 10\n",
        "print(\"a = \",a)              # value\n",
        "print(\"Type = \", type(a))    # data type\n",
        "print(\"id =\",id(a))          # memory address\n",
        "\n",
        "a = 20\n",
        "print(\"a = \",a)              # value\n",
        "print(\"Type = \", type(a))    # data type\n",
        "print(\"id =\",id(a))          # memory address"
      ],
      "metadata": {
        "colab": {
          "base_uri": "https://localhost:8080/"
        },
        "id": "JT6oVhRy6T-4",
        "outputId": "23dcffc9-8508-42f1-ed79-587bc092c610"
      },
      "execution_count": 10,
      "outputs": [
        {
          "output_type": "stream",
          "name": "stdout",
          "text": [
            "a =  10\n",
            "Type =  <class 'int'>\n",
            "id = 132889775161872\n",
            "a =  20\n",
            "Type =  <class 'int'>\n",
            "id = 132889775162192\n"
          ]
        }
      ]
    },
    {
      "cell_type": "code",
      "source": [
        "#integer (decimal, binary, octal, hexadecimal)\n",
        "\n",
        "n1 = 100    # decimal base 10\n",
        "\n",
        "n2 = 0b100  # 0b, 0B binary base 2\n",
        "\n",
        "n3 = 0o100  # 0o , 0O , octal base 8\n",
        "\n",
        "n4 = 0x100  # 0x, 0X , hexadecimal base 16\n",
        "\n",
        "print(\"n1 =\",n1)\n",
        "print(\"n2 =\",n2)\n",
        "print(\"n3 =\",n3)\n",
        "print(\"n4 =\",n4)"
      ],
      "metadata": {
        "colab": {
          "base_uri": "https://localhost:8080/"
        },
        "id": "2bkKk8u76_Li",
        "outputId": "6b7520cb-9485-464e-f57d-f758a93470d4"
      },
      "execution_count": 11,
      "outputs": [
        {
          "output_type": "stream",
          "name": "stdout",
          "text": [
            "n1 = 100\n",
            "n2 = 4\n",
            "n3 = 64\n",
            "n4 = 256\n"
          ]
        }
      ]
    },
    {
      "cell_type": "code",
      "source": [
        "# float\n",
        "f1 = 3.14\n",
        "print(\"f1 = \",f1)         # value\n",
        "print(\"type= \",type(f1))  # data type\n",
        "print(\"id =\", id(f1))     # memory address\n",
        "\n",
        "f2 = 1.5e-4     #  1.5 * 10 ^ 4\n",
        "print(\"f2 = \",f2)\n",
        "print(\"type= \",type(f2))\n",
        "print(\"id =\",id(f2))"
      ],
      "metadata": {
        "colab": {
          "base_uri": "https://localhost:8080/"
        },
        "id": "ZALjvz9k7CUf",
        "outputId": "17fcb086-33e4-4590-e545-a19c05e2dcf1"
      },
      "execution_count": 12,
      "outputs": [
        {
          "output_type": "stream",
          "name": "stdout",
          "text": [
            "f1 =  3.14\n",
            "type=  <class 'float'>\n",
            "id = 132888493891632\n",
            "f2 =  0.00015\n",
            "type=  <class 'float'>\n",
            "id = 132888493890704\n"
          ]
        }
      ]
    },
    {
      "cell_type": "code",
      "source": [
        "# complex data type\n",
        "z = 1 + 2j\n",
        "\n",
        "print(\"z = \",z)          # value\n",
        "print(\"type= \",type(z))  # data type\n",
        "print(\"id =\",id(z))      # memory address\n",
        "print(\"real = \",z.real)  # real\n",
        "print(\"imag = \",z.imag)  # imaginary"
      ],
      "metadata": {
        "colab": {
          "base_uri": "https://localhost:8080/"
        },
        "id": "tnR7BcNX7FAD",
        "outputId": "9ee0212c-45e3-4e8e-c9b8-fa02e9706ad4"
      },
      "execution_count": 13,
      "outputs": [
        {
          "output_type": "stream",
          "name": "stdout",
          "text": [
            "z =  (1+2j)\n",
            "type=  <class 'complex'>\n",
            "id = 132888493892176\n",
            "real =  1.0\n",
            "imag =  2.0\n"
          ]
        }
      ]
    },
    {
      "cell_type": "code",
      "source": [
        "# Boolean literals (True or False)\n",
        "# True = 1\n",
        "# False = 1\n",
        "\n",
        "x  = (True == 1)\n",
        "print(\"x= \",x)\n",
        "y = (False ==0)\n",
        "print(\"y= \",y)"
      ],
      "metadata": {
        "colab": {
          "base_uri": "https://localhost:8080/"
        },
        "id": "-n9OZk257Lsu",
        "outputId": "041aa5ff-80da-4d6e-8fb8-377eea478283"
      },
      "execution_count": 14,
      "outputs": [
        {
          "output_type": "stream",
          "name": "stdout",
          "text": [
            "x=  True\n",
            "y=  True\n"
          ]
        }
      ]
    },
    {
      "cell_type": "code",
      "source": [
        "a = True + 4    # 5\n",
        "b = False + 4   # 4\n",
        "print (\"a= \",a)\n",
        "print(\"b =\",b)"
      ],
      "metadata": {
        "colab": {
          "base_uri": "https://localhost:8080/"
        },
        "id": "1RlHcnvj7SQ9",
        "outputId": "11acd4a0-53d2-4f86-cd17-d1bc9f4c34f1"
      },
      "execution_count": 15,
      "outputs": [
        {
          "output_type": "stream",
          "name": "stdout",
          "text": [
            "a=  5\n",
            "b = 4\n"
          ]
        }
      ]
    },
    {
      "cell_type": "code",
      "source": [
        "# Special literals\n",
        "\n",
        "name = None   #\n",
        "print(\"name =\",name)\n",
        "print(\"type = \",type(name))"
      ],
      "metadata": {
        "colab": {
          "base_uri": "https://localhost:8080/"
        },
        "id": "043raizo7WpM",
        "outputId": "adf02e75-c61e-49a0-dde0-b33801e8401d"
      },
      "execution_count": 16,
      "outputs": [
        {
          "output_type": "stream",
          "name": "stdout",
          "text": [
            "name = None\n",
            "type =  <class 'NoneType'>\n"
          ]
        }
      ]
    },
    {
      "cell_type": "code",
      "source": [
        "# String literals\n",
        "s1 = \"string with double quotes\"\n",
        "s2 = 'string with single quotes'\n",
        "\n",
        "print(\"s1 =\",s1)\n",
        "print(\"s2 =\",s2)\n",
        "\n",
        "print(\"type(s1) =\", type(s1))\n",
        "print(\"type(s2) =\",type(s2))"
      ],
      "metadata": {
        "colab": {
          "base_uri": "https://localhost:8080/"
        },
        "id": "-IybwaR17ZuA",
        "outputId": "3d1db644-e3ce-4743-c68b-3ceb00cb9773"
      },
      "execution_count": 17,
      "outputs": [
        {
          "output_type": "stream",
          "name": "stdout",
          "text": [
            "s1 = string with double quotes\n",
            "s2 = string with single quotes\n",
            "type(s1) = <class 'str'>\n",
            "type(s2) = <class 'str'>\n"
          ]
        }
      ]
    },
    {
      "cell_type": "code",
      "source": [
        "# multipleline strings\n",
        "# \"\"\" multiple line of strings\"\"\"\n",
        "# ''' multiple lines'''\n",
        "\n",
        "#str1 = \"This is\\       # \\ line continuation character\n",
        "#multiline example\\ in python\"\n",
        "\n",
        "#print(str1)\n",
        "\n",
        "str1 = \"\"\"This is\n",
        "a multiline\n",
        "example\"\"\"\n",
        "print(str1)\n",
        "\n",
        "str1 = '''This is\n",
        "a multiline\n",
        "example'''\n",
        "\n",
        "print(str1)"
      ],
      "metadata": {
        "colab": {
          "base_uri": "https://localhost:8080/"
        },
        "id": "42QpE8vQ7dIj",
        "outputId": "d7843119-2ef1-4f40-e95d-fca2ba2e9521"
      },
      "execution_count": 19,
      "outputs": [
        {
          "output_type": "stream",
          "name": "stdout",
          "text": [
            "This is\n",
            "a multiline\n",
            "example\n",
            "This is\n",
            "a multiline\n",
            "example\n"
          ]
        }
      ]
    },
    {
      "cell_type": "markdown",
      "source": [
        "# Collection literals\n",
        "list,tuple,sets,dictionary"
      ],
      "metadata": {
        "id": "nTk0WQXp78QA"
      }
    },
    {
      "cell_type": "code",
      "source": [
        "# list\n",
        "# insersion order, duplicate values, mutable datatype\n",
        "\n",
        "names = [\"sam\",21,\"eva\", 3.14,\"sam\"]\n",
        "print(names)\n",
        "print(type(names))\n",
        "\n",
        "#mutable datatype\n",
        "names[0] =\"Uttam\"\n",
        "print(names)"
      ],
      "metadata": {
        "colab": {
          "base_uri": "https://localhost:8080/"
        },
        "id": "QDuPzpTL7giA",
        "outputId": "d25e69f9-3719-4afc-d453-dd49175fd1ad"
      },
      "execution_count": 20,
      "outputs": [
        {
          "output_type": "stream",
          "name": "stdout",
          "text": [
            "['sam', 21, 'eva', 3.14, 'sam']\n",
            "<class 'list'>\n",
            "['Uttam', 21, 'eva', 3.14, 'sam']\n"
          ]
        }
      ]
    },
    {
      "cell_type": "code",
      "source": [
        "#tuple\n",
        "# insersion order, duplicate values, immutable datatype\n",
        "\n",
        "names = (\"Sam\",12,\"Joe\",3.14)\n",
        "print(names)\n",
        "print(type(names))\n",
        "\n",
        "# names[0] ='Uttam'\n",
        "# print(names)"
      ],
      "metadata": {
        "colab": {
          "base_uri": "https://localhost:8080/"
        },
        "id": "OpdJLjKt8CwF",
        "outputId": "0036cfa3-2e13-42d0-b4d4-4e8446e2c208"
      },
      "execution_count": 21,
      "outputs": [
        {
          "output_type": "stream",
          "name": "stdout",
          "text": [
            "('Sam', 12, 'Joe', 3.14)\n",
            "<class 'tuple'>\n"
          ]
        }
      ]
    },
    {
      "cell_type": "code",
      "source": [
        "# set\n",
        "# no duplicates values , no insertion order\n",
        "\n",
        "persons = {\"sam\",21,\"eva\", \"amy\",\"sam\"}\n",
        "print(persons)\n",
        "print(type(persons))"
      ],
      "metadata": {
        "colab": {
          "base_uri": "https://localhost:8080/"
        },
        "id": "z4hUEvzD8GZg",
        "outputId": "403cd94c-4d6d-4404-e5da-7c9490ecb901"
      },
      "execution_count": 22,
      "outputs": [
        {
          "output_type": "stream",
          "name": "stdout",
          "text": [
            "{'eva', 21, 'sam', 'amy'}\n",
            "<class 'set'>\n"
          ]
        }
      ]
    },
    {
      "cell_type": "code",
      "source": [
        "# dictionary\n",
        "# key : value pair\n",
        "\n",
        "emp = {\"id\":1234,\"name\":\"Sara\",\"age\":21}\n",
        "print(emp)\n",
        "print(type(emp))\n",
        "\n",
        "print(emp[\"name\"], emp[\"id\"])"
      ],
      "metadata": {
        "colab": {
          "base_uri": "https://localhost:8080/"
        },
        "id": "trfiIaBW8Nw0",
        "outputId": "8df7bd35-52a3-404a-e7fe-5a27c9769379"
      },
      "execution_count": 23,
      "outputs": [
        {
          "output_type": "stream",
          "name": "stdout",
          "text": [
            "{'id': 1234, 'name': 'Sara', 'age': 21}\n",
            "<class 'dict'>\n",
            "Sara 1234\n"
          ]
        }
      ]
    },
    {
      "cell_type": "code",
      "source": [
        "#implicit conversion\n",
        "a = 10\n",
        "b= 5.5\n",
        "c = a + b\n",
        "print(\"a =\",a, type(a))\n",
        "print(\"b =\",b, type(b))\n",
        "print(\"c =\",c, type(c))"
      ],
      "metadata": {
        "colab": {
          "base_uri": "https://localhost:8080/"
        },
        "id": "bVdXSfdt8VQw",
        "outputId": "8e469312-734a-4574-ee24-91f47a559e03"
      },
      "execution_count": 24,
      "outputs": [
        {
          "output_type": "stream",
          "name": "stdout",
          "text": [
            "a = 10 <class 'int'>\n",
            "b = 5.5 <class 'float'>\n",
            "c = 15.5 <class 'float'>\n"
          ]
        }
      ]
    },
    {
      "cell_type": "code",
      "source": [
        "# explict conversion\n",
        "a = 10\n",
        "b= \"two\"\n",
        "c = str(a) + b\n",
        "print(\"a =\",a, type(a))\n",
        "print(\"b =\",b, type(b))\n",
        "print(\"c =\",c, type(c))"
      ],
      "metadata": {
        "colab": {
          "base_uri": "https://localhost:8080/"
        },
        "id": "9z8W9ZJC8pQ4",
        "outputId": "ea71245f-6d4e-43cf-e4a9-ba325f145e2a"
      },
      "execution_count": 25,
      "outputs": [
        {
          "output_type": "stream",
          "name": "stdout",
          "text": [
            "a = 10 <class 'int'>\n",
            "b = two <class 'str'>\n",
            "c = 10two <class 'str'>\n"
          ]
        }
      ]
    },
    {
      "cell_type": "code",
      "source": [
        "# 2. explicit type conversion\n",
        "\n",
        "# convert int to float\n",
        "f1 = float(10)\n",
        "print(\"f1= \",f1)\n",
        "\n",
        "# convert float to int\n",
        "num1 = int(3.14)\n",
        "print(\"num1= \",num1)"
      ],
      "metadata": {
        "colab": {
          "base_uri": "https://localhost:8080/"
        },
        "id": "i0ZMLp4q8uH2",
        "outputId": "bd93500b-d0e0-4883-b3b7-92e456186245"
      },
      "execution_count": 26,
      "outputs": [
        {
          "output_type": "stream",
          "name": "stdout",
          "text": [
            "f1=  10.0\n",
            "num1=  3\n"
          ]
        }
      ]
    },
    {
      "cell_type": "code",
      "source": [
        "# Explicit typeconversion\n",
        "# convert str to int and int to string\n",
        "\n",
        "# int to str\n",
        "s1 = str(10)\n",
        "print(\"s1= \",s1, type(s1))\n",
        "\n",
        "# str to int\n",
        "n1 = int('10')\n",
        "print(\"n1= \",n1, type(n1))"
      ],
      "metadata": {
        "colab": {
          "base_uri": "https://localhost:8080/"
        },
        "id": "-YVJ0FwN8zCP",
        "outputId": "0a6f8b8c-7617-4b90-c9f3-cdd5d4428d4a"
      },
      "execution_count": 27,
      "outputs": [
        {
          "output_type": "stream",
          "name": "stdout",
          "text": [
            "s1=  10 <class 'str'>\n",
            "n1=  10 <class 'int'>\n"
          ]
        }
      ]
    },
    {
      "cell_type": "code",
      "source": [
        "# conver str to float and flaot to string\n",
        "f1 = float(\"15.123\")\n",
        "print(\"f1= \",f1, type(f1))\n",
        "\n",
        "s1 = str(\"15.123\")\n",
        "print(\"n1= \",s1, type(s1))"
      ],
      "metadata": {
        "colab": {
          "base_uri": "https://localhost:8080/"
        },
        "id": "N5ByzPMl9JtW",
        "outputId": "9109cbd4-a8d9-4937-dade-143040858769"
      },
      "execution_count": 28,
      "outputs": [
        {
          "output_type": "stream",
          "name": "stdout",
          "text": [
            "f1=  15.123 <class 'float'>\n",
            "n1=  15.123 <class 'str'>\n"
          ]
        }
      ]
    },
    {
      "cell_type": "code",
      "source": [
        "input([prompt])\n"
      ],
      "metadata": {
        "colab": {
          "base_uri": "https://localhost:8080/",
          "height": 141
        },
        "id": "EhFNOXaz9NPl",
        "outputId": "7f0bdb9b-e9ce-48f8-da67-93effb6e618e"
      },
      "execution_count": 31,
      "outputs": [
        {
          "output_type": "error",
          "ename": "NameError",
          "evalue": "name 'prompt' is not defined",
          "traceback": [
            "\u001b[0;31m---------------------------------------------------------------------------\u001b[0m",
            "\u001b[0;31mNameError\u001b[0m                                 Traceback (most recent call last)",
            "\u001b[0;32m<ipython-input-31-2b567fd09379>\u001b[0m in \u001b[0;36m<cell line: 1>\u001b[0;34m()\u001b[0m\n\u001b[0;32m----> 1\u001b[0;31m \u001b[0minput\u001b[0m\u001b[0;34m(\u001b[0m\u001b[0;34m[\u001b[0m\u001b[0mprompt\u001b[0m\u001b[0;34m]\u001b[0m\u001b[0;34m)\u001b[0m\u001b[0;34m\u001b[0m\u001b[0;34m\u001b[0m\u001b[0m\n\u001b[0m",
            "\u001b[0;31mNameError\u001b[0m: name 'prompt' is not defined"
          ]
        }
      ]
    },
    {
      "cell_type": "code",
      "source": [
        "name = input(\"Enter your name: \")\n",
        "print(f\"Hello, {name}\")\n"
      ],
      "metadata": {
        "colab": {
          "base_uri": "https://localhost:8080/"
        },
        "id": "EswXiNCA9dd_",
        "outputId": "78c25ffd-fbea-40da-9ffc-20be3f6404ff"
      },
      "execution_count": 30,
      "outputs": [
        {
          "output_type": "stream",
          "name": "stdout",
          "text": [
            "Enter your name: Aadvika\n",
            "Hello, Aadvika\n"
          ]
        }
      ]
    },
    {
      "cell_type": "code",
      "source": [
        "age = input(\"Enter the age: \")\n",
        "print(f\"Hello, {age}\")\n",
        "print(type(age))\n"
      ],
      "metadata": {
        "colab": {
          "base_uri": "https://localhost:8080/"
        },
        "id": "CCVuXoPo9eor",
        "outputId": "9add14e5-ffae-4bcb-aac5-7dae8f512a83"
      },
      "execution_count": 33,
      "outputs": [
        {
          "output_type": "stream",
          "name": "stdout",
          "text": [
            "Enter the age: 2\n",
            "Hello, 2\n",
            "<class 'str'>\n"
          ]
        }
      ]
    },
    {
      "cell_type": "code",
      "source": [
        "N = 7\n",
        "\n",
        "7 + 5\n",
        "\n",
        "5.2 , “this”, 4-2, “that”, 5/2.0"
      ],
      "metadata": {
        "colab": {
          "base_uri": "https://localhost:8080/",
          "height": 106
        },
        "id": "JlVpIoty9nrx",
        "outputId": "76713bb3-3113-41f7-901e-94409ce4436c"
      },
      "execution_count": 34,
      "outputs": [
        {
          "output_type": "error",
          "ename": "SyntaxError",
          "evalue": "invalid character '“' (U+201C) (<ipython-input-34-c95a1de38dbf>, line 5)",
          "traceback": [
            "\u001b[0;36m  File \u001b[0;32m\"<ipython-input-34-c95a1de38dbf>\"\u001b[0;36m, line \u001b[0;32m5\u001b[0m\n\u001b[0;31m    5.2 , “this”, 4-2, “that”, 5/2.0\u001b[0m\n\u001b[0m          ^\u001b[0m\n\u001b[0;31mSyntaxError\u001b[0m\u001b[0;31m:\u001b[0m invalid character '“' (U+201C)\n"
          ]
        }
      ]
    },
    {
      "cell_type": "code",
      "source": [
        ">>> x = input()\n",
        "type(x)"
      ],
      "metadata": {
        "colab": {
          "base_uri": "https://localhost:8080/"
        },
        "id": "ft-upmtP94Vo",
        "outputId": "b711c54c-9c61-47f8-9cba-b0441d6cd12f"
      },
      "execution_count": 37,
      "outputs": [
        {
          "name": "stdout",
          "output_type": "stream",
          "text": [
            "3.14\n"
          ]
        },
        {
          "output_type": "execute_result",
          "data": {
            "text/plain": [
              "str"
            ]
          },
          "metadata": {},
          "execution_count": 37
        }
      ]
    },
    {
      "cell_type": "code",
      "source": [
        ">>> x = input()\n",
        "\n"
      ],
      "metadata": {
        "colab": {
          "base_uri": "https://localhost:8080/",
          "height": 53
        },
        "id": "mc348-lI970u",
        "outputId": "8fae4f5f-8eb3-4d29-ce2f-daf177ecc0c6"
      },
      "execution_count": 38,
      "outputs": [
        {
          "name": "stdout",
          "output_type": "stream",
          "text": [
            "'The knights who say \"ni!\"'\n"
          ]
        },
        {
          "output_type": "execute_result",
          "data": {
            "text/plain": [
              "'\\'The knights who say \"ni!\"\\''"
            ],
            "application/vnd.google.colaboratory.intrinsic+json": {
              "type": "string"
            }
          },
          "metadata": {},
          "execution_count": 38
        }
      ]
    },
    {
      "cell_type": "code",
      "source": [
        "x"
      ],
      "metadata": {
        "colab": {
          "base_uri": "https://localhost:8080/",
          "height": 35
        },
        "id": "6wrf_xbg-LmM",
        "outputId": "12e456c3-94ed-40d6-d6fb-4b27f72542b2"
      },
      "execution_count": 39,
      "outputs": [
        {
          "output_type": "execute_result",
          "data": {
            "text/plain": [
              "'\\'The knights who say \"ni!\"\\''"
            ],
            "application/vnd.google.colaboratory.intrinsic+json": {
              "type": "string"
            }
          },
          "metadata": {},
          "execution_count": 39
        }
      ]
    },
    {
      "cell_type": "code",
      "source": [
        "a='All'\n",
        "b=' work'\n",
        "c=' and'\n",
        "d=' no'\n",
        "e=' play'\n",
        "f=' makes'\n",
        "g=' jack a'\n",
        "h=' dull boy'\n",
        "\n",
        "print(a+b+c+d+e+f+g+h)\n"
      ],
      "metadata": {
        "colab": {
          "base_uri": "https://localhost:8080/"
        },
        "id": "vxa0Alor-Sz9",
        "outputId": "e992688e-057b-4ed4-ad80-da0581e24263"
      },
      "execution_count": 41,
      "outputs": [
        {
          "output_type": "stream",
          "name": "stdout",
          "text": [
            "All work and no play makes jack a dull boy\n"
          ]
        }
      ]
    },
    {
      "cell_type": "markdown",
      "source": [
        "# Operators"
      ],
      "metadata": {
        "id": "WyJl4f6h_q9H"
      }
    },
    {
      "cell_type": "code",
      "source": [
        "x = 15\n",
        "y = 4\n",
        "\n",
        "print(\"x + y = \", x+y) # 19\n",
        "print(\"x - y = \", x-y) # 11\n",
        "print(\"x * y = \", x*y) # 60\n",
        "print(\"x / y = \", x/y) # 3.75\n",
        "print(\"x // y = \", x//y) # 3\n",
        "print(\"x % y = \", x%y) #3\n",
        "print(\"x ** y = \", x**y) #"
      ],
      "metadata": {
        "colab": {
          "base_uri": "https://localhost:8080/"
        },
        "id": "Mtg7xbfE_ZTo",
        "outputId": "30eb5ce4-2f16-4d24-f37b-94330d1e1eab"
      },
      "execution_count": 42,
      "outputs": [
        {
          "output_type": "stream",
          "name": "stdout",
          "text": [
            "x + y =  19\n",
            "x - y =  11\n",
            "x * y =  60\n",
            "x / y =  3.75\n",
            "x // y =  3\n",
            "x % y =  3\n",
            "x ** y =  50625\n"
          ]
        }
      ]
    },
    {
      "cell_type": "code",
      "source": [
        "# interger division\n",
        "print(3//2)  #1   3/2 = 1.5  1\n",
        "print(-3//2) #-2  -3/2 = -1.5  = -2"
      ],
      "metadata": {
        "colab": {
          "base_uri": "https://localhost:8080/"
        },
        "id": "TYpF5bp5_3SW",
        "outputId": "7040c4c1-295f-4d18-f22d-105600a4f974"
      },
      "execution_count": 43,
      "outputs": [
        {
          "output_type": "stream",
          "name": "stdout",
          "text": [
            "1\n",
            "-2\n"
          ]
        }
      ]
    },
    {
      "cell_type": "code",
      "source": [
        "# PEMDAS - parenthesis, exponent, multiply, divide, addition, substration\n",
        "\n",
        "print(-1 + (3 **2 + (4 - 1)))"
      ],
      "metadata": {
        "colab": {
          "base_uri": "https://localhost:8080/"
        },
        "id": "RTc9j4Ho_3oG",
        "outputId": "f7b6f6ae-71cb-4745-d114-39612111a3ca"
      },
      "execution_count": 44,
      "outputs": [
        {
          "output_type": "stream",
          "name": "stdout",
          "text": [
            "11\n"
          ]
        }
      ]
    },
    {
      "cell_type": "code",
      "source": [
        "# Operation on strings\n",
        "# (+) - concatenation\n",
        "# (*) - repititions\n",
        "\n",
        "str1 = \"Uttam \"\n",
        "print(str1 + \"Kumar\") # appended\n",
        "\n",
        "print( str1 * 4) #repetition\n",
        "r = str(1) + \"hello\"\n",
        "print(r)"
      ],
      "metadata": {
        "colab": {
          "base_uri": "https://localhost:8080/"
        },
        "id": "Q2kY7hMhAC-0",
        "outputId": "0f384362-8f43-4f81-d581-c2687cb33857"
      },
      "execution_count": 45,
      "outputs": [
        {
          "output_type": "stream",
          "name": "stdout",
          "text": [
            "Uttam Kumar\n",
            "Uttam Uttam Uttam Uttam \n",
            "1hello\n"
          ]
        }
      ]
    },
    {
      "cell_type": "code",
      "source": [
        "# Comparision operators\n",
        "\n",
        "x = 10\n",
        "y = 12\n",
        "\n",
        "print('x= ',x)\n",
        "print('y= ',y)\n",
        "\n",
        "print(x>y) # False\n",
        "print(x<y) # True\n",
        "print(x==y) # False\n",
        "print(x!=y) # True\n",
        "print(x >= y) # False\n",
        "print(x <= y) # True"
      ],
      "metadata": {
        "colab": {
          "base_uri": "https://localhost:8080/"
        },
        "id": "RwLC2Uy2AHIQ",
        "outputId": "799e0a2e-f964-4e3d-95f4-bd42f68d3879"
      },
      "execution_count": 46,
      "outputs": [
        {
          "output_type": "stream",
          "name": "stdout",
          "text": [
            "x=  10\n",
            "y=  12\n",
            "False\n",
            "True\n",
            "False\n",
            "True\n",
            "False\n",
            "True\n"
          ]
        }
      ]
    },
    {
      "cell_type": "code",
      "source": [
        "x = 5\n",
        "print(x > 3 and x < 10)"
      ],
      "metadata": {
        "colab": {
          "base_uri": "https://localhost:8080/"
        },
        "id": "dqnug5ONAL1O",
        "outputId": "a81ad121-1800-4514-fa7d-58c21920ccb9"
      },
      "execution_count": 47,
      "outputs": [
        {
          "output_type": "stream",
          "name": "stdout",
          "text": [
            "True\n"
          ]
        }
      ]
    },
    {
      "cell_type": "code",
      "source": [
        "x = 5\n",
        "print(x > 3 or x < 4)"
      ],
      "metadata": {
        "colab": {
          "base_uri": "https://localhost:8080/"
        },
        "id": "o4K8a2MfB-Q7",
        "outputId": "f3e341ff-4224-4e3b-e2c6-9d13b10ece7f"
      },
      "execution_count": 48,
      "outputs": [
        {
          "output_type": "stream",
          "name": "stdout",
          "text": [
            "True\n"
          ]
        }
      ]
    },
    {
      "cell_type": "code",
      "source": [
        "x = 5\n",
        "print(not(x > 3 and x < 10))"
      ],
      "metadata": {
        "colab": {
          "base_uri": "https://localhost:8080/"
        },
        "id": "R7Rlre95B_q7",
        "outputId": "c61f4943-e5a6-4ae8-933a-e2168fd7a079"
      },
      "execution_count": 49,
      "outputs": [
        {
          "output_type": "stream",
          "name": "stdout",
          "text": [
            "False\n"
          ]
        }
      ]
    },
    {
      "cell_type": "code",
      "source": [
        "# Example : Logical operators\n",
        "x = True\n",
        "y = False\n",
        "\n",
        "print(\"x= \",x)\n",
        "print(\"y= \",y)\n",
        "\n",
        "print(x and y)  # False\n",
        "print(x or y)   # True\n",
        "print(not x)    # False\n",
        "x = 5; y = 3"
      ],
      "metadata": {
        "colab": {
          "base_uri": "https://localhost:8080/"
        },
        "id": "rg6FanC8CBx3",
        "outputId": "f04bea3f-a24e-4392-ddab-833061ed2c58"
      },
      "execution_count": 50,
      "outputs": [
        {
          "output_type": "stream",
          "name": "stdout",
          "text": [
            "x=  True\n",
            "y=  False\n",
            "False\n",
            "True\n",
            "False\n"
          ]
        }
      ]
    },
    {
      "cell_type": "code",
      "source": [
        "# Switch operator: and\n",
        "if (x > 5 and y > 1):\n",
        "    y = y + 1\n",
        "\n",
        "print(x , y) # 5 , 3\n",
        "\n",
        "# Switch operator: or\n",
        "x = 5; y = 3\n",
        "if x > 5 or  y > 1:\n",
        "    y = y + 1\n",
        "\n",
        "print(x , y) # 5, 4"
      ],
      "metadata": {
        "colab": {
          "base_uri": "https://localhost:8080/"
        },
        "id": "auQur4kACLDR",
        "outputId": "32d07e6a-3c4e-4ce9-957d-f5b00e7d144a"
      },
      "execution_count": 51,
      "outputs": [
        {
          "output_type": "stream",
          "name": "stdout",
          "text": [
            "5 3\n",
            "5 4\n"
          ]
        }
      ]
    },
    {
      "cell_type": "code",
      "source": [
        "# Assignment Operators\n",
        "\n",
        "# operator =\n",
        "x = 5\n",
        "print('operator x = 5: ',x)\n",
        "\n",
        "x = 5\n",
        "x += 5\n",
        "print('operator x += 5: ',x) # 10\n",
        "\n",
        "x = 5\n",
        "x -= 5\n",
        "print('operator x -= 5: ',x) # 0\n",
        "\n",
        "x = 5\n",
        "x *= 5\n",
        "print('operator x *= 5: ',x) # 25\n",
        "\n",
        "x = 5\n",
        "x /= 5\n",
        "print('operator x /= 5: ',x) # 1.0\n",
        "\n",
        "x = 5\n",
        "x //= 5\n",
        "print('operator x //= 5: ',x) # 1\n",
        "\n",
        "x = 5\n",
        "x %= 5\n",
        "print('operator x %= 5: ',x) # 0\n",
        "\n",
        "x = 5\n",
        "x **= 5\n",
        "print('operator x **= 5: ',x) #3125"
      ],
      "metadata": {
        "colab": {
          "base_uri": "https://localhost:8080/"
        },
        "id": "MXbgLb2nCa8G",
        "outputId": "aa86c62c-2c6b-4ab1-d8b2-bd2df6165cc1"
      },
      "execution_count": 52,
      "outputs": [
        {
          "output_type": "stream",
          "name": "stdout",
          "text": [
            "operator x = 5:  5\n",
            "operator x += 5:  10\n",
            "operator x -= 5:  0\n",
            "operator x *= 5:  25\n",
            "operator x /= 5:  1.0\n",
            "operator x //= 5:  1\n",
            "operator x %= 5:  0\n",
            "operator x **= 5:  3125\n"
          ]
        }
      ]
    },
    {
      "cell_type": "code",
      "source": [],
      "metadata": {
        "id": "nwN6MpX9Cf8Y"
      },
      "execution_count": null,
      "outputs": []
    }
  ]
}