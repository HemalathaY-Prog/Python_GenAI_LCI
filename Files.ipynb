{
  "nbformat": 4,
  "nbformat_minor": 0,
  "metadata": {
    "colab": {
      "provenance": [],
      "authorship_tag": "ABX9TyN0tru0m15GcBPS6sMqQzV3",
      "include_colab_link": true
    },
    "kernelspec": {
      "name": "python3",
      "display_name": "Python 3"
    },
    "language_info": {
      "name": "python"
    }
  },
  "cells": [
    {
      "cell_type": "markdown",
      "metadata": {
        "id": "view-in-github",
        "colab_type": "text"
      },
      "source": [
        "<a href=\"https://colab.research.google.com/github/HemalathaY-Prog/Python_GenAI_LCI/blob/main/Files.ipynb\" target=\"_parent\"><img src=\"https://colab.research.google.com/assets/colab-badge.svg\" alt=\"Open In Colab\"/></a>"
      ]
    },
    {
      "cell_type": "markdown",
      "source": [
        "\n",
        "\n",
        "1.   File is a named location on disk to store related information\n",
        "2.   it stores data permanently.\n",
        "\n"
      ],
      "metadata": {
        "id": "KQxhkrXKD_kP"
      }
    },
    {
      "cell_type": "code",
      "execution_count": 11,
      "metadata": {
        "colab": {
          "base_uri": "https://localhost:8080/",
          "height": 436
        },
        "id": "aZozGQgbDRQW",
        "outputId": "e72a6992-ea24-4abd-8629-8518ad47e7a0"
      },
      "outputs": [
        {
          "output_type": "stream",
          "name": "stdout",
          "text": [
            "/content\n",
            "b'/content'\n",
            "['.config', 'test', 'sample_data']\n",
            "['README.md', 'anscombe.json', 'mnist_test.csv', 'california_housing_train.csv', 'mnist_train_small.csv', 'california_housing_test.csv']\n",
            "/content/sample_data\n",
            "['.config', 'test', 'sample_data']\n"
          ]
        },
        {
          "output_type": "error",
          "ename": "FileNotFoundError",
          "evalue": "[Errno 2] No such file or directory: 'anscombe.json'",
          "traceback": [
            "\u001b[0;31m---------------------------------------------------------------------------\u001b[0m",
            "\u001b[0;31mFileNotFoundError\u001b[0m                         Traceback (most recent call last)",
            "\u001b[0;32m<ipython-input-11-5886794a5ee5>\u001b[0m in \u001b[0;36m<cell line: 24>\u001b[0;34m()\u001b[0m\n\u001b[1;32m     22\u001b[0m \u001b[0;34m\u001b[0m\u001b[0m\n\u001b[1;32m     23\u001b[0m \u001b[0;31m# size in bytes\u001b[0m\u001b[0;34m\u001b[0m\u001b[0;34m\u001b[0m\u001b[0m\n\u001b[0;32m---> 24\u001b[0;31m \u001b[0mprint\u001b[0m\u001b[0;34m(\u001b[0m\u001b[0mos\u001b[0m\u001b[0;34m.\u001b[0m\u001b[0mpath\u001b[0m\u001b[0;34m.\u001b[0m\u001b[0mgetsize\u001b[0m\u001b[0;34m(\u001b[0m\u001b[0;34m'anscombe.json'\u001b[0m\u001b[0;34m)\u001b[0m\u001b[0;34m)\u001b[0m\u001b[0;34m\u001b[0m\u001b[0;34m\u001b[0m\u001b[0m\n\u001b[0m\u001b[1;32m     25\u001b[0m \u001b[0;34m\u001b[0m\u001b[0m\n\u001b[1;32m     26\u001b[0m \u001b[0;31m# checking its a file\u001b[0m\u001b[0;34m\u001b[0m\u001b[0;34m\u001b[0m\u001b[0m\n",
            "\u001b[0;32m/usr/lib/python3.10/genericpath.py\u001b[0m in \u001b[0;36mgetsize\u001b[0;34m(filename)\u001b[0m\n\u001b[1;32m     48\u001b[0m \u001b[0;32mdef\u001b[0m \u001b[0mgetsize\u001b[0m\u001b[0;34m(\u001b[0m\u001b[0mfilename\u001b[0m\u001b[0;34m)\u001b[0m\u001b[0;34m:\u001b[0m\u001b[0;34m\u001b[0m\u001b[0;34m\u001b[0m\u001b[0m\n\u001b[1;32m     49\u001b[0m     \u001b[0;34m\"\"\"Return the size of a file, reported by os.stat().\"\"\"\u001b[0m\u001b[0;34m\u001b[0m\u001b[0;34m\u001b[0m\u001b[0m\n\u001b[0;32m---> 50\u001b[0;31m     \u001b[0;32mreturn\u001b[0m \u001b[0mos\u001b[0m\u001b[0;34m.\u001b[0m\u001b[0mstat\u001b[0m\u001b[0;34m(\u001b[0m\u001b[0mfilename\u001b[0m\u001b[0;34m)\u001b[0m\u001b[0;34m.\u001b[0m\u001b[0mst_size\u001b[0m\u001b[0;34m\u001b[0m\u001b[0;34m\u001b[0m\u001b[0m\n\u001b[0m\u001b[1;32m     51\u001b[0m \u001b[0;34m\u001b[0m\u001b[0m\n\u001b[1;32m     52\u001b[0m \u001b[0;34m\u001b[0m\u001b[0m\n",
            "\u001b[0;31mFileNotFoundError\u001b[0m: [Errno 2] No such file or directory: 'anscombe.json'"
          ]
        }
      ],
      "source": [
        "import os\n",
        "\n",
        "# Current working directory\n",
        "print(os.getcwd())\n",
        "print(os.getcwdb())\n",
        "\n",
        "#  List of files and directories\n",
        "print(os.listdir())\n",
        "\n",
        "print(os.listdir('sample_data'))\n",
        "\n",
        "# Absolute path\n",
        "print(os.path.abspath('sample_data')) # C:\\Uttam\\Programming\\GFT_DEMOS\\Day5\\GFT_DEMOS\n",
        "\n",
        "os.rmdir('test')\n",
        "# check it is a directory or not\n",
        "os.mkdir('test')   # create director\n",
        "\n",
        "print(os.listdir())\n",
        "\n",
        "print(os.path.dirname('anscombe.json'))\n",
        "\n",
        "# size in bytes\n",
        "print(os.path.getsize('anscombe.json'))\n",
        "\n",
        "# checking its a file\n",
        "print(os.path.isfile('anscombe.json'))\n",
        "\n",
        "# checking its a directory\n",
        "print(os.path.isdir('anscombe.json'))\n",
        "\n",
        "# checking its a directory\n",
        "print(os.path.isdir('test')) # True\n",
        "\n",
        "print(os.listdir())\n",
        "\n",
        "# how to delete a file\n",
        "os.unlink('file1.txt')\n",
        "\n",
        "print(os.listdir())\n",
        "\n",
        "# os.remove('file2.txt')\n",
        "print(os.listdir())\n",
        "\n",
        "#Delete a directory\n",
        "os.rmdir('test') # remove empty directory\n",
        "print(os.listdir())\n",
        "\n",
        "# delete directory contain subfolders and file\n",
        "import shutil\n",
        "shutil.rmtree('test')\n",
        "print(os.listdir())"
      ]
    },
    {
      "cell_type": "markdown",
      "source": [
        "File operations:\n",
        "================\n",
        "\n",
        "\n",
        "*   open\n",
        "*   read\n",
        "*   write\n",
        "*   seek\n",
        "*   close\n",
        "*   \n",
        "\n",
        "\n",
        "\n",
        "\n",
        "\n"
      ],
      "metadata": {
        "id": "5tuEf960GLma"
      }
    },
    {
      "cell_type": "code",
      "source": [
        "f = open(\"test.txt\")      # equivalent to 'r' or 'rt'\n",
        "\n",
        "f = open(\"test.txt\",'w')  # write in text mode\n",
        "\n",
        "f = open(\"img.bmp\",'r+b') # read and write in binary mode"
      ],
      "metadata": {
        "colab": {
          "base_uri": "https://localhost:8080/",
          "height": 211
        },
        "id": "Io4Qg_KlD6gE",
        "outputId": "f1b7a35a-2454-46a1-ee61-3bb26166a924"
      },
      "execution_count": 12,
      "outputs": [
        {
          "output_type": "error",
          "ename": "FileNotFoundError",
          "evalue": "[Errno 2] No such file or directory: 'test.txt'",
          "traceback": [
            "\u001b[0;31m---------------------------------------------------------------------------\u001b[0m",
            "\u001b[0;31mFileNotFoundError\u001b[0m                         Traceback (most recent call last)",
            "\u001b[0;32m<ipython-input-12-5751f48dae91>\u001b[0m in \u001b[0;36m<cell line: 1>\u001b[0;34m()\u001b[0m\n\u001b[0;32m----> 1\u001b[0;31m \u001b[0mf\u001b[0m \u001b[0;34m=\u001b[0m \u001b[0mopen\u001b[0m\u001b[0;34m(\u001b[0m\u001b[0;34m\"test.txt\"\u001b[0m\u001b[0;34m)\u001b[0m      \u001b[0;31m# equivalent to 'r' or 'rt'\u001b[0m\u001b[0;34m\u001b[0m\u001b[0;34m\u001b[0m\u001b[0m\n\u001b[0m\u001b[1;32m      2\u001b[0m \u001b[0;34m\u001b[0m\u001b[0m\n\u001b[1;32m      3\u001b[0m \u001b[0mf\u001b[0m \u001b[0;34m=\u001b[0m \u001b[0mopen\u001b[0m\u001b[0;34m(\u001b[0m\u001b[0;34m\"test.txt\"\u001b[0m\u001b[0;34m,\u001b[0m\u001b[0;34m'w'\u001b[0m\u001b[0;34m)\u001b[0m  \u001b[0;31m# write in text mode\u001b[0m\u001b[0;34m\u001b[0m\u001b[0;34m\u001b[0m\u001b[0m\n\u001b[1;32m      4\u001b[0m \u001b[0;34m\u001b[0m\u001b[0m\n\u001b[1;32m      5\u001b[0m \u001b[0mf\u001b[0m \u001b[0;34m=\u001b[0m \u001b[0mopen\u001b[0m\u001b[0;34m(\u001b[0m\u001b[0;34m\"img.bmp\"\u001b[0m\u001b[0;34m,\u001b[0m\u001b[0;34m'r+b'\u001b[0m\u001b[0;34m)\u001b[0m \u001b[0;31m# read and write in binary mode\u001b[0m\u001b[0;34m\u001b[0m\u001b[0;34m\u001b[0m\u001b[0m\n",
            "\u001b[0;31mFileNotFoundError\u001b[0m: [Errno 2] No such file or directory: 'test.txt'"
          ]
        }
      ]
    },
    {
      "cell_type": "code",
      "source": [
        "f = open('myfile.txt','w',encoding='utf-8')\n",
        "\n",
        "if f:\n",
        "  print(\"file is opened successfully!\")"
      ],
      "metadata": {
        "colab": {
          "base_uri": "https://localhost:8080/"
        },
        "id": "ICR4Z1-AGXk2",
        "outputId": "dcd69632-b4fa-4646-ebc0-50f066faa916"
      },
      "execution_count": 13,
      "outputs": [
        {
          "output_type": "stream",
          "name": "stdout",
          "text": [
            "file is opened successfully!\n"
          ]
        }
      ]
    },
    {
      "cell_type": "code",
      "source": [
        "os.listdir"
      ],
      "metadata": {
        "colab": {
          "base_uri": "https://localhost:8080/"
        },
        "id": "cDenmv2FGeEe",
        "outputId": "449f63ee-3e11-4fa9-da87-829abc090dd2"
      },
      "execution_count": 14,
      "outputs": [
        {
          "output_type": "execute_result",
          "data": {
            "text/plain": [
              "<function posix.listdir(path=None)>"
            ]
          },
          "metadata": {},
          "execution_count": 14
        }
      ]
    },
    {
      "cell_type": "code",
      "source": [
        "# opens the file file.txt in read mode\n",
        "f = open('file1.txt','r',encoding='utf-8')\n",
        "\n",
        "if f:\n",
        "   print('File Opened successfully!')\n",
        "\n",
        "#closes the opened file\n",
        "print(\"Closing the file\")\n",
        "f.close()"
      ],
      "metadata": {
        "colab": {
          "base_uri": "https://localhost:8080/",
          "height": 211
        },
        "id": "BK64qFOMGj2b",
        "outputId": "23eb6b54-5d83-49b1-ce24-d22cb724e0f0"
      },
      "execution_count": 15,
      "outputs": [
        {
          "output_type": "error",
          "ename": "FileNotFoundError",
          "evalue": "[Errno 2] No such file or directory: 'file1.txt'",
          "traceback": [
            "\u001b[0;31m---------------------------------------------------------------------------\u001b[0m",
            "\u001b[0;31mFileNotFoundError\u001b[0m                         Traceback (most recent call last)",
            "\u001b[0;32m<ipython-input-15-a301a3cd2c8c>\u001b[0m in \u001b[0;36m<cell line: 2>\u001b[0;34m()\u001b[0m\n\u001b[1;32m      1\u001b[0m \u001b[0;31m# opens the file file.txt in read mode\u001b[0m\u001b[0;34m\u001b[0m\u001b[0;34m\u001b[0m\u001b[0m\n\u001b[0;32m----> 2\u001b[0;31m \u001b[0mf\u001b[0m \u001b[0;34m=\u001b[0m \u001b[0mopen\u001b[0m\u001b[0;34m(\u001b[0m\u001b[0;34m'file1.txt'\u001b[0m\u001b[0;34m,\u001b[0m\u001b[0;34m'r'\u001b[0m\u001b[0;34m,\u001b[0m\u001b[0mencoding\u001b[0m\u001b[0;34m=\u001b[0m\u001b[0;34m'utf-8'\u001b[0m\u001b[0;34m)\u001b[0m\u001b[0;34m\u001b[0m\u001b[0;34m\u001b[0m\u001b[0m\n\u001b[0m\u001b[1;32m      3\u001b[0m \u001b[0;34m\u001b[0m\u001b[0m\n\u001b[1;32m      4\u001b[0m \u001b[0;32mif\u001b[0m \u001b[0mf\u001b[0m\u001b[0;34m:\u001b[0m\u001b[0;34m\u001b[0m\u001b[0;34m\u001b[0m\u001b[0m\n\u001b[1;32m      5\u001b[0m    \u001b[0mprint\u001b[0m\u001b[0;34m(\u001b[0m\u001b[0;34m'File Opened successfully!'\u001b[0m\u001b[0;34m)\u001b[0m\u001b[0;34m\u001b[0m\u001b[0;34m\u001b[0m\u001b[0m\n",
            "\u001b[0;31mFileNotFoundError\u001b[0m: [Errno 2] No such file or directory: 'file1.txt'"
          ]
        }
      ]
    },
    {
      "cell_type": "code",
      "source": [
        "# opens the file file.txt in read mode\n",
        "try:\n",
        "\tf = open('file1.txt','r',encoding='utf-8')\n",
        "\t # perform file operations\n",
        "\tif f:\n",
        "   \t\tprint('File Opened successfully!')\n",
        "\n",
        "#closes the opened file\n",
        "finally:\n",
        "\tprint(\"Closing the file\")\n",
        "\tf.close()"
      ],
      "metadata": {
        "colab": {
          "base_uri": "https://localhost:8080/",
          "height": 228
        },
        "id": "4COMwo7eGva2",
        "outputId": "74a4b2b9-e292-45d3-f5ff-99533e792c58"
      },
      "execution_count": 16,
      "outputs": [
        {
          "output_type": "stream",
          "name": "stdout",
          "text": [
            "Closing the file\n"
          ]
        },
        {
          "output_type": "error",
          "ename": "FileNotFoundError",
          "evalue": "[Errno 2] No such file or directory: 'file1.txt'",
          "traceback": [
            "\u001b[0;31m---------------------------------------------------------------------------\u001b[0m",
            "\u001b[0;31mFileNotFoundError\u001b[0m                         Traceback (most recent call last)",
            "\u001b[0;32m<ipython-input-16-0892e5a7381f>\u001b[0m in \u001b[0;36m<cell line: 2>\u001b[0;34m()\u001b[0m\n\u001b[1;32m      1\u001b[0m \u001b[0;31m# opens the file file.txt in read mode\u001b[0m\u001b[0;34m\u001b[0m\u001b[0;34m\u001b[0m\u001b[0m\n\u001b[1;32m      2\u001b[0m \u001b[0;32mtry\u001b[0m\u001b[0;34m:\u001b[0m\u001b[0;34m\u001b[0m\u001b[0;34m\u001b[0m\u001b[0m\n\u001b[0;32m----> 3\u001b[0;31m         \u001b[0mf\u001b[0m \u001b[0;34m=\u001b[0m \u001b[0mopen\u001b[0m\u001b[0;34m(\u001b[0m\u001b[0;34m'file1.txt'\u001b[0m\u001b[0;34m,\u001b[0m\u001b[0;34m'r'\u001b[0m\u001b[0;34m,\u001b[0m\u001b[0mencoding\u001b[0m\u001b[0;34m=\u001b[0m\u001b[0;34m'utf-8'\u001b[0m\u001b[0;34m)\u001b[0m\u001b[0;34m\u001b[0m\u001b[0;34m\u001b[0m\u001b[0m\n\u001b[0m\u001b[1;32m      4\u001b[0m          \u001b[0;31m# perform file operations\u001b[0m\u001b[0;34m\u001b[0m\u001b[0;34m\u001b[0m\u001b[0m\n\u001b[1;32m      5\u001b[0m         \u001b[0;32mif\u001b[0m \u001b[0mf\u001b[0m\u001b[0;34m:\u001b[0m\u001b[0;34m\u001b[0m\u001b[0;34m\u001b[0m\u001b[0m\n",
            "\u001b[0;31mFileNotFoundError\u001b[0m: [Errno 2] No such file or directory: 'file1.txt'"
          ]
        }
      ]
    },
    {
      "cell_type": "code",
      "source": [
        "with open('myfile.txt','r', encoding='utf-8') as f:\n",
        "  # perform file operations\n",
        "  pass"
      ],
      "metadata": {
        "id": "YBMHbYtYG6j5"
      },
      "execution_count": 17,
      "outputs": []
    },
    {
      "cell_type": "code",
      "source": [
        "# Write a text file\n",
        "with open(\"text.txt\",\"w\") as f:\n",
        "    # file operation\n",
        "    f.write(\"This is the first line\\n\")\n",
        "    f.write(\"This is the second line\\n\")\n",
        "    f.write(\"This is the third line\\n\")\n",
        "\n",
        "    # current mode of the file\n",
        "    print(\"Mode: \", f.mode)\n",
        "    #Is it seekable\n",
        "    print(\"whether seekable? \", f.seekable()) #True\n",
        "\n",
        "    # is it readbale\n",
        "    print(\"wherether readable? \", f.readable()) #False\n",
        "\n",
        "    # is it writable\n",
        "    print(\"wherether writable? \", f.writable()) #True\n",
        "\n",
        "    print(\"Done....\")"
      ],
      "metadata": {
        "colab": {
          "base_uri": "https://localhost:8080/"
        },
        "id": "VmGrGzJyHEV7",
        "outputId": "e03f6d00-f2c7-4fbd-fcdc-8691c2fa777a"
      },
      "execution_count": 18,
      "outputs": [
        {
          "output_type": "stream",
          "name": "stdout",
          "text": [
            "Mode:  w\n",
            "whether seekable?  True\n",
            "wherether readable?  False\n",
            "wherether writable?  True\n",
            "Done....\n"
          ]
        }
      ]
    },
    {
      "cell_type": "code",
      "source": [
        "# Read a file\n",
        "with open(\"text.txt\",'r') as f:\n",
        "  #file operation\n",
        "  print(\"Reading the file...\")\n",
        "  print(f.read()) # read the entire file\n",
        "  print(f.tell()) # tell me the current file position\n",
        "  f.seek(0) #bring the file cursor to the initial position"
      ],
      "metadata": {
        "colab": {
          "base_uri": "https://localhost:8080/"
        },
        "id": "kx_CcTuEHJOQ",
        "outputId": "fa805c4a-dbf4-435a-ad9f-cf171159ceec"
      },
      "execution_count": 21,
      "outputs": [
        {
          "output_type": "stream",
          "name": "stdout",
          "text": [
            "Reading the file...\n",
            "This is the first line\n",
            "This is the second line\n",
            "This is the third line\n",
            "\n",
            "70\n"
          ]
        }
      ]
    },
    {
      "cell_type": "code",
      "source": [
        "# Open the file in read mode\n",
        "with open('text.txt', 'r') as file:\n",
        "    # Read the first line\n",
        "    first_line = file.readline()\n",
        "    print(\"First line:\", first_line)\n",
        "\n",
        "    # Read the second line\n",
        "    second_line = file.readline()\n",
        "    print(\"Second line:\", second_line)\n",
        "\n",
        "    # If you want to continue reading lines, you can keep calling readline()\n",
        "    # When readline() returns an empty string, it means the end of the file has been reached"
      ],
      "metadata": {
        "colab": {
          "base_uri": "https://localhost:8080/"
        },
        "id": "Mm9WtTzbHbMo",
        "outputId": "4cdb7a8f-0de9-4031-f6c1-390ff51f6828"
      },
      "execution_count": 23,
      "outputs": [
        {
          "output_type": "stream",
          "name": "stdout",
          "text": [
            "First line: This is the first line\n",
            "\n",
            "Second line: This is the second line\n",
            "\n"
          ]
        }
      ]
    },
    {
      "cell_type": "code",
      "source": [
        "# Open the file in read mode\n",
        "with open('text.txt', 'r') as file:\n",
        "    lines = file.readlines()\n",
        "    for line in lines:\n",
        "        print(line.strip())  # Remove newline characters"
      ],
      "metadata": {
        "colab": {
          "base_uri": "https://localhost:8080/"
        },
        "id": "FrqZZuTBHsOZ",
        "outputId": "429a1031-f18a-4fef-e0f6-b938d04c5c45"
      },
      "execution_count": 24,
      "outputs": [
        {
          "output_type": "stream",
          "name": "stdout",
          "text": [
            "This is the first line\n",
            "This is the second line\n",
            "This is the third line\n"
          ]
        }
      ]
    },
    {
      "cell_type": "code",
      "source": [
        "# Open the file in read mode\n",
        "with open('text.txt', 'r') as file:\n",
        " print(\"Is the file seekable?\", file.seekable()) #True\n",
        " print(\"Is the file readable?\", file.readable()) #True\n",
        " print(\"Is the file writable?\", file.writable()) #False"
      ],
      "metadata": {
        "colab": {
          "base_uri": "https://localhost:8080/"
        },
        "id": "eite-sEYH047",
        "outputId": "b7aaa346-3fc2-49da-8945-64e5a4183bfe"
      },
      "execution_count": 25,
      "outputs": [
        {
          "output_type": "stream",
          "name": "stdout",
          "text": [
            "Is the file seekable? True\n",
            "Is the file readable? True\n",
            "Is the file writable? False\n"
          ]
        }
      ]
    },
    {
      "cell_type": "markdown",
      "source": [
        "csv reader  \n"
      ],
      "metadata": {
        "id": "nmOQ8FA6ICOl"
      }
    },
    {
      "cell_type": "code",
      "source": [
        "import csv\n",
        "\n",
        "# Data to be written to the CSV file\n",
        "data = [\n",
        " ['Name', 'Age', 'City'],\n",
        " ['Alice', 28, 'New York'],\n",
        " ['Bob', 22, 'Los Angeles']\n",
        "]\n",
        "\n",
        "# Open the file in write mode\n",
        "with open('example.csv', 'w', newline='') as file:\n",
        " writer = csv.writer(file)\n",
        " # Write the data\n",
        " writer.writerows(data)\n"
      ],
      "metadata": {
        "id": "Tjgn7rZlH5Ao"
      },
      "execution_count": 26,
      "outputs": []
    },
    {
      "cell_type": "code",
      "source": [
        "import csv\n",
        "\n",
        "# Open the file in read mode\n",
        "with open('example.csv', 'r') as file:\n",
        " reader = csv.reader(file)\n",
        " # Read each row in the file\n",
        " for row in reader:\n",
        "  print(row)\n"
      ],
      "metadata": {
        "colab": {
          "base_uri": "https://localhost:8080/"
        },
        "id": "yE6RnARHIJoq",
        "outputId": "13cb4c1a-13d6-4266-a216-edb031b1febe"
      },
      "execution_count": 27,
      "outputs": [
        {
          "output_type": "stream",
          "name": "stdout",
          "text": [
            "['Name', 'Age', 'City']\n",
            "['Alice', '28', 'New York']\n",
            "['Bob', '22', 'Los Angeles']\n"
          ]
        }
      ]
    },
    {
      "cell_type": "code",
      "source": [
        "import csv\n",
        "\n",
        "# Open the file in read mode\n",
        "with open('example.csv', 'r') as file:\n",
        " reader = csv.DictReader(file)\n",
        " # Read each row in the file\n",
        " for row in reader:\n",
        "  print(dict(row))\n"
      ],
      "metadata": {
        "colab": {
          "base_uri": "https://localhost:8080/"
        },
        "id": "cBk_87eUINfQ",
        "outputId": "9c830dc4-3186-4a55-ac50-52523dfb3a9e"
      },
      "execution_count": 28,
      "outputs": [
        {
          "output_type": "stream",
          "name": "stdout",
          "text": [
            "{'Name': 'Alice', 'Age': '28', 'City': 'New York'}\n",
            "{'Name': 'Bob', 'Age': '22', 'City': 'Los Angeles'}\n"
          ]
        }
      ]
    },
    {
      "cell_type": "code",
      "source": [],
      "metadata": {
        "id": "daa0YBmCIb0Z"
      },
      "execution_count": null,
      "outputs": []
    }
  ]
}