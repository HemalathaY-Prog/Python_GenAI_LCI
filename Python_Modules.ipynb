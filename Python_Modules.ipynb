{
  "nbformat": 4,
  "nbformat_minor": 0,
  "metadata": {
    "colab": {
      "provenance": [],
      "authorship_tag": "ABX9TyPpJYS0lADPzL/JCcdjpqaX",
      "include_colab_link": true
    },
    "kernelspec": {
      "name": "python3",
      "display_name": "Python 3"
    },
    "language_info": {
      "name": "python"
    }
  },
  "cells": [
    {
      "cell_type": "markdown",
      "metadata": {
        "id": "view-in-github",
        "colab_type": "text"
      },
      "source": [
        "<a href=\"https://colab.research.google.com/github/HemalathaY-Prog/Python_GenAI_LCI/blob/main/Python_Modules.ipynb\" target=\"_parent\"><img src=\"https://colab.research.google.com/assets/colab-badge.svg\" alt=\"Open In Colab\"/></a>"
      ]
    },
    {
      "cell_type": "markdown",
      "source": [
        "Python Module\n",
        "\n",
        "its a file containing definitions and statements.it can have a set of functions,classes or varibles defined and iplemented.It provide a way to reuse code across different projects.they are loaded into a python script using the 'import' statement"
      ],
      "metadata": {
        "id": "YPO2NAych7Kw"
      }
    },
    {
      "cell_type": "code",
      "execution_count": 1,
      "metadata": {
        "colab": {
          "base_uri": "https://localhost:8080/"
        },
        "id": "geRlci8JgvjJ",
        "outputId": "c771c65a-5a16-4d7c-e1e8-706b8a3abb49"
      },
      "outputs": [
        {
          "output_type": "stream",
          "name": "stdout",
          "text": [
            "4.0\n"
          ]
        }
      ],
      "source": [
        "# Import the math module\n",
        "import math\n",
        "\n",
        "# Use a function provided by the module\n",
        "print(math.sqrt(16))\n",
        "\n",
        "#OUTPUT:  4.0\n",
        "\n",
        "#Note: To access python files in different directories ,you may need to modify your PYTHONPATH or sys.path."
      ]
    },
    {
      "cell_type": "code",
      "source": [
        "# import standard math module\n",
        "import math\n",
        "\n",
        "# use math.pi to get value of pi\n",
        "print(\"The value of pi is\", math.pi)\n",
        "\n",
        "#OUTPUT: The value of pi is 3.141592653589793"
      ],
      "metadata": {
        "colab": {
          "base_uri": "https://localhost:8080/"
        },
        "id": "XxQq0JSIiYZE",
        "outputId": "569ea7f1-9981-41dd-a9eb-822dd27cea4c"
      },
      "execution_count": 2,
      "outputs": [
        {
          "output_type": "stream",
          "name": "stdout",
          "text": [
            "The value of pi is 3.141592653589793\n"
          ]
        }
      ]
    },
    {
      "cell_type": "code",
      "source": [
        "#python import with renaming\n",
        "# import module by renaming it\n",
        "import math as m\n",
        "\n",
        "print(m.pi)\n",
        "\n",
        "# Output: 3.141592653589793"
      ],
      "metadata": {
        "colab": {
          "base_uri": "https://localhost:8080/"
        },
        "id": "AmXSORHnnAcK",
        "outputId": "79c18288-38ff-450b-be41-adfc5b68bc6c"
      },
      "execution_count": 3,
      "outputs": [
        {
          "output_type": "stream",
          "name": "stdout",
          "text": [
            "3.141592653589793\n"
          ]
        }
      ]
    },
    {
      "cell_type": "code",
      "source": [
        "#from import\n",
        "\n",
        "# Import only pi from the math module\n",
        "from math import pi\n",
        "\n",
        "print(pi)\n",
        "# Output: 3.141592653589793"
      ],
      "metadata": {
        "colab": {
          "base_uri": "https://localhost:8080/"
        },
        "id": "SoZJjXblnGqN",
        "outputId": "e6ad1ee2-3f7a-47e1-cfd7-45bd381f4d3b"
      },
      "execution_count": 4,
      "outputs": [
        {
          "output_type": "stream",
          "name": "stdout",
          "text": [
            "3.141592653589793\n"
          ]
        }
      ]
    },
    {
      "cell_type": "code",
      "source": [
        "# import all names from the standard module math\n",
        "from math import *\n",
        "\n",
        "print(\"The value of pi is\", pi)\n",
        "\n",
        "#OUTPUT: The value of pi is 3.141592653589793"
      ],
      "metadata": {
        "colab": {
          "base_uri": "https://localhost:8080/"
        },
        "id": "Q2D2RuAEnKsX",
        "outputId": "59d7f1a6-45fc-4731-b72f-e5af73a85ee3"
      },
      "execution_count": 5,
      "outputs": [
        {
          "output_type": "stream",
          "name": "stdout",
          "text": [
            "The value of pi is 3.141592653589793\n"
          ]
        }
      ]
    },
    {
      "cell_type": "markdown",
      "source": [
        "__name__ built-in global variable\n",
        "\n",
        "*   it is a built-in global variable.it is a special variable that the python interpreter automatically assigns.its main use is to determine whether a script is being run directly or being imported as a module.\n",
        "\n",
        "* when a python file is run directly , the python interpreter sets the __name__ variable to __main__.\n",
        "\n",
        "*   so if you have some code in your script that you only want to run the script is run directly (and not when its imported as a module), you can use an if statement like this:\n",
        "\n",
        "    if __name__ == '__main__':\n",
        "       #code to run only when the script is run directly\n",
        "\n",
        "*   However,when a python file is imported as a module into another script ,the python interpreter sets the __name__ variable to the name of the imported module.\n",
        "\n",
        "\n",
        "\n",
        "\n",
        "\n"
      ],
      "metadata": {
        "id": "ewzTtsb4nVqj"
      }
    },
    {
      "cell_type": "code",
      "source": [],
      "metadata": {
        "id": "flhuPxRinQrY"
      },
      "execution_count": null,
      "outputs": []
    }
  ]
}